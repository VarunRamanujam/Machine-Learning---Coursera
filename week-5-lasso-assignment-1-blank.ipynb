{
 "cells": [
  {
   "cell_type": "markdown",
   "metadata": {},
   "source": [
    "# Regression Week 5: Feature Selection and LASSO (Interpretation)"
   ]
  },
  {
   "cell_type": "markdown",
   "metadata": {},
   "source": [
    "In this notebook, you will use LASSO to select features, building on a pre-implemented solver for LASSO (using GraphLab Create, though you can use other solvers). You will:\n",
    "* Run LASSO with different L1 penalties.\n",
    "* Choose best L1 penalty using a validation set.\n",
    "* Choose best L1 penalty using a validation set, with additional constraint on the size of subset.\n",
    "\n",
    "In the second notebook, you will implement your own LASSO solver, using coordinate descent. "
   ]
  },
  {
   "cell_type": "markdown",
   "metadata": {},
   "source": [
    "# Fire up graphlab create"
   ]
  },
  {
   "cell_type": "code",
   "execution_count": 1,
   "metadata": {
    "collapsed": false
   },
   "outputs": [
    {
     "name": "stderr",
     "output_type": "stream",
     "text": [
      "A newer version of GraphLab Create (v2.1) is available! Your current version is v1.10.1.\n",
      "\n",
      "You can use pip to upgrade the graphlab-create package. For more information see https://dato.com/products/create/upgrade.\n"
     ]
    }
   ],
   "source": [
    "import graphlab"
   ]
  },
  {
   "cell_type": "markdown",
   "metadata": {},
   "source": [
    "# Load in house sales data\n",
    "\n",
    "Dataset is from house sales in King County, the region where the city of Seattle, WA is located."
   ]
  },
  {
   "cell_type": "code",
   "execution_count": 2,
   "metadata": {
    "collapsed": false,
    "scrolled": true
   },
   "outputs": [
    {
     "name": "stderr",
     "output_type": "stream",
     "text": [
      "[INFO] graphlab.cython.cy_server: GraphLab Create v1.10.1 started. Logging: /tmp/graphlab_server_1471312171.log\n",
      "INFO:graphlab.cython.cy_server:GraphLab Create v1.10.1 started. Logging: /tmp/graphlab_server_1471312171.log\n"
     ]
    },
    {
     "name": "stdout",
     "output_type": "stream",
     "text": [
      "This non-commercial license of GraphLab Create for academic use is assigned to varun.ramanujam@fmr.com and will expire on January 23, 2017.\n"
     ]
    }
   ],
   "source": [
    "sales = graphlab.SFrame('kc_house_data.gl/')"
   ]
  },
  {
   "cell_type": "markdown",
   "metadata": {},
   "source": [
    "# Create new features"
   ]
  },
  {
   "cell_type": "markdown",
   "metadata": {},
   "source": [
    "As in Week 2, we consider features that are some transformations of inputs."
   ]
  },
  {
   "cell_type": "code",
   "execution_count": 3,
   "metadata": {
    "collapsed": true
   },
   "outputs": [],
   "source": [
    "from math import log, sqrt\n",
    "sales['sqft_living_sqrt'] = sales['sqft_living'].apply(sqrt)\n",
    "sales['sqft_lot_sqrt'] = sales['sqft_lot'].apply(sqrt)\n",
    "sales['bedrooms_square'] = sales['bedrooms']*sales['bedrooms']\n",
    "\n",
    "# In the dataset, 'floors' was defined with type string, \n",
    "# so we'll convert them to float, before creating a new feature.\n",
    "sales['floors'] = sales['floors'].astype(float) \n",
    "sales['floors_square'] = sales['floors']*sales['floors']"
   ]
  },
  {
   "cell_type": "markdown",
   "metadata": {},
   "source": [
    "* Squaring bedrooms will increase the separation between not many bedrooms (e.g. 1) and lots of bedrooms (e.g. 4) since 1^2 = 1 but 4^2 = 16. Consequently this variable will mostly affect houses with many bedrooms.\n",
    "* On the other hand, taking square root of sqft_living will decrease the separation between big house and small house. The owner may not be exactly twice as happy for getting a house that is twice as big."
   ]
  },
  {
   "cell_type": "markdown",
   "metadata": {},
   "source": [
    "# Learn regression weights with L1 penalty"
   ]
  },
  {
   "cell_type": "markdown",
   "metadata": {},
   "source": [
    "Let us fit a model with all the features available, plus the features we just created above."
   ]
  },
  {
   "cell_type": "code",
   "execution_count": 4,
   "metadata": {
    "collapsed": false
   },
   "outputs": [],
   "source": [
    "all_features = ['bedrooms', 'bedrooms_square',\n",
    "            'bathrooms',\n",
    "            'sqft_living', 'sqft_living_sqrt',\n",
    "            'sqft_lot', 'sqft_lot_sqrt',\n",
    "            'floors', 'floors_square',\n",
    "            'waterfront', 'view', 'condition', 'grade',\n",
    "            'sqft_above',\n",
    "            'sqft_basement',\n",
    "            'yr_built', 'yr_renovated']"
   ]
  },
  {
   "cell_type": "markdown",
   "metadata": {},
   "source": [
    "Applying L1 penalty requires adding an extra parameter (`l1_penalty`) to the linear regression call in GraphLab Create. (Other tools may have separate implementations of LASSO.)  Note that it's important to set `l2_penalty=0` to ensure we don't introduce an additional L2 penalty."
   ]
  },
  {
   "cell_type": "code",
   "execution_count": 5,
   "metadata": {
    "collapsed": false
   },
   "outputs": [
    {
     "data": {
      "text/html": [
       "<pre>Linear regression:</pre>"
      ],
      "text/plain": [
       "Linear regression:"
      ]
     },
     "metadata": {},
     "output_type": "display_data"
    },
    {
     "data": {
      "text/html": [
       "<pre>--------------------------------------------------------</pre>"
      ],
      "text/plain": [
       "--------------------------------------------------------"
      ]
     },
     "metadata": {},
     "output_type": "display_data"
    },
    {
     "data": {
      "text/html": [
       "<pre>Number of examples          : 21613</pre>"
      ],
      "text/plain": [
       "Number of examples          : 21613"
      ]
     },
     "metadata": {},
     "output_type": "display_data"
    },
    {
     "data": {
      "text/html": [
       "<pre>Number of features          : 17</pre>"
      ],
      "text/plain": [
       "Number of features          : 17"
      ]
     },
     "metadata": {},
     "output_type": "display_data"
    },
    {
     "data": {
      "text/html": [
       "<pre>Number of unpacked features : 17</pre>"
      ],
      "text/plain": [
       "Number of unpacked features : 17"
      ]
     },
     "metadata": {},
     "output_type": "display_data"
    },
    {
     "data": {
      "text/html": [
       "<pre>Number of coefficients    : 18</pre>"
      ],
      "text/plain": [
       "Number of coefficients    : 18"
      ]
     },
     "metadata": {},
     "output_type": "display_data"
    },
    {
     "data": {
      "text/html": [
       "<pre>Starting Accelerated Gradient (FISTA)</pre>"
      ],
      "text/plain": [
       "Starting Accelerated Gradient (FISTA)"
      ]
     },
     "metadata": {},
     "output_type": "display_data"
    },
    {
     "data": {
      "text/html": [
       "<pre>--------------------------------------------------------</pre>"
      ],
      "text/plain": [
       "--------------------------------------------------------"
      ]
     },
     "metadata": {},
     "output_type": "display_data"
    },
    {
     "data": {
      "text/html": [
       "<pre>+-----------+----------+-----------+--------------+--------------------+---------------+</pre>"
      ],
      "text/plain": [
       "+-----------+----------+-----------+--------------+--------------------+---------------+"
      ]
     },
     "metadata": {},
     "output_type": "display_data"
    },
    {
     "data": {
      "text/html": [
       "<pre>| Iteration | Passes   | Step size | Elapsed Time | Training-max_error | Training-rmse |</pre>"
      ],
      "text/plain": [
       "| Iteration | Passes   | Step size | Elapsed Time | Training-max_error | Training-rmse |"
      ]
     },
     "metadata": {},
     "output_type": "display_data"
    },
    {
     "data": {
      "text/html": [
       "<pre>+-----------+----------+-----------+--------------+--------------------+---------------+</pre>"
      ],
      "text/plain": [
       "+-----------+----------+-----------+--------------+--------------------+---------------+"
      ]
     },
     "metadata": {},
     "output_type": "display_data"
    },
    {
     "data": {
      "text/html": [
       "<pre>Tuning step size. First iteration could take longer than subsequent iterations.</pre>"
      ],
      "text/plain": [
       "Tuning step size. First iteration could take longer than subsequent iterations."
      ]
     },
     "metadata": {},
     "output_type": "display_data"
    },
    {
     "data": {
      "text/html": [
       "<pre>| 1         | 2        | 0.000002  | 1.275693     | 6962915.603493     | 426631.749026 |</pre>"
      ],
      "text/plain": [
       "| 1         | 2        | 0.000002  | 1.275693     | 6962915.603493     | 426631.749026 |"
      ]
     },
     "metadata": {},
     "output_type": "display_data"
    },
    {
     "data": {
      "text/html": [
       "<pre>| 2         | 3        | 0.000002  | 1.301058     | 6843144.200219     | 392488.929838 |</pre>"
      ],
      "text/plain": [
       "| 2         | 3        | 0.000002  | 1.301058     | 6843144.200219     | 392488.929838 |"
      ]
     },
     "metadata": {},
     "output_type": "display_data"
    },
    {
     "data": {
      "text/html": [
       "<pre>| 3         | 4        | 0.000002  | 1.328977     | 6831900.032123     | 385340.166783 |</pre>"
      ],
      "text/plain": [
       "| 3         | 4        | 0.000002  | 1.328977     | 6831900.032123     | 385340.166783 |"
      ]
     },
     "metadata": {},
     "output_type": "display_data"
    },
    {
     "data": {
      "text/html": [
       "<pre>| 4         | 5        | 0.000002  | 1.360460     | 6847166.848958     | 384842.383767 |</pre>"
      ],
      "text/plain": [
       "| 4         | 5        | 0.000002  | 1.360460     | 6847166.848958     | 384842.383767 |"
      ]
     },
     "metadata": {},
     "output_type": "display_data"
    },
    {
     "data": {
      "text/html": [
       "<pre>| 5         | 6        | 0.000002  | 1.393662     | 6869667.895833     | 385998.458623 |</pre>"
      ],
      "text/plain": [
       "| 5         | 6        | 0.000002  | 1.393662     | 6869667.895833     | 385998.458623 |"
      ]
     },
     "metadata": {},
     "output_type": "display_data"
    },
    {
     "data": {
      "text/html": [
       "<pre>| 6         | 7        | 0.000002  | 1.427450     | 6847177.773672     | 380824.455891 |</pre>"
      ],
      "text/plain": [
       "| 6         | 7        | 0.000002  | 1.427450     | 6847177.773672     | 380824.455891 |"
      ]
     },
     "metadata": {},
     "output_type": "display_data"
    },
    {
     "data": {
      "text/html": [
       "<pre>+-----------+----------+-----------+--------------+--------------------+---------------+</pre>"
      ],
      "text/plain": [
       "+-----------+----------+-----------+--------------+--------------------+---------------+"
      ]
     },
     "metadata": {},
     "output_type": "display_data"
    },
    {
     "data": {
      "text/html": [
       "<pre>TERMINATED: Iteration limit reached.</pre>"
      ],
      "text/plain": [
       "TERMINATED: Iteration limit reached."
      ]
     },
     "metadata": {},
     "output_type": "display_data"
    },
    {
     "data": {
      "text/html": [
       "<pre>This model may not be optimal. To improve it, consider increasing `max_iterations`.</pre>"
      ],
      "text/plain": [
       "This model may not be optimal. To improve it, consider increasing `max_iterations`."
      ]
     },
     "metadata": {},
     "output_type": "display_data"
    }
   ],
   "source": [
    "model_all = graphlab.linear_regression.create(sales, target='price', features=all_features,\n",
    "                                              validation_set=None, \n",
    "                                              l2_penalty=0., l1_penalty=1e10)"
   ]
  },
  {
   "cell_type": "markdown",
   "metadata": {},
   "source": [
    "Find what features had non-zero weight."
   ]
  },
  {
   "cell_type": "code",
   "execution_count": 6,
   "metadata": {
    "collapsed": false
   },
   "outputs": [
    {
     "name": "stdout",
     "output_type": "stream",
     "text": [
      "+------------------+-------+---------------+--------+\n",
      "|       name       | index |     value     | stderr |\n",
      "+------------------+-------+---------------+--------+\n",
      "|   (intercept)    |  None |  274873.05595 |  None  |\n",
      "|     bedrooms     |  None |      0.0      |  None  |\n",
      "| bedrooms_square  |  None |      0.0      |  None  |\n",
      "|    bathrooms     |  None | 8468.53108691 |  None  |\n",
      "|   sqft_living    |  None | 24.4207209824 |  None  |\n",
      "| sqft_living_sqrt |  None | 350.060553386 |  None  |\n",
      "|     sqft_lot     |  None |      0.0      |  None  |\n",
      "|  sqft_lot_sqrt   |  None |      0.0      |  None  |\n",
      "|      floors      |  None |      0.0      |  None  |\n",
      "|  floors_square   |  None |      0.0      |  None  |\n",
      "|    waterfront    |  None |      0.0      |  None  |\n",
      "|       view       |  None |      0.0      |  None  |\n",
      "|    condition     |  None |      0.0      |  None  |\n",
      "|      grade       |  None | 842.068034898 |  None  |\n",
      "|    sqft_above    |  None | 20.0247224171 |  None  |\n",
      "|  sqft_basement   |  None |      0.0      |  None  |\n",
      "|     yr_built     |  None |      0.0      |  None  |\n",
      "|   yr_renovated   |  None |      0.0      |  None  |\n",
      "+------------------+-------+---------------+--------+\n",
      "[18 rows x 4 columns]\n",
      "\n"
     ]
    }
   ],
   "source": [
    "model_all.get(\"coefficients\").print_rows(20)\n"
   ]
  },
  {
   "cell_type": "markdown",
   "metadata": {},
   "source": [
    "Note that a majority of the weights have been set to zero. So by setting an L1 penalty that's large enough, we are performing a subset selection. \n",
    "\n",
    "***QUIZ QUESTION***:\n",
    "According to this list of weights, which of the features have been chosen? "
   ]
  },
  {
   "cell_type": "markdown",
   "metadata": {},
   "source": [
    "# Selecting an L1 penalty"
   ]
  },
  {
   "cell_type": "markdown",
   "metadata": {},
   "source": [
    "To find a good L1 penalty, we will explore multiple values using a validation set. Let us do three way split into train, validation, and test sets:\n",
    "* Split our sales data into 2 sets: training and test\n",
    "* Further split our training data into two sets: train, validation\n",
    "\n",
    "Be *very* careful that you use seed = 1 to ensure you get the same answer!"
   ]
  },
  {
   "cell_type": "code",
   "execution_count": 7,
   "metadata": {
    "collapsed": true
   },
   "outputs": [],
   "source": [
    "(training_and_validation, testing) = sales.random_split(.9,seed=1) # initial train/test split\n",
    "(training, validation) = training_and_validation.random_split(0.5, seed=1) # split training into train and validate"
   ]
  },
  {
   "cell_type": "markdown",
   "metadata": {},
   "source": [
    "Next, we write a loop that does the following:\n",
    "* For `l1_penalty` in [10^1, 10^1.5, 10^2, 10^2.5, ..., 10^7] (to get this in Python, type `np.logspace(1, 7, num=13)`.)\n",
    "    * Fit a regression model with a given `l1_penalty` on TRAIN data. Specify `l1_penalty=l1_penalty` and `l2_penalty=0.` in the parameter list.\n",
    "    * Compute the RSS on VALIDATION data (here you will want to use `.predict()`) for that `l1_penalty`\n",
    "* Report which `l1_penalty` produced the lowest RSS on validation data.\n",
    "\n",
    "When you call `linear_regression.create()` make sure you set `validation_set = None`.\n",
    "\n",
    "Note: you can turn off the print out of `linear_regression.create()` with `verbose = False`"
   ]
  },
  {
   "cell_type": "code",
   "execution_count": 8,
   "metadata": {
    "collapsed": false
   },
   "outputs": [
    {
     "name": "stdout",
     "output_type": "stream",
     "text": [
      "RSS:6.25766285142e+14  l1_penalty:10.0\n",
      "RSS:6.25766285362e+14  l1_penalty:31.6227766017\n",
      "RSS:6.25766286058e+14  l1_penalty:100.0\n",
      "RSS:6.25766288257e+14  l1_penalty:316.227766017\n",
      "RSS:6.25766295212e+14  l1_penalty:1000.0\n",
      "RSS:6.25766317206e+14  l1_penalty:3162.27766017\n",
      "RSS:6.25766386761e+14  l1_penalty:10000.0\n",
      "RSS:6.25766606749e+14  l1_penalty:31622.7766017\n",
      "RSS:6.25767302792e+14  l1_penalty:100000.0\n",
      "RSS:6.25769507644e+14  l1_penalty:316227.766017\n",
      "RSS:6.25776517727e+14  l1_penalty:1000000.0\n",
      "RSS:6.25799062845e+14  l1_penalty:3162277.66017\n",
      "RSS:6.25883719085e+14  l1_penalty:10000000.0\n"
     ]
    }
   ],
   "source": [
    "import numpy as np\n",
    "for l1_penalty in np.logspace(1,7, num=13):\n",
    "    model_l1p = graphlab.linear_regression.create(training, target='price', features=all_features,\n",
    "                                              validation_set=None, \n",
    "                                              l2_penalty=0., l1_penalty=l1_penalty, verbose=False)\n",
    "    vprediction = model_l1p.predict(validation)\n",
    "    error = vprediction - validation['price']\n",
    "    RSS = sum(error*error)\n",
    "    print \"RSS:\"+ str(RSS)+'  ' + \"l1_penalty:\"+str(l1_penalty)\n",
    "    "
   ]
  },
  {
   "cell_type": "code",
   "execution_count": null,
   "metadata": {
    "collapsed": false
   },
   "outputs": [],
   "source": []
  },
  {
   "cell_type": "markdown",
   "metadata": {},
   "source": [
    "*** QUIZ QUESTIONS ***\n",
    "1. What was the best value for the `l1_penalty`?\n",
    "2. What is the RSS on TEST data of the model with the best `l1_penalty`?"
   ]
  },
  {
   "cell_type": "code",
   "execution_count": 9,
   "metadata": {
    "collapsed": false
   },
   "outputs": [
    {
     "name": "stdout",
     "output_type": "stream",
     "text": [
      "RSS_T:1.56972779669e+14  l1_penalty:10.0\n",
      "+------------------+-------+--------------------+--------+\n",
      "|       name       | index |       value        | stderr |\n",
      "+------------------+-------+--------------------+--------+\n",
      "|   (intercept)    |  None |   19604.7163508    |  None  |\n",
      "|     bedrooms     |  None |   7922.62023075    |  None  |\n",
      "| bedrooms_square  |  None |   928.112147889    |  None  |\n",
      "|    bathrooms     |  None |    25392.743443    |  None  |\n",
      "|   sqft_living    |  None |   39.1083048767    |  None  |\n",
      "| sqft_living_sqrt |  None |   1123.95233925    |  None  |\n",
      "|     sqft_lot     |  None | -0.000823987151992 |  None  |\n",
      "|  sqft_lot_sqrt   |  None |   147.859054391    |  None  |\n",
      "|      floors      |  None |    21154.353574    |  None  |\n",
      "|  floors_square   |  None |    12871.042877    |  None  |\n",
      "|    waterfront    |  None |   598538.378522    |  None  |\n",
      "|       view       |  None |   93089.3048849    |  None  |\n",
      "|    condition     |  None |   6584.64358167    |  None  |\n",
      "|      grade       |  None |   6200.37319739    |  None  |\n",
      "|    sqft_above    |  None |   43.2627983054    |  None  |\n",
      "|  sqft_basement   |  None |   122.027231745    |  None  |\n",
      "|     yr_built     |  None |   9.39509533202    |  None  |\n",
      "|   yr_renovated   |  None |   55.3271344922    |  None  |\n",
      "+------------------+-------+--------------------+--------+\n",
      "[18 rows x 4 columns]\n",
      "\n"
     ]
    }
   ],
   "source": [
    "l1_penalty = 10.0\n",
    "tprediction = model_l1p.predict(testing)\n",
    "terror = tprediction - testing['price']\n",
    "RSS_T = sum(terror*terror)\n",
    "print \"RSS_T:\"+ str(RSS_T)+'  ' + \"l1_penalty:\"+str(l1_penalty)\n",
    "\n",
    "model_l1p.get(\"coefficients\").print_rows(20)\n"
   ]
  },
  {
   "cell_type": "markdown",
   "metadata": {},
   "source": [
    "***QUIZ QUESTION***\n",
    "Also, using this value of L1 penalty, how many nonzero weights do you have?"
   ]
  },
  {
   "cell_type": "code",
   "execution_count": null,
   "metadata": {
    "collapsed": false
   },
   "outputs": [],
   "source": []
  },
  {
   "cell_type": "markdown",
   "metadata": {},
   "source": [
    "# Limit the number of nonzero weights\n",
    "\n",
    "What if we absolutely wanted to limit ourselves to, say, 7 features? This may be important if we want to derive \"a rule of thumb\" --- an interpretable model that has only a few features in them."
   ]
  },
  {
   "cell_type": "markdown",
   "metadata": {},
   "source": [
    "In this section, you are going to implement a simple, two phase procedure to achive this goal:\n",
    "1. Explore a large range of `l1_penalty` values to find a narrow region of `l1_penalty` values where models are likely to have the desired number of non-zero weights.\n",
    "2. Further explore the narrow region you found to find a good value for `l1_penalty` that achieves the desired sparsity.  Here, we will again use a validation set to choose the best value for `l1_penalty`."
   ]
  },
  {
   "cell_type": "code",
   "execution_count": 10,
   "metadata": {
    "collapsed": true
   },
   "outputs": [],
   "source": [
    "max_nonzeros = 7"
   ]
  },
  {
   "cell_type": "markdown",
   "metadata": {},
   "source": [
    "## Exploring the larger range of values to find a narrow range with the desired sparsity\n",
    "\n",
    "Let's define a wide range of possible `l1_penalty_values`:"
   ]
  },
  {
   "cell_type": "code",
   "execution_count": 11,
   "metadata": {
    "collapsed": false
   },
   "outputs": [],
   "source": [
    "l1_penalty_values = np.logspace(8, 10, num=20)"
   ]
  },
  {
   "cell_type": "markdown",
   "metadata": {},
   "source": [
    "Now, implement a loop that search through this space of possible `l1_penalty` values:\n",
    "\n",
    "* For `l1_penalty` in `np.logspace(8, 10, num=20)`:\n",
    "    * Fit a regression model with a given `l1_penalty` on TRAIN data. Specify `l1_penalty=l1_penalty` and `l2_penalty=0.` in the parameter list. When you call `linear_regression.create()` make sure you set `validation_set = None`\n",
    "    * Extract the weights of the model and count the number of nonzeros. Save the number of nonzeros to a list.\n",
    "        * *Hint: `model['coefficients']['value']` gives you an SArray with the parameters you learned.  If you call the method `.nnz()` on it, you will find the number of non-zero parameters!* "
   ]
  },
  {
   "cell_type": "code",
   "execution_count": 12,
   "metadata": {
    "collapsed": false,
    "scrolled": true
   },
   "outputs": [
    {
     "name": "stdout",
     "output_type": "stream",
     "text": [
      "l1_penalty: 100000000.0  #Non zeros:18  RSS_V:6.27492659875e+14  min_error:6.27492659875e+14  best_l1_penalty:100000000.0\n",
      "l1_penalty: 127427498.57  #Non zeros:18  RSS_V:6.28210516771e+14  min_error:6.27492659875e+14  best_l1_penalty:100000000.0\n",
      "l1_penalty: 162377673.919  #Non zeros:18  RSS_V:6.29176689541e+14  min_error:6.27492659875e+14  best_l1_penalty:100000000.0\n",
      "l1_penalty: 206913808.111  #Non zeros:18  RSS_V:6.30650082719e+14  min_error:6.27492659875e+14  best_l1_penalty:100000000.0\n",
      "l1_penalty: 263665089.873  #Non zeros:17  RSS_V:6.32940229287e+14  min_error:6.27492659875e+14  best_l1_penalty:100000000.0\n",
      "l1_penalty: 335981828.628  #Non zeros:17  RSS_V:6.3626814023e+14  min_error:6.27492659875e+14  best_l1_penalty:100000000.0\n",
      "l1_penalty: 428133239.872  #Non zeros:17  RSS_V:6.41261198311e+14  min_error:6.27492659875e+14  best_l1_penalty:100000000.0\n",
      "l1_penalty: 545559478.117  #Non zeros:17  RSS_V:6.48983455376e+14  min_error:6.27492659875e+14  best_l1_penalty:100000000.0\n",
      "l1_penalty: 695192796.178  #Non zeros:17  RSS_V:6.60962217696e+14  min_error:6.27492659875e+14  best_l1_penalty:100000000.0\n",
      "l1_penalty: 885866790.41  #Non zeros:16  RSS_V:6.77261520728e+14  min_error:6.27492659875e+14  best_l1_penalty:100000000.0\n",
      "l1_penalty: 1128837891.68  #Non zeros:15  RSS_V:7.01046815867e+14  min_error:6.27492659875e+14  best_l1_penalty:100000000.0\n",
      "l1_penalty: 1438449888.29  #Non zeros:15  RSS_V:7.37850622829e+14  min_error:6.27492659875e+14  best_l1_penalty:100000000.0\n",
      "l1_penalty: 1832980710.83  #Non zeros:13  RSS_V:7.9616310964e+14  min_error:6.27492659875e+14  best_l1_penalty:100000000.0\n",
      "l1_penalty: 2335721469.09  #Non zeros:12  RSS_V:8.69018172894e+14  min_error:6.27492659875e+14  best_l1_penalty:100000000.0\n",
      "l1_penalty: 2976351441.63  #Non zeros:10  RSS_V:9.66925692362e+14  min_error:6.27492659875e+14  best_l1_penalty:100000000.0\n",
      "l1_penalty: 3792690190.73  #Non zeros:6  RSS_V:1.08186759232e+15  min_error:6.27492659875e+14  best_l1_penalty:100000000.0\n",
      "l1_penalty: 4832930238.57  #Non zeros:5  RSS_V:1.24492736032e+15  min_error:6.27492659875e+14  best_l1_penalty:100000000.0\n",
      "l1_penalty: 6158482110.66  #Non zeros:3  RSS_V:1.38416149024e+15  min_error:6.27492659875e+14  best_l1_penalty:100000000.0\n",
      "l1_penalty: 7847599703.51  #Non zeros:1  RSS_V:1.23079472046e+15  min_error:6.27492659875e+14  best_l1_penalty:100000000.0\n",
      "l1_penalty: 10000000000.0  #Non zeros:1  RSS_V:1.22915716064e+15  min_error:6.27492659875e+14  best_l1_penalty:100000000.0\n"
     ]
    }
   ],
   "source": [
    "min_error = None\n",
    "best_l1_penalty = None\n",
    "RSS_V_L = []\n",
    "l1_pen_L = []\n",
    "\n",
    "\n",
    "for l1_penalty in l1_penalty_values:\n",
    "    \n",
    "    model2l1p = graphlab.linear_regression.create(training, target ='price', features=all_features,\n",
    "                                              l1_penalty=l1_penalty, l2_penalty =0,\n",
    "                                              validation_set=None, verbose=False)\n",
    "    x = model2l1p['coefficients']['value'].nnz()\n",
    "    vprediction = model2l1p.predict(validation)\n",
    "    validation_errors = vprediction - validation['price']\n",
    "    RSS_V = sum(validation_errors*validation_errors)\n",
    "\n",
    "    RSS_V_L.append(RSS_V)\n",
    "    l1_pen_L.append(l1_penalty)\n",
    "\n",
    "    min_error = min(RSS_V_L)\n",
    "    best_l1_penalty = min(l1_pen_L)\n",
    "    print \"l1_penalty: \"+str(l1_penalty)+\"  \"+\"#Non zeros:\" + str(x)+\"  \"+\"RSS_V:\"+str(RSS_V)+\"  \"+\"min_error:\"+str(min_error)+\"  \"+\"best_l1_penalty:\"+str(best_l1_penalty)\n",
    "\n",
    "    \n",
    "    #print l1_pen_L \n",
    "    \n",
    "    #if RSS_V < min_error:\n",
    "    #    print \"min_error:\"+str(min_error)+\" \"+\"best_l1_penalty:\"+str(best_l1_penalty)\n",
    "           \n",
    "    #min_error = RSS_V\n",
    "    #best_l1_penalty = l1_penalty\n",
    "            \n",
    "            \n",
    "    #if min_error is None or RSS_V < min_error:\n",
    "    #        min_error = RSS_V\n",
    "    #        best_l1_penalty = l1_penalty\n",
    "    #        print \"Best l1 penalty:\" + str(best_l1_penalty)\n",
    "    #        print \"Best RSS:\" + str('{0:f}'.format(min_error))\n",
    "    \n",
    "\n",
    "\n"
   ]
  },
  {
   "cell_type": "markdown",
   "metadata": {},
   "source": [
    "Out of this large range, we want to find the two ends of our desired narrow range of `l1_penalty`.  At one end, we will have `l1_penalty` values that have too few non-zeros, and at the other end, we will have an `l1_penalty` that has too many non-zeros.  \n",
    "\n",
    "More formally, find:\n",
    "* The largest `l1_penalty` that has more non-zeros than `max_nonzero` (if we pick a penalty smaller than this value, we will definitely have too many non-zero weights)\n",
    "    * Store this value in the variable `l1_penalty_min` (we will use it later)\n",
    "* The smallest `l1_penalty` that has fewer non-zeros than `max_nonzero` (if we pick a penalty larger than this value, we will definitely have too few non-zero weights)\n",
    "    * Store this value in the variable `l1_penalty_max` (we will use it later)\n",
    "\n",
    "\n",
    "*Hint: there are many ways to do this, e.g.:*\n",
    "* Programmatically within the loop above\n",
    "* Creating a list with the number of non-zeros for each value of `l1_penalty` and inspecting it to find the appropriate boundaries."
   ]
  },
  {
   "cell_type": "code",
   "execution_count": 13,
   "metadata": {
    "collapsed": true
   },
   "outputs": [],
   "source": [
    "l1_penalty_min = 2976351441.63\n",
    "l1_penalty_max = 3792690190.73"
   ]
  },
  {
   "cell_type": "markdown",
   "metadata": {},
   "source": [
    "***QUIZ QUESTIONS***\n",
    "\n",
    "What values did you find for `l1_penalty_min` and`l1_penalty_max`? "
   ]
  },
  {
   "cell_type": "markdown",
   "metadata": {},
   "source": [
    "## Exploring the narrow range of values to find the solution with the right number of non-zeros that has lowest RSS on the validation set \n",
    "\n",
    "We will now explore the narrow region of `l1_penalty` values we found:"
   ]
  },
  {
   "cell_type": "code",
   "execution_count": 14,
   "metadata": {
    "collapsed": true
   },
   "outputs": [],
   "source": [
    "l1_penalty_values = np.linspace(l1_penalty_min,l1_penalty_max,20)"
   ]
  },
  {
   "cell_type": "markdown",
   "metadata": {},
   "source": [
    "* For `l1_penalty` in `np.linspace(l1_penalty_min,l1_penalty_max,20)`:\n",
    "    * Fit a regression model with a given `l1_penalty` on TRAIN data. Specify `l1_penalty=l1_penalty` and `l2_penalty=0.` in the parameter list. When you call `linear_regression.create()` make sure you set `validation_set = None`\n",
    "    * Measure the RSS of the learned model on the VALIDATION set\n",
    "\n",
    "Find the model that the lowest RSS on the VALIDATION set and has sparsity *equal* to `max_nonzero`."
   ]
  },
  {
   "cell_type": "code",
   "execution_count": 15,
   "metadata": {
    "collapsed": false
   },
   "outputs": [
    {
     "name": "stdout",
     "output_type": "stream",
     "text": [
      "l1_penalty: 2976351441.63  #Non zeros:10  RSS_V:9.66925692362e+14  min_error:6.27492659875e+14  best_l1_penalty:100000000.0\n",
      "l1_penalty: 3019316638.95  #Non zeros:10  RSS_V:9.74019450085e+14  min_error:6.27492659875e+14  best_l1_penalty:100000000.0\n",
      "l1_penalty: 3062281836.27  #Non zeros:10  RSS_V:9.81188367942e+14  min_error:6.27492659875e+14  best_l1_penalty:100000000.0\n",
      "l1_penalty: 3105247033.59  #Non zeros:10  RSS_V:9.89328342459e+14  min_error:6.27492659875e+14  best_l1_penalty:100000000.0\n",
      "l1_penalty: 3148212230.91  #Non zeros:10  RSS_V:9.98783211266e+14  min_error:6.27492659875e+14  best_l1_penalty:100000000.0\n",
      "l1_penalty: 3191177428.24  #Non zeros:10  RSS_V:1.00847716702e+15  min_error:6.27492659875e+14  best_l1_penalty:100000000.0\n",
      "l1_penalty: 3234142625.56  #Non zeros:10  RSS_V:1.01829878055e+15  min_error:6.27492659875e+14  best_l1_penalty:100000000.0\n",
      "l1_penalty: 3277107822.88  #Non zeros:10  RSS_V:1.02824799221e+15  min_error:6.27492659875e+14  best_l1_penalty:100000000.0\n",
      "l1_penalty: 3320073020.2  #Non zeros:8  RSS_V:1.03461690923e+15  min_error:6.27492659875e+14  best_l1_penalty:100000000.0\n",
      "l1_penalty: 3363038217.52  #Non zeros:8  RSS_V:1.03855473594e+15  min_error:6.27492659875e+14  best_l1_penalty:100000000.0\n",
      "l1_penalty: 3406003414.84  #Non zeros:8  RSS_V:1.04323723787e+15  min_error:6.27492659875e+14  best_l1_penalty:100000000.0\n",
      "l1_penalty: 3448968612.16  #Non zeros:7  RSS_V:1.04693748875e+15  min_error:6.27492659875e+14  best_l1_penalty:100000000.0\n",
      "l1_penalty: 3491933809.48  #Non zeros:7  RSS_V:1.05114762561e+15  min_error:6.27492659875e+14  best_l1_penalty:100000000.0\n",
      "l1_penalty: 3534899006.8  #Non zeros:7  RSS_V:1.05599273534e+15  min_error:6.27492659875e+14  best_l1_penalty:100000000.0\n",
      "l1_penalty: 3577864204.12  #Non zeros:7  RSS_V:1.06079953176e+15  min_error:6.27492659875e+14  best_l1_penalty:100000000.0\n",
      "l1_penalty: 3620829401.45  #Non zeros:6  RSS_V:1.0657076895e+15  min_error:6.27492659875e+14  best_l1_penalty:100000000.0\n",
      "l1_penalty: 3663794598.77  #Non zeros:6  RSS_V:1.06946433543e+15  min_error:6.27492659875e+14  best_l1_penalty:100000000.0\n",
      "l1_penalty: 3706759796.09  #Non zeros:6  RSS_V:1.07350454959e+15  min_error:6.27492659875e+14  best_l1_penalty:100000000.0\n",
      "l1_penalty: 3749724993.41  #Non zeros:6  RSS_V:1.07763277558e+15  min_error:6.27492659875e+14  best_l1_penalty:100000000.0\n",
      "l1_penalty: 3792690190.73  #Non zeros:6  RSS_V:1.08186759232e+15  min_error:6.27492659875e+14  best_l1_penalty:100000000.0\n"
     ]
    }
   ],
   "source": [
    "\n",
    "for l1_penalty in l1_penalty_values:\n",
    "    \n",
    "    model3l1p = graphlab.linear_regression.create(training, target ='price', features=all_features,\n",
    "                                              l1_penalty=l1_penalty, l2_penalty =0,\n",
    "                                              validation_set=None, verbose=False)\n",
    "    x = model3l1p['coefficients']['value'].nnz()\n",
    "    vprediction = model3l1p.predict(validation)\n",
    "    validation_errors = vprediction - validation['price']\n",
    "    RSS_V = sum(validation_errors*validation_errors)\n",
    "    \n",
    "    RSS_V_L.append(RSS_V)\n",
    "    l1_pen_L.append(l1_penalty)\n",
    "    \n",
    "    min_error = min(RSS_V_L)\n",
    "    best_l1_penalty = min(l1_pen_L)\n",
    "    print \"l1_penalty: \"+str(l1_penalty)+\"  \"+\"#Non zeros:\" + str(x)+\"  \"+\"RSS_V:\"+str(RSS_V)+\"  \"+\"min_error:\"+str(min_error)+\"  \"+\"best_l1_penalty:\"+str(best_l1_penalty)\n",
    "    "
   ]
  },
  {
   "cell_type": "markdown",
   "metadata": {},
   "source": [
    "***QUIZ QUESTIONS***\n",
    "1. What value of `l1_penalty` in our narrow range has the lowest RSS on the VALIDATION set and has sparsity *equal* to `max_nonzeros`?\n",
    "2. What features in this model have non-zero coefficients?"
   ]
  },
  {
   "cell_type": "code",
   "execution_count": 16,
   "metadata": {
    "collapsed": false
   },
   "outputs": [
    {
     "name": "stdout",
     "output_type": "stream",
     "text": [
      "+------------------+-------+---------------+--------+\n",
      "|       name       | index |     value     | stderr |\n",
      "+------------------+-------+---------------+--------+\n",
      "|   (intercept)    |  None |  240309.75932 |  None  |\n",
      "|     bedrooms     |  None |      0.0      |  None  |\n",
      "| bedrooms_square  |  None |      0.0      |  None  |\n",
      "|    bathrooms     |  None | 13840.6399577 |  None  |\n",
      "|   sqft_living    |  None | 30.5583588298 |  None  |\n",
      "| sqft_living_sqrt |  None | 592.199469213 |  None  |\n",
      "|     sqft_lot     |  None |      0.0      |  None  |\n",
      "|  sqft_lot_sqrt   |  None |      0.0      |  None  |\n",
      "|      floors      |  None |      0.0      |  None  |\n",
      "|  floors_square   |  None |      0.0      |  None  |\n",
      "|    waterfront    |  None |      0.0      |  None  |\n",
      "|       view       |  None |      0.0      |  None  |\n",
      "|    condition     |  None |      0.0      |  None  |\n",
      "|      grade       |  None | 2265.12052556 |  None  |\n",
      "|    sqft_above    |  None | 27.4878726568 |  None  |\n",
      "|  sqft_basement   |  None |      0.0      |  None  |\n",
      "|     yr_built     |  None |      0.0      |  None  |\n",
      "|   yr_renovated   |  None |      0.0      |  None  |\n",
      "+------------------+-------+---------------+--------+\n",
      "[18 rows x 4 columns]\n",
      "\n"
     ]
    }
   ],
   "source": [
    "model3l1p.get(\"coefficients\").print_rows(20)"
   ]
  },
  {
   "cell_type": "code",
   "execution_count": null,
   "metadata": {
    "collapsed": true
   },
   "outputs": [],
   "source": []
  }
 ],
 "metadata": {
  "kernelspec": {
   "display_name": "Python 2",
   "language": "python",
   "name": "python2"
  },
  "language_info": {
   "codemirror_mode": {
    "name": "ipython",
    "version": 2
   },
   "file_extension": ".py",
   "mimetype": "text/x-python",
   "name": "python",
   "nbconvert_exporter": "python",
   "pygments_lexer": "ipython2",
   "version": "2.7.11"
  }
 },
 "nbformat": 4,
 "nbformat_minor": 0
}
