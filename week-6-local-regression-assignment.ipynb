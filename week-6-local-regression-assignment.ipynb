{
 "cells": [
  {
   "cell_type": "markdown",
   "metadata": {},
   "source": [
    "# Predicting house prices using k-nearest neighbors regression\n",
    "In this notebook, you will implement k-nearest neighbors regression. You will:\n",
    "  * Find the k-nearest neighbors of a given query input\n",
    "  * Predict the output for the query input using the k-nearest neighbors\n",
    "  * Choose the best value of k using a validation set"
   ]
  },
  {
   "cell_type": "markdown",
   "metadata": {},
   "source": [
    "# Fire up GraphLab Create"
   ]
  },
  {
   "cell_type": "code",
   "execution_count": 1,
   "metadata": {
    "collapsed": false
   },
   "outputs": [
    {
     "name": "stderr",
     "output_type": "stream",
     "text": [
      "A newer version of GraphLab Create (v2.1) is available! Your current version is v1.10.1.\n",
      "\n",
      "You can use pip to upgrade the graphlab-create package. For more information see https://dato.com/products/create/upgrade.\n"
     ]
    }
   ],
   "source": [
    "import graphlab"
   ]
  },
  {
   "cell_type": "markdown",
   "metadata": {},
   "source": [
    "# Load in house sales data"
   ]
  },
  {
   "cell_type": "markdown",
   "metadata": {},
   "source": [
    "For this notebook, we use a subset of the King County housing dataset created by randomly selecting 40% of the houses in the full dataset."
   ]
  },
  {
   "cell_type": "code",
   "execution_count": 2,
   "metadata": {
    "collapsed": false
   },
   "outputs": [
    {
     "name": "stderr",
     "output_type": "stream",
     "text": [
      "[INFO] graphlab.cython.cy_server: GraphLab Create v1.10.1 started. Logging: /tmp/graphlab_server_1472170087.log\n",
      "INFO:graphlab.cython.cy_server:GraphLab Create v1.10.1 started. Logging: /tmp/graphlab_server_1472170087.log\n"
     ]
    },
    {
     "name": "stdout",
     "output_type": "stream",
     "text": [
      "This non-commercial license of GraphLab Create for academic use is assigned to varun.ramanujam@fmr.com and will expire on January 23, 2017.\n"
     ]
    }
   ],
   "source": [
    "sales = graphlab.SFrame('kc_house_data_small.gl/')"
   ]
  },
  {
   "cell_type": "markdown",
   "metadata": {},
   "source": [
    "# Import useful functions from previous notebooks"
   ]
  },
  {
   "cell_type": "markdown",
   "metadata": {},
   "source": [
    "To efficiently compute pairwise distances among data points, we will convert the SFrame into a 2D Numpy array. First import the numpy library and then copy and paste `get_numpy_data()` from the second notebook of Week 2."
   ]
  },
  {
   "cell_type": "code",
   "execution_count": 3,
   "metadata": {
    "collapsed": true
   },
   "outputs": [],
   "source": [
    "import numpy as np # note this allows us to refer to numpy as np instead"
   ]
  },
  {
   "cell_type": "code",
   "execution_count": 4,
   "metadata": {
    "collapsed": true
   },
   "outputs": [],
   "source": [
    "def get_numpy_data(data_sframe, features, output):\n",
    "    data_sframe['constant'] = 1 # this is how you add a constant column to an SFrame\n",
    "    # add the column 'constant' to the front of the features list so that we can extract it along with the others:\n",
    "    features = ['constant'] + features # this is how you combine two lists\n",
    "    # select the columns of data_SFrame given by the features list into the SFrame features_sframe (now including constant):\n",
    "    features_sframe = data_sframe[features]\n",
    "    # the following line will convert the features_SFrame into a numpy matrix:\n",
    "    feature_matrix = features_sframe.to_numpy()\n",
    "    # assi-sagn the column of data_sframe associated with the output to the SArray output_sarray\n",
    "    output_sarray = data_sframe[output]\n",
    "    # the following will convert the SArray into a numpy array by first converting it to a list\n",
    "    output_array = output_sarray.to_numpy()\n",
    "    return(feature_matrix, output_array)"
   ]
  },
  {
   "cell_type": "markdown",
   "metadata": {},
   "source": [
    "We will also need the `normalize_features()` function from Week 5 that normalizes all feature columns to unit norm. Paste this function below."
   ]
  },
  {
   "cell_type": "code",
   "execution_count": 5,
   "metadata": {
    "collapsed": true
   },
   "outputs": [],
   "source": [
    "def normalize_features(feature_matrix):\n",
    "    norms = np.linalg.norm(feature_matrix, axis=0)\n",
    "    return (feature_matrix/norms, norms)"
   ]
  },
  {
   "cell_type": "markdown",
   "metadata": {},
   "source": [
    "# Split data into training, test, and validation sets"
   ]
  },
  {
   "cell_type": "code",
   "execution_count": 6,
   "metadata": {
    "collapsed": false
   },
   "outputs": [],
   "source": [
    "(train_and_validation, test) = sales.random_split(.8, seed=1) # initial train/test split\n",
    "(train, validation) = train_and_validation.random_split(.8, seed=1) # split training set into training and validation sets"
   ]
  },
  {
   "cell_type": "markdown",
   "metadata": {},
   "source": [
    "# Extract features and normalize"
   ]
  },
  {
   "cell_type": "markdown",
   "metadata": {},
   "source": [
    "Using all of the numerical inputs listed in `feature_list`, transform the training, test, and validation SFrames into Numpy arrays:"
   ]
  },
  {
   "cell_type": "code",
   "execution_count": 7,
   "metadata": {
    "collapsed": false
   },
   "outputs": [],
   "source": [
    "feature_list = ['bedrooms',  \n",
    "                'bathrooms',  \n",
    "                'sqft_living',  \n",
    "                'sqft_lot',  \n",
    "                'floors',\n",
    "                'waterfront',  \n",
    "                'view',  \n",
    "                'condition',  \n",
    "                'grade',  \n",
    "                'sqft_above',  \n",
    "                'sqft_basement',\n",
    "                'yr_built',  \n",
    "                'yr_renovated',  \n",
    "                'lat',  \n",
    "                'long',  \n",
    "                'sqft_living15',  \n",
    "                'sqft_lot15']\n",
    "features_train, output_train = get_numpy_data(train, feature_list, 'price')\n",
    "features_test, output_test = get_numpy_data(test, feature_list, 'price')\n",
    "features_valid, output_valid = get_numpy_data(validation, feature_list, 'price')"
   ]
  },
  {
   "cell_type": "markdown",
   "metadata": {},
   "source": [
    "In computing distances, it is crucial to normalize features. Otherwise, for example, the `sqft_living` feature (typically on the order of thousands) would exert a much larger influence on distance than the `bedrooms` feature (typically on the order of ones). We divide each column of the training feature matrix by its 2-norm, so that the transformed column has unit norm.\n",
    "\n",
    "IMPORTANT: Make sure to store the norms of the features in the training set. The features in the test and validation sets must be divided by these same norms, so that the training, test, and validation sets are normalized consistently."
   ]
  },
  {
   "cell_type": "code",
   "execution_count": 8,
   "metadata": {
    "collapsed": true
   },
   "outputs": [],
   "source": [
    "features_train, norms = normalize_features(features_train) # normalize training set features (columns)\n",
    "features_test = features_test / norms # normalize test set by training set norms\n",
    "features_valid = features_valid / norms # normalize validation set by training set norms"
   ]
  },
  {
   "cell_type": "markdown",
   "metadata": {},
   "source": [
    "# Compute a single distance"
   ]
  },
  {
   "cell_type": "markdown",
   "metadata": {},
   "source": [
    "To start, let's just explore computing the \"distance\" between two given houses.  We will take our **query house** to be the first house of the test set and look at the distance between this house and the 10th house of the training set.\n",
    "\n",
    "To see the features associated with the query house, print the first row (index 0) of the test feature matrix. You should get an 18-dimensional vector whose components are between 0 and 1."
   ]
  },
  {
   "cell_type": "code",
   "execution_count": 9,
   "metadata": {
    "collapsed": false
   },
   "outputs": [
    {
     "name": "stdout",
     "output_type": "stream",
     "text": [
      "[ 0.01345102  0.01551285  0.01807473  0.01759212  0.00160518  0.017059    0.\n",
      "  0.05102365  0.0116321   0.01564352  0.01362084  0.02481682  0.01350306\n",
      "  0.          0.01345386 -0.01346927  0.01375926  0.0016225 ]\n"
     ]
    }
   ],
   "source": [
    "print features_test[0]\n"
   ]
  },
  {
   "cell_type": "markdown",
   "metadata": {},
   "source": [
    "Now print the 10th row (index 9) of the training feature matrix. Again, you get an 18-dimensional vector with components between 0 and 1."
   ]
  },
  {
   "cell_type": "code",
   "execution_count": 10,
   "metadata": {
    "collapsed": false
   },
   "outputs": [
    {
     "name": "stdout",
     "output_type": "stream",
     "text": [
      "[ 0.01345102  0.01163464  0.00602491  0.0083488   0.00050756  0.01279425\n",
      "  0.          0.          0.01938684  0.01390535  0.0096309   0.\n",
      "  0.01302544  0.          0.01346821 -0.01346254  0.01195898  0.00156612]\n"
     ]
    }
   ],
   "source": [
    "print features_train[9]\n",
    "\n"
   ]
  },
  {
   "cell_type": "markdown",
   "metadata": {},
   "source": [
    "***QUIZ QUESTION ***\n",
    "\n",
    "What is the Euclidean distance between the query house and the 10th house of the training set? \n",
    "\n",
    "Note: Do not use the `np.linalg.norm` function; use `np.sqrt`, `np.sum`, and the power operator (`**`) instead. The latter approach is more easily adapted to computing multiple distances at once."
   ]
  },
  {
   "cell_type": "code",
   "execution_count": 11,
   "metadata": {
    "collapsed": false
   },
   "outputs": [
    {
     "name": "stdout",
     "output_type": "stream",
     "text": [
      "0.0597235937167\n"
     ]
    }
   ],
   "source": [
    "\n",
    "e_dist = np.sqrt(sum((features_train[9]-features_test[0])**2))\n",
    "print e_dist"
   ]
  },
  {
   "cell_type": "markdown",
   "metadata": {},
   "source": [
    "# Compute multiple distances"
   ]
  },
  {
   "cell_type": "markdown",
   "metadata": {},
   "source": [
    "Of course, to do nearest neighbor regression, we need to compute the distance between our query house and *all* houses in the training set.  \n",
    "\n",
    "To visualize this nearest-neighbor search, let's first compute the distance from our query house (`features_test[0]`) to the first 10 houses of the training set (`features_train[0:10]`) and then search for the nearest neighbor within this small set of houses.  Through restricting ourselves to a small set of houses to begin with, we can visually scan the list of 10 distances to verify that our code for finding the nearest neighbor is working.\n",
    "\n",
    "Write a loop to compute the Euclidean distance from the query house to each of the first 10 houses in the training set."
   ]
  },
  {
   "cell_type": "code",
   "execution_count": 12,
   "metadata": {
    "collapsed": false
   },
   "outputs": [
    {
     "name": "stdout",
     "output_type": "stream",
     "text": [
      "Diff_0:0.060274709173  Min: 0.060274709173\n",
      "Diff_1:0.0854688114883  Min: 0.060274709173\n",
      "Diff_2:0.0614994643712  Min: 0.060274709173\n",
      "Diff_3:0.0534027397882  Min: 0.0534027397882\n",
      "Diff_4:0.0584448406394  Min: 0.0534027397882\n",
      "Diff_5:0.0598792151018  Min: 0.0534027397882\n",
      "Diff_6:0.0546314049726  Min: 0.0534027397882\n",
      "Diff_7:0.0554310832416  Min: 0.0534027397882\n",
      "Diff_8:0.052383627841  Min: 0.052383627841\n",
      "Diff_9:0.0597235937167  Min: 0.052383627841\n"
     ]
    }
   ],
   "source": [
    "i = 0\n",
    "diff = []\n",
    "for i in xrange(10):\n",
    "    diff_i = np.sqrt(sum((features_train[i] - features_test[0])**2))\n",
    "    diff.append(diff_i)\n",
    "    print \"Diff_\"+str(i)+\":\"+str(diff_i)+\"  \"+\"Min: \"+str(min(diff))\n",
    "       "
   ]
  },
  {
   "cell_type": "markdown",
   "metadata": {},
   "source": [
    "*** QUIZ QUESTION ***\n",
    "\n",
    "Among the first 10 training houses, which house is the closest to the query house?"
   ]
  },
  {
   "cell_type": "code",
   "execution_count": null,
   "metadata": {
    "collapsed": false
   },
   "outputs": [],
   "source": []
  },
  {
   "cell_type": "markdown",
   "metadata": {},
   "source": [
    "It is computationally inefficient to loop over computing distances to all houses in our training dataset. Fortunately, many of the Numpy functions can be **vectorized**, applying the same operation over multiple values or vectors.  We now walk through this process."
   ]
  },
  {
   "cell_type": "markdown",
   "metadata": {},
   "source": [
    "Consider the following loop that computes the element-wise difference between the features of the query house (`features_test[0]`) and the first 3 training houses (`features_train[0:3]`):"
   ]
  },
  {
   "cell_type": "code",
   "execution_count": 13,
   "metadata": {
    "collapsed": false,
    "scrolled": false
   },
   "outputs": [
    {
     "name": "stdout",
     "output_type": "stream",
     "text": [
      "[  0.00000000e+00  -3.87821276e-03  -1.20498190e-02  -1.05552733e-02\n",
      "   2.08673616e-04  -8.52950206e-03   0.00000000e+00  -5.10236549e-02\n",
      "   0.00000000e+00  -3.47633726e-03  -5.50336860e-03  -2.48168183e-02\n",
      "  -1.63756198e-04   0.00000000e+00  -1.70072004e-05   1.30577772e-05\n",
      "  -5.14364795e-03   6.69281453e-04]\n",
      "[  0.00000000e+00  -3.87821276e-03  -4.51868214e-03  -2.26610387e-03\n",
      "   7.19763456e-04   0.00000000e+00   0.00000000e+00  -5.10236549e-02\n",
      "   0.00000000e+00  -3.47633726e-03   1.30705004e-03  -1.45830788e-02\n",
      "  -1.91048898e-04   6.65082271e-02   4.23240653e-05   6.22415897e-06\n",
      "  -2.89330197e-03   1.47606982e-03]\n",
      "[  0.00000000e+00  -7.75642553e-03  -1.20498190e-02  -1.30002801e-02\n",
      "   1.60518166e-03  -8.52950206e-03   0.00000000e+00  -5.10236549e-02\n",
      "   0.00000000e+00  -5.21450589e-03  -8.32384500e-03  -2.48168183e-02\n",
      "  -3.13866046e-04   0.00000000e+00   4.71047219e-05   1.56530415e-05\n",
      "   3.72914476e-03   1.64764925e-03]\n"
     ]
    }
   ],
   "source": [
    "for i in xrange(3):\n",
    "    print features_train[i]-features_test[0]\n",
    "    # should print 3 vectors of length 18"
   ]
  },
  {
   "cell_type": "markdown",
   "metadata": {},
   "source": [
    "The subtraction operator (`-`) in Numpy is vectorized as follows:"
   ]
  },
  {
   "cell_type": "code",
   "execution_count": 14,
   "metadata": {
    "collapsed": false
   },
   "outputs": [
    {
     "name": "stdout",
     "output_type": "stream",
     "text": [
      "[[  0.00000000e+00  -3.87821276e-03  -1.20498190e-02  -1.05552733e-02\n",
      "    2.08673616e-04  -8.52950206e-03   0.00000000e+00  -5.10236549e-02\n",
      "    0.00000000e+00  -3.47633726e-03  -5.50336860e-03  -2.48168183e-02\n",
      "   -1.63756198e-04   0.00000000e+00  -1.70072004e-05   1.30577772e-05\n",
      "   -5.14364795e-03   6.69281453e-04]\n",
      " [  0.00000000e+00  -3.87821276e-03  -4.51868214e-03  -2.26610387e-03\n",
      "    7.19763456e-04   0.00000000e+00   0.00000000e+00  -5.10236549e-02\n",
      "    0.00000000e+00  -3.47633726e-03   1.30705004e-03  -1.45830788e-02\n",
      "   -1.91048898e-04   6.65082271e-02   4.23240653e-05   6.22415897e-06\n",
      "   -2.89330197e-03   1.47606982e-03]\n",
      " [  0.00000000e+00  -7.75642553e-03  -1.20498190e-02  -1.30002801e-02\n",
      "    1.60518166e-03  -8.52950206e-03   0.00000000e+00  -5.10236549e-02\n",
      "    0.00000000e+00  -5.21450589e-03  -8.32384500e-03  -2.48168183e-02\n",
      "   -3.13866046e-04   0.00000000e+00   4.71047219e-05   1.56530415e-05\n",
      "    3.72914476e-03   1.64764925e-03]]\n"
     ]
    }
   ],
   "source": [
    "print features_train[0:3] - features_test[0]"
   ]
  },
  {
   "cell_type": "markdown",
   "metadata": {},
   "source": [
    "Note that the output of this vectorized operation is identical to that of the loop above, which can be verified below:"
   ]
  },
  {
   "cell_type": "code",
   "execution_count": 15,
   "metadata": {
    "collapsed": false
   },
   "outputs": [
    {
     "name": "stdout",
     "output_type": "stream",
     "text": [
      "[ 0.  0.  0.  0.  0.  0.  0.  0.  0.  0.  0.  0.  0.  0.  0.  0.  0.  0.]\n",
      "[ 0.  0.  0.  0.  0.  0.  0.  0.  0.  0.  0.  0.  0.  0.  0.  0.  0.  0.]\n",
      "[ 0.  0.  0.  0.  0.  0.  0.  0.  0.  0.  0.  0.  0.  0.  0.  0.  0.  0.]\n"
     ]
    }
   ],
   "source": [
    "# verify that vectorization works\n",
    "results = features_train[0:3] - features_test[0]\n",
    "print results[0] - (features_train[0]-features_test[0])\n",
    "# should print all 0's if results[0] == (features_train[0]-features_test[0])\n",
    "print results[1] - (features_train[1]-features_test[0])\n",
    "# should print all 0's if results[1] == (features_train[1]-features_test[0])\n",
    "print results[2] - (features_train[2]-features_test[0])\n",
    "# should print all 0's if results[2] == (features_train[2]-features_test[0])"
   ]
  },
  {
   "cell_type": "markdown",
   "metadata": {},
   "source": [
    "Aside: it is a good idea to write tests like this cell whenever you are vectorizing a complicated operation."
   ]
  },
  {
   "cell_type": "markdown",
   "metadata": {},
   "source": [
    "# Perform 1-nearest neighbor regression\n",
    "\n",
    "Now that we have the element-wise differences, it is not too hard to compute the Euclidean distances between our query house and all of the training houses. First, write a single-line expression to define a variable `diff` such that `diff[i]` gives the element-wise difference between the features of the query house and the `i`-th training house."
   ]
  },
  {
   "cell_type": "code",
   "execution_count": 16,
   "metadata": {
    "collapsed": false
   },
   "outputs": [
    {
     "name": "stdout",
     "output_type": "stream",
     "text": [
      "-413.200327608\n"
     ]
    }
   ],
   "source": [
    "#print sum(features_train[-1] - features_test[0])\n",
    "diff = features_train[0:len(features_train)]-features_test[0]\n",
    "print diff.sum()\n"
   ]
  },
  {
   "cell_type": "markdown",
   "metadata": {},
   "source": [
    "To test the code above, run the following cell, which should output a value -0.0934339605842:"
   ]
  },
  {
   "cell_type": "code",
   "execution_count": 17,
   "metadata": {
    "collapsed": false
   },
   "outputs": [
    {
     "name": "stdout",
     "output_type": "stream",
     "text": [
      "-0.0934339605842\n"
     ]
    }
   ],
   "source": [
    "print diff[-1].sum() # sum of the feature differences between the query and last training house\n",
    "# should print -0.0934339605842"
   ]
  },
  {
   "cell_type": "markdown",
   "metadata": {},
   "source": [
    "The next step in computing the Euclidean distances is to take these feature-by-feature differences in `diff`, square each, and take the sum over feature indices.  That is, compute the sum of square feature differences for each training house (row in `diff`).\n",
    "\n",
    "By default, `np.sum` sums up everything in the matrix and returns a single number. To instead sum only over a row or column, we need to specifiy the `axis` parameter described in the `np.sum` [documentation](http://docs.scipy.org/doc/numpy-1.10.1/reference/generated/numpy.sum.html). In particular, `axis=1` computes the sum across each row.\n",
    "\n",
    "Below, we compute this sum of square feature differences for all training houses and verify that the output for the 16th house in the training set is equivalent to having examined only the 16th row of `diff` and computing the sum of squares on that row alone."
   ]
  },
  {
   "cell_type": "code",
   "execution_count": 18,
   "metadata": {
    "collapsed": false
   },
   "outputs": [
    {
     "name": "stdout",
     "output_type": "stream",
     "text": [
      "0.00330705902879\n",
      "0.00330705902879\n"
     ]
    }
   ],
   "source": [
    "print np.sum(diff**2, axis=1)[15] # take sum of squares across each row, and print the 16th sum\n",
    "print np.sum(diff[15]**2) # print the sum of squares for the 16th row -- should be same as above"
   ]
  },
  {
   "cell_type": "markdown",
   "metadata": {},
   "source": [
    "With this result in mind, write a single-line expression to compute the Euclidean distances between the query house and all houses in the training set. Assign the result to a variable `distances`.\n",
    "\n",
    "**Hint**: Do not forget to take the square root of the sum of squares."
   ]
  },
  {
   "cell_type": "code",
   "execution_count": 19,
   "metadata": {
    "collapsed": false
   },
   "outputs": [],
   "source": [
    "distances = np.sqrt(np.sum(diff**2, axis=1))\n",
    "    "
   ]
  },
  {
   "cell_type": "markdown",
   "metadata": {},
   "source": [
    "To test the code above, run the following cell, which should output a value 0.0237082324496:"
   ]
  },
  {
   "cell_type": "code",
   "execution_count": 20,
   "metadata": {
    "collapsed": false
   },
   "outputs": [
    {
     "name": "stdout",
     "output_type": "stream",
     "text": [
      "0.0237082324496\n"
     ]
    }
   ],
   "source": [
    "print distances[100] # Euclidean distance between the query house and the 101th training house\n",
    "# should print 0.0237082324496"
   ]
  },
  {
   "cell_type": "markdown",
   "metadata": {},
   "source": [
    "Now you are ready to write a function that computes the distances from a query house to all training houses. The function should take two parameters: (i) the matrix of training features and (ii) the single feature vector associated with the query."
   ]
  },
  {
   "cell_type": "code",
   "execution_count": null,
   "metadata": {
    "collapsed": true
   },
   "outputs": [],
   "source": []
  },
  {
   "cell_type": "markdown",
   "metadata": {
    "collapsed": false
   },
   "source": [
    "*** QUIZ QUESTIONS ***\n",
    "\n",
    "1.  Take the query house to be third house of the test set (`features_test[2]`).  What is the index of the house in the training set that is closest to this query house?\n",
    "2.  What is the predicted value of the query house based on 1-nearest neighbor regression?"
   ]
  },
  {
   "cell_type": "code",
   "execution_count": 37,
   "metadata": {
    "collapsed": false
   },
   "outputs": [],
   "source": [
    "def compute_distances(features_instances, features_query):\n",
    "    diff = features_instances[0:len(features_instances)] - features_query\n",
    "    distances = np.sqrt(np.sum(diff**2, axis=1))\n",
    "    return distances\n",
    "\n",
    "    \n"
   ]
  },
  {
   "cell_type": "code",
   "execution_count": 39,
   "metadata": {
    "collapsed": false
   },
   "outputs": [
    {
     "name": "stdout",
     "output_type": "stream",
     "text": [
      "0.00286049526751\n",
      "382\n",
      "249000\n"
     ]
    }
   ],
   "source": [
    "distances = compute_distances(features_train, features_test[2])\n",
    "min = distances[0]\n",
    "index = 0\n",
    "for i in xrange(len(distances)):\n",
    "    if(distances[i] < min):\n",
    "        min = distances[i]\n",
    "        index = i\n",
    "print min\n",
    "print index\n",
    "\n",
    "print output_train[382]"
   ]
  },
  {
   "cell_type": "markdown",
   "metadata": {},
   "source": [
    "# Perform k-nearest neighbor regression"
   ]
  },
  {
   "cell_type": "markdown",
   "metadata": {},
   "source": [
    "For k-nearest neighbors, we need to find a *set* of k houses in the training set closest to a given query house. We then make predictions based on these k nearest neighbors."
   ]
  },
  {
   "cell_type": "markdown",
   "metadata": {},
   "source": [
    "## Fetch k-nearest neighbors\n",
    "\n",
    "Using the functions above, implement a function that takes in\n",
    " * the value of k;\n",
    " * the feature matrix for the training houses; and\n",
    " * the feature vector of the query house\n",
    " \n",
    "and returns the indices of the k closest training houses. For instance, with 2-nearest neighbor, a return value of [5, 10] would indicate that the 6th and 11th training houses are closest to the query house.\n",
    "\n",
    "**Hint**: Look at the [documentation for `np.argsort`](http://docs.scipy.org/doc/numpy/reference/generated/numpy.argsort.html)."
   ]
  },
  {
   "cell_type": "code",
   "execution_count": 41,
   "metadata": {
    "collapsed": true
   },
   "outputs": [],
   "source": [
    "def k_nearest_neighbors(k, feature_train, features_query):\n",
    "    distances = compute_distances(features_train, features_query)\n",
    "    neighbors = np.argsort(distances)[0:k]\n",
    "    return neighbors"
   ]
  },
  {
   "cell_type": "markdown",
   "metadata": {},
   "source": [
    "*** QUIZ QUESTION ***\n",
    "\n",
    "Take the query house to be third house of the test set (`features_test[2]`).  What are the indices of the 4 training houses closest to the query house?"
   ]
  },
  {
   "cell_type": "code",
   "execution_count": 42,
   "metadata": {
    "collapsed": false
   },
   "outputs": [
    {
     "name": "stdout",
     "output_type": "stream",
     "text": [
      "[ 382 1149 4087 3142]\n"
     ]
    }
   ],
   "source": [
    "print k_nearest_neighbors(4, features_train, features_test[2])"
   ]
  },
  {
   "cell_type": "markdown",
   "metadata": {},
   "source": [
    "## Make a single prediction by averaging k nearest neighbor outputs"
   ]
  },
  {
   "cell_type": "markdown",
   "metadata": {},
   "source": [
    "Now that we know how to find the k-nearest neighbors, write a function that predicts the value of a given query house. **For simplicity, take the average of the prices of the k nearest neighbors in the training set**. The function should have the following parameters:\n",
    " * the value of k;\n",
    " * the feature matrix for the training houses;\n",
    " * the output values (prices) of the training houses; and\n",
    " * the feature vector of the query house, whose price we are predicting.\n",
    " \n",
    "The function should return a predicted value of the query house.\n",
    "\n",
    "**Hint**: You can extract multiple items from a Numpy array using a list of indices. For instance, `output_train[[6, 10]]` returns the prices of the 7th and 11th training houses."
   ]
  },
  {
   "cell_type": "code",
   "execution_count": 43,
   "metadata": {
    "collapsed": true
   },
   "outputs": [],
   "source": [
    "\n",
    "def predict_output_of_query(k, features_train, output_train, features_query):\n",
    "    neighbors = k_nearest_neighbors(k, features_train, features_query)\n",
    "    prices = output_train[neighbors]\n",
    "    prediction = np.sum(prices)/k\n",
    "    return prediction"
   ]
  },
  {
   "cell_type": "markdown",
   "metadata": {},
   "source": [
    "*** QUIZ QUESTION ***\n",
    "\n",
    "Again taking the query house to be third house of the test set (`features_test[2]`), predict the value of the query house using k-nearest neighbors with `k=4` and the simple averaging method described and implemented above."
   ]
  },
  {
   "cell_type": "code",
   "execution_count": 44,
   "metadata": {
    "collapsed": false
   },
   "outputs": [
    {
     "name": "stdout",
     "output_type": "stream",
     "text": [
      "413987\n"
     ]
    }
   ],
   "source": [
    "print predict_output_of_query(4, features_train, output_train, features_test[2])"
   ]
  },
  {
   "cell_type": "markdown",
   "metadata": {},
   "source": [
    "Compare this predicted value using 4-nearest neighbors to the predicted value using 1-nearest neighbor computed earlier."
   ]
  },
  {
   "cell_type": "markdown",
   "metadata": {},
   "source": [
    "## Make multiple predictions"
   ]
  },
  {
   "cell_type": "markdown",
   "metadata": {},
   "source": [
    "Write a function to predict the value of *each and every* house in a query set. (The query set can be any subset of the dataset, be it the test set or validation set.) The idea is to have a loop where we take each house in the query set as the query house and make a prediction for that specific house. The new function should take the following parameters:\n",
    " * the value of k;\n",
    " * the feature matrix for the training houses;\n",
    " * the output values (prices) of the training houses; and\n",
    " * the feature matrix for the query set.\n",
    " \n",
    "The function should return a set of predicted values, one for each house in the query set.\n",
    "\n",
    "**Hint**: To get the number of houses in the query set, use the `.shape` field of the query features matrix. See [the documentation](http://docs.scipy.org/doc/numpy-1.10.1/reference/generated/numpy.ndarray.shape.html)."
   ]
  },
  {
   "cell_type": "code",
   "execution_count": 45,
   "metadata": {
    "collapsed": true
   },
   "outputs": [],
   "source": [
    "def predict_output(k, features_train, output_train, features_query):\n",
    "    predictions = []\n",
    "    for i in xrange(len(features_query)):\n",
    "        prediction = predict_output_of_query(k, features_train, output_train, features_query[i])\n",
    "        predictions.append(prediction)\n",
    "    return predictions"
   ]
  },
  {
   "cell_type": "markdown",
   "metadata": {},
   "source": [
    "*** QUIZ QUESTION ***\n",
    "\n",
    "Make predictions for the first 10 houses in the test set using k-nearest neighbors with `k=10`. \n",
    "\n",
    "1. What is the index of the house in this query set that has the lowest predicted value? \n",
    "2. What is the predicted value of this house?"
   ]
  },
  {
   "cell_type": "code",
   "execution_count": 46,
   "metadata": {
    "collapsed": false
   },
   "outputs": [
    {
     "name": "stdout",
     "output_type": "stream",
     "text": [
      "[881300, 431860, 460595, 430200, 766750, 667420, 350032, 512800, 484000, 457235]\n"
     ]
    }
   ],
   "source": [
    "\n",
    "print predict_output(10, features_train, output_train,features_test[0:10])"
   ]
  },
  {
   "cell_type": "markdown",
   "metadata": {},
   "source": [
    "## Choosing the best value of k using a validation set"
   ]
  },
  {
   "cell_type": "markdown",
   "metadata": {},
   "source": [
    "There remains a question of choosing the value of k to use in making predictions. Here, we use a validation set to choose this value. Write a loop that does the following:\n",
    "\n",
    "* For `k` in [1, 2, ..., 15]:\n",
    "    * Makes predictions for each house in the VALIDATION set using the k-nearest neighbors from the TRAINING set.\n",
    "    * Computes the RSS for these predictions on the VALIDATION set\n",
    "    * Stores the RSS computed above in `rss_all`\n",
    "* Report which `k` produced the lowest RSS on VALIDATION set."
   ]
  },
  {
   "cell_type": "markdown",
   "metadata": {},
   "source": [
    "(Depending on your computing environment, this computation may take 10-15 minutes.)"
   ]
  },
  {
   "cell_type": "code",
   "execution_count": 51,
   "metadata": {
    "collapsed": false
   },
   "outputs": [
    {
     "name": "stdout",
     "output_type": "stream",
     "text": [
      "[450000, 502500, 771000, 464000, 250000, 1325000, 618000, 325000, 390000, 310650, 330000, 650000, 272000, 670000, 995000, 215000, 1000000, 424500, 400000, 536000, 261500, 376000, 490000, 415000, 348000, 500000, 775000, 589000, 1205000, 515000, 1735000, 1400000, 530000, 374000, 334000, 325000, 237000, 715000, 420000, 307000, 955000, 590000, 180000, 397500, 432000, 450000, 320000, 530000, 340000, 655000, 276000, 322500, 205000, 375000, 625250, 478000, 479000, 310000, 376000, 593000, 306000, 405000, 825000, 260000, 695000, 265000, 299500, 222000, 335000, 350000, 1340000, 329000, 655000, 475000, 225000, 250275, 490000, 365000, 1400000, 549000, 288000, 980000, 499000, 359950, 282500, 280000, 440000, 525000, 281000, 285000, 299000, 696000, 250000, 330000, 721000, 560000, 235000, 360000, 217450, 425000, 240000, 338900, 720000, 689000, 624000, 1100000, 245000, 370000, 355000, 930000, 154000, 334000, 385000, 690000, 340000, 445000, 895000, 545000, 1500000, 660000, 879950, 580000, 579000, 782000, 530100, 700000, 501000, 485000, 175000, 377000, 330000, 255000, 735000, 306950, 260000, 299000, 305000, 477590, 402000, 401000, 1240000, 299950, 875000, 512500, 428900, 493000, 855000, 169317, 815000, 249950, 463000, 307000, 534000, 575000, 660000, 249000, 275000, 524225, 230000, 420000, 1490000, 507000, 165000, 242500, 261500, 667500, 539900, 480000, 415000, 340000, 462000, 599832, 405000, 375000, 480000, 459950, 552000, 807100, 517500, 440000, 570000, 510000, 218000, 725000, 293550, 668000, 650000, 294000, 440000, 525000, 580000, 740000, 870000, 498688, 590300, 659500, 500000, 375000, 475000, 553650, 500000, 1325000, 1065000, 435000, 352000, 1355000, 622000, 359950, 380000, 625250, 375000, 154000, 310000, 225000, 218500, 515000, 580000, 385000, 380000, 565000, 558000, 223000, 335000, 255000, 1582500, 238000, 1008000, 1400000, 192500, 665000, 450000, 427500, 580000, 699000, 597000, 447500, 824500, 571000, 1400000, 717000, 335000, 465000, 690000, 524950, 250000, 110000, 255000, 700000, 995500, 575000, 420000, 1260000, 759600, 330000, 324950, 757500, 473000, 264500, 381000, 267500, 320000, 440000, 217500, 2500000, 994000, 359900, 367500, 545000, 512500, 672500, 310650, 410000, 208000, 349950, 203000, 410000, 725000, 340000, 735000, 300000, 560000, 765000, 735000, 750000, 217450, 1750000, 196000, 325000, 219500, 290000, 1619999, 300000, 745000, 211000, 399000, 371000, 1370000, 400000, 271500, 329000, 835000, 442500, 429000, 469950, 399950, 619400, 678000, 740000, 339000, 419500, 1600000, 292000, 227450, 430000, 180500, 490000, 239950, 555000, 400000, 717000, 225000, 370000, 717000, 626000, 870000, 1105000, 208000, 1160000, 670000, 975000, 588500, 386000, 815000, 270000, 536000, 778983, 296000, 218000, 296000, 600000, 610000, 270000, 645000, 645000, 465000, 350000, 697000, 455000, 890000, 270000, 367500, 535000, 280000, 510000, 470000, 925000, 250000, 355000, 95000, 557500, 300000, 385000, 313500, 720000, 168000, 442000, 775000, 509000, 406000, 385100, 128000, 272167, 290000, 780000, 1267500, 379000, 305000, 559500, 630000, 950000, 192950, 610000, 733500, 325000, 869950, 285000, 712000, 750000, 600000, 740000, 1387000, 238950, 375000, 583000, 215000, 250000, 860000, 295000, 780000, 230000, 1855000, 249000, 1612500, 188000, 440000, 445000, 325000, 950000, 469900, 695000, 520000, 425000, 310000, 525000, 560000, 250000, 790000, 325000, 1325000, 815000, 536000, 260000, 442500, 665000, 393500, 450000, 700000, 370000, 470000, 570000, 425000, 475000, 674250, 412500, 1025000, 1518634, 365000, 710500, 590000, 1735000, 254000, 360000, 218000, 405000, 525000, 320000, 324000, 231000, 587000, 280950, 550000, 302000, 305000, 445000, 350000, 500000, 270000, 725000, 240000, 535000, 523000, 219950, 715000, 570000, 366350, 549950, 645000, 730000, 445000, 380000, 290000, 215000, 575000, 175000, 220000, 599950, 600000, 419000, 1400000, 385000, 469950, 650000, 450000, 325000, 365000, 305950, 1210000, 465000, 715000, 455000, 402000, 550000, 725000, 695000, 665000, 655000, 226000, 342450, 436000, 347000, 300000, 589000, 790000, 399950, 835000, 995000, 422000, 720000, 575000, 649000, 577000, 515000, 394475, 450000, 664950, 598000, 175000, 370000, 147500, 590000, 510000, 385000, 915557, 169500, 429000, 280950, 369950, 626000, 394000, 1850000, 728000, 306950, 725000, 925000, 380000, 760000, 988500, 572000, 305000, 300000, 495000, 450000, 485000, 274700, 439000, 270000, 517500, 536000, 360000, 320000, 243500, 630000, 380000, 450000, 925000, 175000, 419900, 525000, 375000, 225000, 299000, 389000, 995000, 456200, 399000, 630000, 169000, 500000, 300000, 498000, 500000, 663000, 425000, 512500, 335000, 465000, 925000, 370000, 325000, 179000, 275000, 763000, 325000, 850000, 364000, 680000, 562000, 1088000, 875000, 201000, 605000, 473000, 284000, 645000, 225000, 359950, 403000, 522000, 259900, 825000, 658588, 129000, 564000, 435000, 221000, 620000, 1619999, 295000, 514000, 248000, 358000, 775000, 255000, 757500, 290000, 315000, 321000, 425000, 421000, 360000, 665000, 650000, 705000, 561000, 295000, 530000, 515000, 721000, 525000, 1250000, 345000, 436110, 275000, 374000, 2075000, 355000, 552250, 241500, 415000, 620000, 1430000, 390000, 774000, 215000, 825000, 415000, 1050000, 250000, 648000, 239950, 655500, 418000, 370000, 950000, 490000, 575000, 625000, 453000, 475000, 950000, 445000, 457000, 310000, 489000, 590000, 351000, 620000, 277500, 284000, 539000, 855000, 319000, 825050, 197000, 355000, 455600, 523000, 139950, 604000, 625000, 570000, 367500, 330000, 499000, 250000, 365500, 449950, 157340, 321000, 340000, 739900, 276900, 509007, 195000, 345000, 490000, 184000, 830000, 410500, 580000, 355000, 707000, 203000, 393500, 570000, 1680000, 850000, 375000, 397000, 340000, 610685, 475000, 409500, 269100, 536000, 590300, 1900000, 390000, 430000, 320000, 600000, 313000, 769000, 270000, 394900, 530000, 560000, 549950, 994000, 971000, 285000, 702000, 415000, 450000, 592500, 440000, 585000, 336500, 747000, 985000, 315000, 580000, 548000, 389000, 520500, 248000, 128000, 372000, 435000, 617000, 355000, 395000, 279475, 335000, 275000, 190000, 269100, 520000, 437000, 555000, 315000, 229000, 345000, 490000, 315000, 672500, 648000, 350000, 500000, 242500, 375000, 1400000, 1000000, 1190000, 355000, 355000, 282500, 195000, 500000, 415000, 885000, 401000, 580000, 756000, 325000, 520000, 292000, 560000, 217450, 347500, 135000, 423500, 305000, 676000, 445000, 780000, 432000, 343000, 744500, 718500, 175000, 615000, 256000, 425000, 614000, 575000, 291500, 430000, 510000, 300000, 180000, 437000, 378510, 382000, 254000, 447500, 655000, 667500, 860000, 635000, 670000, 340000, 210000, 230000, 502000, 350000, 320000, 205000, 525000, 582500, 500000, 505000, 1600000, 465000, 300000, 461000, 510000, 322500, 279475, 464050, 352000, 205000, 475000, 306000, 1335000, 445000, 303700, 599000, 490000, 185000, 1093000, 365000, 249900, 1600000, 390000, 455000, 260000, 330000, 652500, 290000, 520000, 385000, 325000, 710000, 369000, 405000, 890000, 252000, 720000, 380000, 1325000, 282500, 265000, 745000, 1345000, 172000, 265000, 380000, 625000, 562000, 275000, 835000, 695000, 315000, 260000, 402000, 320000, 169000, 622000, 950000, 860000, 400000, 265000, 765000, 361000, 360000, 456200, 546800, 279900, 651000, 203000, 423500, 215000, 704000, 610000, 335000, 562500, 656500, 510000, 580000, 695000, 346500, 453000, 265000, 500000, 289000, 629000, 425000, 685650, 610000, 556000, 718000, 350000, 1355000, 315000, 560000, 1612500, 442000, 445000, 782000, 337000, 538000, 318000, 459000, 669950, 372000, 530000, 325000, 359950, 322500, 555000, 710000, 320000, 650000, 730000, 530000, 589000, 392000, 1400000, 850000, 550000, 1400000, 176500, 285000, 412000, 200000, 195000, 497500, 365000, 455000, 352500, 250000, 495000, 240000, 291500, 570000, 515000, 730000, 456000, 530000, 705640, 342000, 855000, 477000, 657500, 626000, 325000, 540000, 429000, 290000, 292000, 415000, 400000, 586000, 320000, 551000, 447500, 129000, 260000, 672500, 160000, 368500, 366350, 305000, 320000, 289950, 316000, 217500, 385000, 325000, 482000, 3204000, 385000, 342000, 765000, 625000, 540000, 495000, 531000, 235000, 422000, 358000, 400000, 530000, 962800, 3100000, 279900, 469950, 416000, 571000, 362000, 680000, 350000, 255000, 500000, 596000, 254000, 225000, 885000, 149900, 458000, 575000, 344500, 467500, 279000, 280000, 437000, 354000, 566000, 425000, 870000, 849000, 580000, 390000, 268000, 326000, 1199500, 500000, 730000, 310000, 238000, 224975, 701000, 530000, 875000, 306000, 815000, 210000, 472500, 2400000, 1150000, 560000, 760000, 375000, 453500, 250000, 330000, 227000, 319000, 357000, 610000, 610000, 190000, 299950, 649000, 248000, 812500, 747500, 489000, 648360, 610000, 295000, 436110, 790000, 645000, 266000, 870000, 797000, 300000, 1010000, 800000, 215000, 570000, 894000, 315000, 195000, 218000, 367950, 240000, 390000, 509007, 550000, 325000, 245000, 785000, 528000, 361000, 1011000, 640000, 470000, 175000, 593450, 260000, 315450, 719521, 535000, 372220, 1789950, 400000, 665000, 399950, 740000, 689000, 459950, 562500, 515500, 367500, 730000, 330000, 220000, 432000, 343000, 470000, 592100, 415000, 240000, 560000, 337500, 599950, 290000, 595000, 546200, 171800, 436000, 460000, 472000, 600000, 275000, 307000, 425000, 988500, 800000, 365000, 404500, 925000, 382000, 530000, 790000, 375000, 414500, 186375, 1010800, 246000, 365000, 183000, 500000, 895000, 430000, 290000, 936000, 205000, 385000, 700000, 449000, 390000, 122000, 350000, 254000, 250600, 135000, 468000, 699000, 306000, 480000, 685000, 580000, 538000, 260000, 575000, 394000, 266490, 520000, 1337500, 500000, 590000, 170000, 430000, 219950, 469900, 635000, 552250, 205000, 432000, 387500, 250000, 279950, 415000, 500000, 1680000, 365000, 605000, 208000, 515000, 205000, 509500, 303100, 855000, 477000, 624000, 859000, 650000, 883000, 330000, 315000, 390000, 550000, 417000, 367000, 554950, 520000, 827500, 530000, 186000, 1800000, 205500, 799000, 405000, 652000, 530000, 720001, 529000, 880000, 321000, 432500, 810000, 2000000, 560000, 475000, 442500, 629000, 890000, 780000, 807100, 413800, 535000, 275000, 249000, 1795000, 830000, 430000, 368250, 249900, 325000, 323000, 810000, 780000, 740000, 440000, 1150000, 385000, 380000, 539000, 725000, 538000, 264000, 315450, 290000, 350000, 477000, 861111, 602000, 667500, 850000, 510000, 368000, 641000, 850000, 199000, 895000, 275000, 500000, 450000, 225000, 244000, 575000, 650000, 530000, 864000, 540000, 275000, 147500, 649000, 600000, 300500, 325000, 600000, 395000, 1580000, 310000, 386000, 631625, 625250, 530000, 995500, 380000, 369950, 765000, 352000, 995000, 599950, 1400000, 705380, 600000, 695000, 740000, 555000, 539900, 360000, 925000, 1438888, 510000, 340000, 637000, 699188, 517500, 499000, 597326, 296000, 740000, 625000, 352000, 799000, 655000, 590000, 770000, 370000, 495000, 599950, 659950, 305000, 445700, 1299888, 720000, 499000, 609850, 334500, 870000, 302860, 362500, 359900, 815000, 556000, 330000, 400000, 932808, 869950, 349990, 734990, 425000, 2000000, 499990, 401750, 479950, 369000, 256883, 675000, 539000, 450000, 919990, 797000, 469000, 401000, 399950, 416000, 449000, 395950, 820000, 365000, 340000, 320000, 655000, 369990, 778983, 798500, 352499, 399000, 780000, 599950, 289000, 280000, 1850000, 556000, 304500, 485000, 1010800, 395950, 403000, 495000, 810000, 680000, 1285000, 919950, 275000, 322000, 370000, 467000, 419354, 430000, 208800, 282000, 310000, 652600, 440000, 720000, 553650, 720000, 671500, 676000, 770000, 1010000, 286000, 995500, 305000, 312500, 429900]\n",
      "[487500, 537250, 632500, 319501, 299225, 1387500, 461000, 555000, 443500, 358540, 312500, 501500, 329050, 496100, 982000, 365000, 930000, 379250, 412500, 510500, 283250, 360000, 742500, 597500, 301950, 562500, 860500, 557000, 1037500, 427500, 1716500, 1557500, 522500, 389500, 359500, 345000, 254500, 723500, 329950, 243500, 903940, 447000, 317500, 365750, 325500, 553750, 354000, 537500, 299000, 557500, 338000, 313750, 275000, 362500, 562125, 519500, 565750, 317500, 498000, 599000, 277000, 378500, 740000, 271725, 725000, 287500, 282250, 288000, 401250, 354750, 900000, 309500, 557500, 522000, 211500, 284637, 532500, 382500, 1099975, 434000, 366850, 911250, 489500, 332475, 273750, 341000, 490000, 675000, 266500, 313500, 447000, 640500, 275000, 340000, 772500, 457500, 302475, 397450, 219675, 516500, 211500, 394450, 545000, 667000, 602000, 829000, 247500, 382500, 339000, 761500, 352000, 308874, 305000, 687500, 340000, 436875, 965000, 471000, 1410000, 540000, 1124975, 473500, 652000, 838000, 395050, 575000, 515000, 510500, 247500, 426900, 464975, 212500, 607500, 426475, 250000, 462000, 309975, 516795, 528500, 380500, 1250000, 307475, 553000, 523750, 732096, 421450, 628000, 283158, 741250, 368975, 383350, 311000, 508000, 477500, 546000, 354500, 240500, 724612, 373750, 543000, 1389500, 443450, 490000, 283750, 254000, 703750, 457450, 497500, 422500, 330000, 391000, 674916, 389500, 385000, 560000, 592475, 479250, 793041, 389750, 438250, 407500, 379975, 260000, 752500, 426275, 682000, 577500, 425500, 435000, 460000, 422500, 737500, 670000, 546844, 455150, 679250, 512500, 535000, 330000, 541325, 739000, 1102500, 902500, 392500, 313500, 1021500, 646000, 334975, 389000, 616625, 340500, 352000, 368475, 267000, 334250, 508500, 616500, 325875, 442500, 400000, 556000, 292750, 352495, 285137, 1421250, 282500, 837500, 975000, 211250, 682500, 529000, 451750, 451000, 724500, 648500, 478253, 808750, 660500, 1400000, 671000, 325500, 405000, 515000, 554975, 221250, 174475, 247500, 520000, 1222750, 598750, 372500, 1330000, 574800, 370000, 374975, 628000, 389000, 277250, 380500, 268250, 317500, 490000, 175250, 2090000, 796000, 407050, 310250, 608250, 616250, 593750, 301825, 306500, 209000, 342475, 270950, 377500, 540150, 319950, 802500, 333750, 429997, 762500, 788750, 774500, 276225, 1850000, 195000, 382500, 309750, 398000, 1559999, 344500, 705000, 260500, 387000, 397000, 1385000, 380000, 380750, 364500, 1206500, 543750, 464500, 604975, 517475, 665700, 764000, 602500, 344500, 342250, 1600000, 290000, 181225, 465000, 261250, 425000, 293475, 495500, 432500, 623500, 272500, 437500, 623500, 431387, 847000, 1017500, 225250, 1192500, 775000, 772500, 504250, 469125, 695000, 436000, 453000, 629491, 316750, 251500, 316750, 479975, 545000, 230500, 590475, 635000, 412475, 422500, 731000, 380500, 840000, 309500, 325475, 420000, 382500, 511500, 396000, 1050000, 240000, 387500, 232500, 503000, 288450, 345000, 328250, 790000, 204000, 294700, 682500, 528525, 428000, 350550, 130500, 303583, 352125, 745250, 1158750, 327125, 210000, 500850, 659000, 855000, 141475, 560000, 686750, 337500, 874950, 393750, 673500, 809975, 647500, 755000, 1411500, 210975, 537500, 434000, 409500, 262500, 892500, 302500, 507500, 221250, 1538750, 269500, 2093250, 244500, 508500, 635000, 395000, 1019500, 632450, 644975, 462500, 362500, 294500, 548450, 604180, 266874, 1292500, 295000, 1195000, 840000, 537500, 282500, 360750, 475000, 351750, 425000, 617500, 480000, 407500, 409000, 442500, 341250, 617125, 333750, 1085900, 1171842, 345000, 633250, 955812, 1792500, 271500, 670000, 211500, 369750, 700000, 337500, 374500, 297500, 475375, 390975, 577500, 501000, 283250, 627500, 262500, 449500, 259950, 567250, 292500, 526250, 378000, 244475, 697500, 461000, 495675, 573475, 641750, 804975, 492475, 635000, 441250, 332500, 490000, 248750, 230000, 500475, 620000, 399500, 940000, 655650, 499975, 674500, 497500, 390000, 510000, 362975, 1000000, 432500, 695000, 350250, 372500, 550000, 787500, 747000, 855000, 577500, 357500, 363725, 468000, 301000, 466000, 657497, 770000, 332475, 777500, 742500, 562000, 684975, 687500, 1222000, 446500, 557500, 359737, 432500, 589725, 584500, 262500, 301000, 188700, 694500, 477717, 372500, 1022778, 152250, 515500, 575975, 377475, 415500, 444500, 2212000, 553500, 224725, 592500, 910000, 477500, 630000, 1494250, 543500, 400000, 242500, 483750, 425000, 535000, 412350, 407000, 260500, 517500, 510500, 413500, 460000, 329250, 585750, 470000, 309500, 874500, 195000, 489950, 548450, 395000, 213000, 312000, 352000, 772450, 350850, 442000, 659000, 266000, 630000, 537000, 536400, 488250, 597750, 420000, 523750, 276750, 445000, 1050000, 285000, 532500, 517000, 332500, 671500, 390000, 592750, 316500, 602112, 638500, 1421500, 822000, 340000, 651000, 624000, 371750, 670000, 279000, 455975, 366000, 403500, 255450, 740000, 516794, 224500, 592000, 526500, 283000, 534750, 1293999, 278750, 582000, 243500, 364000, 775000, 247475, 676225, 285000, 382500, 424500, 450000, 385500, 387500, 757500, 1050000, 700000, 593500, 355000, 542000, 441250, 505475, 668000, 910000, 337400, 426055, 285000, 389500, 1687500, 304000, 643620, 243250, 364750, 714000, 1096500, 521250, 537000, 327500, 650000, 537500, 985000, 282500, 713500, 293475, 535250, 392700, 391066, 914500, 530000, 462500, 735000, 387750, 397500, 857500, 467500, 489750, 317500, 525500, 572500, 403500, 614975, 401250, 331255, 592000, 652500, 307000, 842525, 218000, 485000, 463550, 478000, 134475, 532000, 635000, 722475, 310250, 467502, 557500, 292250, 457250, 374475, 191170, 424500, 294500, 667425, 288450, 469478, 294000, 445000, 742500, 257000, 958000, 480750, 489975, 280000, 716000, 376500, 385000, 452475, 1500000, 707500, 517500, 378500, 451250, 512842, 523500, 427250, 285797, 510500, 526650, 1749975, 490000, 680000, 485000, 607500, 326475, 822000, 300000, 312400, 417500, 563000, 424325, 822000, 1185500, 307500, 516000, 393500, 382500, 686250, 345300, 462500, 300750, 549500, 635000, 267500, 508000, 401500, 445500, 534000, 391500, 130500, 375500, 365000, 488500, 470000, 467500, 279687, 426500, 274750, 182475, 285797, 590000, 361000, 575000, 245000, 352000, 305000, 447500, 519975, 533750, 664000, 450000, 447000, 322500, 362250, 1044000, 855000, 1220000, 497500, 558750, 450250, 309750, 605000, 283500, 872500, 360450, 523750, 572975, 283750, 540000, 297250, 541000, 313725, 336250, 120000, 389250, 215750, 638000, 370000, 647500, 331500, 361450, 737250, 659250, 241000, 633500, 348000, 316500, 960500, 575000, 293750, 544250, 485000, 337500, 183187, 624000, 331255, 580500, 234500, 478253, 522500, 672707, 792500, 743750, 496250, 451250, 239975, 245328, 616750, 240000, 405000, 249975, 668000, 541253, 419500, 442500, 1725000, 557500, 310000, 393000, 422000, 256250, 252237, 407025, 468500, 187000, 395000, 313000, 1028250, 532200, 406850, 892000, 410000, 330000, 1584000, 314000, 226450, 1625000, 490000, 455600, 252550, 272500, 613750, 224275, 540000, 554000, 417500, 687500, 384475, 435000, 710577, 243500, 745000, 539500, 937500, 358750, 302500, 790000, 1302500, 308500, 235000, 497500, 602500, 525500, 270875, 826500, 800000, 578500, 276250, 454500, 267500, 284500, 646000, 857500, 815000, 540000, 235000, 677500, 478000, 364500, 418100, 538400, 294950, 618000, 226450, 419250, 295000, 529475, 602500, 402500, 451250, 708250, 417500, 557500, 637567, 442750, 487000, 272500, 456066, 314500, 532000, 438750, 735325, 707500, 498000, 626500, 371500, 1430000, 317500, 501000, 2093250, 503500, 385000, 593000, 498500, 469000, 276500, 503500, 512475, 368500, 566000, 333944, 517475, 454250, 490000, 595500, 407500, 615000, 657500, 670000, 600500, 395950, 1044000, 742500, 562500, 1437500, 433250, 445000, 410975, 240000, 289000, 393725, 345000, 400750, 357500, 271775, 710000, 321000, 293750, 407500, 427500, 747500, 379000, 519500, 607820, 435500, 840025, 613500, 687500, 518000, 270000, 434950, 348500, 277500, 471000, 364250, 355000, 453000, 291750, 459000, 451250, 224500, 350000, 813500, 189950, 481750, 343175, 512500, 321250, 267475, 332225, 266250, 312500, 325000, 406000, 2334500, 547500, 663500, 794750, 563750, 565000, 382500, 368000, 302475, 578500, 371500, 533500, 622500, 912900, 2550000, 249450, 499975, 426055, 565500, 326875, 602112, 393500, 340000, 409500, 483000, 234500, 252500, 622500, 279925, 355500, 419000, 304700, 596250, 289475, 251250, 430250, 339500, 405500, 362000, 635000, 787000, 502000, 390000, 274000, 330500, 994750, 489500, 655000, 442500, 289000, 215462, 550500, 1515000, 737475, 313000, 802500, 252500, 486250, 1825000, 727500, 625000, 949495, 517500, 529250, 450000, 312500, 303500, 333250, 512250, 719000, 567500, 192500, 307475, 773000, 277000, 761250, 808750, 435725, 501680, 582500, 282500, 426055, 645000, 587500, 352000, 1015000, 1061000, 387500, 869500, 607500, 365000, 572500, 834500, 322475, 402500, 238000, 517725, 283500, 403500, 470553, 437500, 532500, 309000, 910146, 424500, 438000, 1120500, 698750, 395000, 252500, 456725, 459250, 357725, 764260, 508000, 318610, 1567475, 429500, 701000, 411975, 490000, 667000, 714005, 452225, 662750, 313725, 745000, 419750, 232500, 468700, 456500, 466500, 435550, 493000, 262000, 422500, 293700, 457975, 367900, 637500, 648600, 188900, 449000, 532500, 615500, 632000, 247500, 227250, 420000, 808750, 755000, 450000, 286250, 737000, 478475, 444975, 779997, 269400, 385750, 183187, 1155400, 240500, 332500, 204000, 657421, 922500, 519500, 276500, 762725, 273500, 335450, 689000, 517000, 394975, 171000, 455000, 271500, 267800, 206000, 556500, 644500, 356750, 465000, 485083, 549500, 1146500, 413000, 490000, 556250, 286245, 490000, 1106250, 426500, 557500, 130000, 461500, 317475, 579950, 815000, 567625, 368000, 365997, 428725, 301000, 277600, 325000, 435000, 1965000, 303225, 727500, 243500, 491500, 160000, 419750, 359050, 642500, 408500, 487000, 727000, 842500, 889500, 260000, 360000, 266250, 495500, 278500, 453500, 519975, 590000, 718725, 551250, 266750, 1280000, 310750, 904900, 528750, 457750, 575000, 485000, 388750, 617500, 424500, 426250, 909000, 2200000, 528000, 355000, 543750, 808750, 905500, 752500, 696050, 481900, 592500, 345000, 399500, 1222000, 865500, 390000, 490125, 257450, 487000, 393975, 665000, 852500, 722500, 419000, 1255000, 312000, 380500, 463000, 522500, 410725, 329500, 502725, 415562, 337250, 408500, 897050, 468500, 593750, 592000, 487500, 459000, 492250, 708750, 269250, 772500, 324000, 550000, 364050, 212500, 235400, 792500, 474500, 488500, 712000, 570000, 412500, 210250, 729500, 590000, 364000, 309000, 762500, 524500, 1218663, 317500, 353000, 633312, 616625, 670000, 1185250, 389500, 377475, 837250, 378500, 923750, 492475, 998663, 565190, 550000, 725000, 737500, 647500, 558450, 372500, 752000, 1049419, 429250, 331000, 781000, 562069, 517500, 630750, 873163, 293750, 1210000, 529250, 510500, 614450, 596500, 490000, 1225000, 330000, 450250, 597475, 579225, 302000, 375350, 1124944, 978000, 487000, 772425, 369750, 918000, 308180, 357500, 372450, 737475, 611000, 334450, 551000, 782904, 859970, 354995, 547445, 427450, 1850000, 519995, 373375, 625975, 519500, 408441, 707500, 582252, 381750, 984995, 931000, 475750, 505975, 462475, 426055, 372000, 427475, 867250, 404375, 336250, 395000, 627500, 323995, 629491, 607250, 338749, 464500, 909000, 544725, 300750, 291250, 1792500, 611000, 397750, 542500, 1160900, 427475, 373000, 635000, 729000, 610000, 1172250, 732375, 371500, 375500, 335250, 413500, 467579, 380000, 278400, 343500, 315500, 712300, 373000, 630000, 541325, 630000, 583250, 620000, 820000, 972500, 283000, 957745, 390500, 308750, 464950]\n",
      "[466000, 466833, 606666, 326334, 317633, 1183833, 384000, 489983, 409000, 336693, 384739, 521000, 362700, 432400, 961666, 376650, 701666, 326166, 451666, 472833, 362166, 421000, 765000, 674333, 313633, 518333, 975835, 493333, 987416, 480000, 1761000, 1884333, 481650, 384666, 333000, 363333, 316416, 789333, 403300, 267333, 909293, 499666, 311666, 361833, 358000, 561500, 373650, 573333, 277516, 738333, 306000, 317500, 358333, 594333, 569083, 555000, 507166, 345666, 520000, 654333, 309666, 455786, 785000, 272816, 683333, 279666, 277500, 261333, 367166, 403166, 1020000, 283000, 635000, 470750, 210333, 309758, 621666, 418333, 938966, 459333, 346233, 847500, 457666, 337983, 327500, 335666, 532333, 608333, 279333, 342333, 429666, 759666, 288333, 285000, 626666, 390627, 266316, 351883, 283116, 456300, 227666, 398783, 693333, 674333, 600500, 667666, 253600, 370833, 397333, 856000, 518000, 322582, 437000, 698500, 414166, 337916, 860000, 631333, 1431666, 472333, 1116651, 475666, 687166, 788666, 325033, 633333, 520000, 463666, 230000, 437933, 404883, 243413, 699333, 384983, 238333, 407666, 304983, 536196, 594000, 360300, 1195333, 297983, 487000, 589166, 628030, 379300, 693666, 324605, 702833, 354650, 370733, 259000, 490333, 535833, 502333, 329666, 227000, 692158, 375816, 515000, 1329666, 433716, 481666, 275833, 258250, 644166, 434300, 488000, 501666, 313333, 402000, 837944, 326666, 395000, 523333, 577250, 496500, 762027, 432333, 407166, 417166, 353983, 360000, 788333, 428183, 701333, 489333, 470333, 470666, 524666, 451666, 866666, 575000, 478562, 416766, 667833, 480000, 566666, 304583, 492550, 632666, 1028000, 868000, 411866, 334000, 1082666, 622266, 406650, 386333, 601083, 319300, 418000, 362650, 291000, 364500, 545666, 760166, 328583, 388000, 335166, 449000, 311833, 327663, 281425, 1238833, 273666, 827666, 879333, 260833, 564966, 542650, 419833, 409000, 771333, 534000, 472169, 682500, 578666, 1162666, 630666, 390333, 488333, 526666, 470650, 215833, 188316, 260666, 466666, 1121830, 481833, 352000, 1170000, 513200, 455333, 417316, 632000, 374333, 278166, 386333, 252150, 270000, 532333, 226816, 2325000, 648333, 511033, 289833, 528833, 589166, 513166, 296216, 344333, 212666, 361775, 320633, 330666, 445100, 314966, 806666, 482500, 449998, 735000, 822500, 770500, 320816, 1350000, 213333, 325000, 303666, 402000, 1406668, 407666, 715666, 238666, 407000, 406333, 1290001, 432666, 401166, 356333, 1364333, 537166, 416316, 568316, 424966, 592133, 742666, 1035333, 365166, 329833, 1683333, 371666, 192083, 460000, 229166, 423316, 280650, 484333, 450000, 557333, 311666, 416666, 557333, 370925, 794296, 893333, 243166, 1148333, 677000, 771333, 586166, 430083, 730000, 440333, 398633, 619161, 282833, 236833, 317833, 538316, 620000, 289000, 638650, 643166, 443983, 471650, 762166, 386000, 796666, 407000, 365316, 452500, 430000, 496666, 353650, 1066666, 216666, 408000, 240666, 537000, 274966, 349983, 333833, 636633, 269333, 329133, 576666, 464016, 366166, 306366, 196983, 318555, 361383, 780166, 1087500, 308083, 190000, 477233, 596833, 949663, 324316, 566666, 542833, 308333, 879950, 470833, 650666, 806316, 628333, 1253333, 1566000, 220650, 531126, 398500, 393000, 275000, 870016, 318333, 453333, 247500, 1847950, 263666, 3099100, 216333, 544000, 553333, 432333, 829500, 741633, 676650, 403333, 356666, 343833, 476133, 628786, 277899, 1175000, 298666, 936666, 806666, 505000, 318833, 343833, 460000, 431833, 357333, 512333, 544750, 507333, 412666, 503000, 300166, 534750, 357500, 1182266, 1027894, 360000, 617166, 1270875, 1535000, 267666, 566500, 251000, 331500, 605666, 323333, 369833, 303333, 503583, 380983, 625000, 460000, 290499, 686666, 353333, 432666, 259933, 585833, 281885, 438166, 355333, 252150, 690000, 556333, 437116, 573983, 636166, 798316, 442300, 713316, 392500, 370144, 419666, 249166, 261333, 441983, 665833, 353000, 806083, 587100, 499983, 724333, 558333, 395000, 445666, 391650, 1288333, 423333, 690000, 371833, 540000, 550000, 838333, 641300, 767666, 600000, 396666, 315816, 435333, 280650, 609000, 683331, 638333, 414316, 706666, 915000, 508000, 606650, 565300, 1115000, 386000, 534000, 310700, 411333, 539483, 669333, 243333, 384000, 230800, 703000, 433478, 448316, 895185, 192166, 476666, 613316, 359983, 413666, 566333, 2008000, 493000, 192816, 597333, 870000, 459666, 517666, 1204500, 586500, 360666, 271333, 489166, 357333, 473500, 461566, 545666, 260300, 543666, 542001, 445666, 673333, 329500, 642100, 400000, 311333, 949500, 191000, 671730, 476133, 423333, 195333, 361333, 324150, 864966, 367233, 531333, 626000, 347333, 660500, 460000, 599266, 458000, 523500, 400000, 589166, 351166, 499666, 972666, 246333, 629666, 474666, 343333, 532666, 410000, 518500, 357333, 709741, 511333, 1143666, 913000, 363333, 708833, 622666, 386166, 619333, 275666, 412316, 319000, 455666, 281966, 754000, 559529, 199666, 579666, 445166, 280333, 548166, 1155983, 247500, 495666, 254633, 402333, 696666, 316650, 612483, 278166, 385000, 432983, 416833, 360333, 400000, 821333, 1005185, 716666, 493333, 318333, 517333, 388650, 487983, 559333, 890000, 338266, 421853, 336650, 369666, 1464033, 326000, 557413, 252150, 386483, 609333, 931000, 539166, 472666, 335000, 608333, 535000, 931666, 371666, 603000, 260650, 500833, 331800, 427377, 897833, 539333, 463333, 594666, 363500, 382966, 1001333, 408166, 424833, 345666, 469000, 613333, 406666, 603316, 534166, 306503, 569333, 641333, 288000, 856683, 232333, 523666, 452366, 438666, 166633, 476666, 578333, 626650, 285166, 586668, 573333, 279833, 426500, 439650, 212446, 432983, 279666, 606616, 274966, 457019, 326000, 417000, 915000, 236333, 855000, 468833, 453316, 252000, 737333, 397666, 376666, 388150, 1370000, 708333, 564529, 365666, 438483, 550228, 444000, 359833, 373531, 472833, 497766, 1658316, 495333, 594333, 472666, 620000, 456316, 913000, 361666, 333266, 381666, 457000, 450216, 734666, 1438666, 533333, 509000, 411333, 377500, 574166, 325200, 538166, 306333, 533000, 823333, 289666, 462000, 358000, 446500, 506000, 511000, 220333, 457000, 330833, 444000, 528333, 430000, 309791, 381000, 339166, 244983, 380198, 598333, 354666, 497333, 246666, 310000, 290000, 461333, 529983, 527500, 681000, 465000, 448666, 291666, 319833, 879333, 756666, 1216666, 435000, 547500, 445166, 314833, 506865, 275666, 781666, 338966, 634166, 603650, 307166, 574333, 370333, 607333, 320816, 315833, 149333, 376166, 218833, 613333, 334983, 526150, 389466, 355966, 685833, 747833, 222333, 637333, 456166, 286000, 935333, 481666, 307500, 497666, 501666, 360000, 193791, 591000, 306503, 543633, 273666, 472169, 503333, 666805, 788333, 827500, 526166, 463366, 241650, 205132, 562566, 227166, 443333, 224983, 742000, 554169, 388000, 420000, 1683333, 486666, 368333, 348666, 354666, 272500, 241158, 438016, 545666, 213000, 356833, 406483, 885033, 641466, 425566, 869666, 485833, 398333, 1691000, 492666, 227633, 1346666, 423333, 385566, 249366, 299666, 600833, 299516, 579533, 609666, 377966, 670666, 406316, 423333, 646511, 255333, 785000, 491333, 913333, 315833, 334983, 748333, 1112333, 300000, 266333, 472666, 569167, 469000, 268916, 901000, 796666, 535666, 327166, 403000, 405000, 328000, 622266, 825000, 769333, 682666, 295000, 612833, 433666, 534666, 424400, 451433, 275966, 598666, 215300, 392833, 312833, 469650, 611000, 340816, 414166, 708833, 448316, 510000, 613045, 436333, 432166, 272333, 427377, 313833, 520166, 407500, 731883, 651083, 522000, 594333, 431000, 1182666, 328333, 414000, 3099100, 417333, 295000, 612000, 472333, 581000, 314333, 455666, 574983, 489000, 510333, 335296, 563316, 500650, 543333, 568666, 356666, 590666, 588333, 612815, 569416, 390616, 1108000, 728316, 465000, 1518333, 368833, 406000, 390650, 233333, 334166, 413483, 300000, 409500, 355000, 299516, 760000, 505666, 307500, 446666, 480000, 801500, 401166, 603333, 685213, 474883, 868350, 642333, 608333, 456669, 231166, 393300, 325666, 273166, 462983, 336150, 403333, 409500, 372833, 486000, 414166, 255666, 310333, 676666, 184093, 526166, 347116, 422833, 409500, 306650, 336483, 287483, 328333, 320000, 362333, 1935996, 461000, 604000, 762166, 592167, 478000, 412500, 380833, 266316, 547333, 364316, 625000, 571000, 820266, 2300000, 340633, 499983, 421853, 695166, 317233, 709741, 409000, 292666, 488000, 431000, 248000, 245316, 530666, 329950, 433000, 433000, 286666, 520000, 297983, 256500, 371166, 311333, 357000, 406333, 556666, 706333, 554196, 376666, 273333, 332833, 928166, 461500, 673333, 391666, 276000, 200308, 542000, 1256666, 599983, 406483, 780000, 258316, 489166, 1517000, 603333, 556633, 1121330, 505000, 539500, 410000, 384739, 322333, 330500, 522166, 945333, 540000, 286666, 293813, 783333, 284333, 736166, 847500, 458733, 521120, 528000, 271666, 421853, 980000, 573333, 421333, 988333, 995666, 436333, 1201333, 540416, 387366, 580666, 810433, 336483, 335166, 231000, 538483, 387666, 406333, 457019, 435000, 554983, 347666, 831764, 375650, 452666, 922000, 570833, 382500, 281300, 411983, 449500, 342150, 657007, 477000, 365740, 1511650, 483100, 777333, 374316, 693333, 551333, 731003, 467650, 650916, 399150, 638333, 389833, 338333, 453466, 427333, 433750, 440033, 548666, 234666, 552000, 275783, 503650, 320066, 628333, 678733, 276266, 372666, 467333, 592000, 601333, 289333, 256500, 474333, 867500, 753333, 463333, 402833, 744666, 578650, 566650, 713331, 290562, 406166, 230458, 1103583, 232833, 351666, 218833, 613280, 965000, 595000, 267633, 793983, 215666, 276483, 576000, 458000, 373316, 234533, 620000, 264333, 332533, 178000, 602666, 556333, 370166, 402700, 480055, 538000, 960333, 402000, 485000, 602500, 273496, 516666, 1012500, 459000, 606666, 185000, 448666, 301316, 676633, 867333, 623413, 380833, 420665, 419483, 267333, 276733, 375000, 486666, 2143333, 385483, 798333, 280333, 452666, 185000, 419000, 347700, 550000, 355333, 564667, 1085583, 860000, 881000, 278333, 313000, 332183, 525333, 309000, 486000, 521650, 553316, 599816, 477500, 316166, 1096666, 268800, 869916, 475500, 456833, 534500, 421667, 435833, 695000, 386333, 536500, 783166, 1866666, 576750, 375000, 528833, 939166, 842375, 656666, 697366, 481750, 538000, 376650, 443000, 1128666, 1377000, 425000, 516416, 258266, 491333, 350983, 652000, 809333, 863333, 427000, 1520000, 356333, 386333, 414000, 513333, 420150, 264666, 468483, 518708, 468166, 415666, 826367, 410650, 495666, 473333, 483333, 501000, 598166, 672166, 312833, 831666, 289333, 549983, 476033, 214966, 256933, 688333, 458000, 406166, 1034666, 591666, 403333, 278333, 904666, 639966, 336000, 303166, 601833, 465166, 1052442, 345666, 298833, 572191, 580083, 700000, 1206833, 504666, 368313, 833166, 455786, 1049129, 469983, 1102775, 615793, 490000, 593000, 705000, 578000, 505633, 448316, 743000, 891262, 392833, 408166, 799000, 619712, 523333, 578833, 788775, 305833, 1063333, 556833, 473333, 759633, 527666, 448333, 1106666, 366000, 398166, 556650, 865779, 316333, 363566, 1208296, 922666, 451333, 584416, 331500, 852000, 332086, 405000, 449966, 738316, 673500, 281300, 560711, 1093602, 836813, 399996, 516363, 467966, 2266666, 515215, 370583, 659650, 476333, 450961, 808333, 539151, 384500, 1432663, 884000, 460533, 466483, 474983, 459370, 364633, 504966, 839816, 457083, 365833, 412666, 538316, 314330, 619161, 550203, 334166, 452666, 992666, 598150, 313833, 291500, 1735000, 673500, 408466, 608300, 1207266, 498311, 373666, 806333, 738500, 680000, 1117500, 646583, 339166, 451000, 316833, 421000, 461719, 475333, 287266, 311666, 299163, 624850, 390333, 628333, 476550, 595000, 570500, 556666, 1106666, 929666, 258666, 980163, 379000, 302166, 455300]\n",
      "[489500, 433875, 652750, 476325, 319475, 1080375, 332062, 519987, 456000, 339895, 396054, 466750, 352025, 478050, 1036250, 372475, 617500, 309625, 464500, 470875, 388375, 395250, 804000, 733250, 287425, 627375, 1056876, 496812, 1034227, 499000, 1725750, 1642139, 466737, 373500, 366500, 379750, 297812, 729500, 412475, 277637, 893582, 463000, 296750, 410125, 343500, 511112, 376737, 527500, 352387, 743500, 321000, 279125, 328725, 664500, 579812, 541250, 531000, 316750, 542500, 665000, 286375, 488090, 923125, 294862, 870000, 290750, 313125, 248500, 396625, 426125, 923750, 269750, 657500, 447562, 207125, 278568, 625625, 395000, 902975, 505750, 344675, 721625, 447250, 317237, 303125, 295500, 578750, 636250, 340750, 336250, 609750, 754750, 372750, 270250, 588750, 374157, 272987, 395162, 324837, 455350, 224500, 389837, 667500, 587000, 587875, 623250, 301650, 415625, 359250, 773250, 526000, 316912, 541500, 682625, 485625, 325937, 806250, 668500, 2196000, 458000, 1212488, 452250, 595375, 755250, 306275, 652500, 490000, 464000, 247250, 475950, 378662, 240060, 655750, 372487, 224500, 415500, 306737, 507147, 680500, 387225, 1055250, 290110, 456837, 606525, 646023, 428975, 716500, 319954, 669625, 393487, 395550, 294000, 462172, 551125, 469750, 315625, 233750, 692868, 412362, 531250, 1234750, 425787, 466225, 300625, 261687, 659625, 423225, 466750, 481250, 293750, 431500, 845958, 318750, 361625, 466375, 571687, 528875, 731520, 392250, 377625, 444125, 360487, 411500, 729987, 471887, 672250, 497750, 472737, 560750, 511000, 457500, 818750, 579612, 434847, 428575, 706875, 429500, 570000, 285687, 489162, 626375, 969250, 739750, 407650, 300500, 1188250, 585450, 442987, 403800, 596562, 339462, 488250, 362362, 320625, 344125, 516750, 667125, 316437, 434750, 355375, 473762, 304625, 318622, 301056, 1016625, 282750, 720750, 960750, 278125, 561225, 509114, 437125, 381725, 796000, 480750, 485376, 617625, 566500, 1173250, 598000, 367500, 441250, 535000, 471737, 210875, 186987, 316750, 571250, 973872, 448000, 403975, 1190000, 440650, 402500, 448987, 800500, 389875, 309875, 397250, 258862, 323749, 578750, 261237, 2210000, 742500, 479525, 268375, 491125, 660625, 531125, 344662, 437500, 263250, 376331, 419725, 336800, 489825, 331975, 842500, 480625, 418748, 730000, 948125, 696625, 342112, 1206250, 208750, 351250, 316500, 392750, 1297001, 524500, 745500, 237000, 459500, 415300, 1187488, 449750, 396487, 335250, 1285750, 527625, 444737, 501237, 416725, 650350, 644500, 908475, 365125, 324875, 1675000, 411250, 194562, 453725, 240625, 417475, 324237, 418250, 438750, 579250, 287500, 600000, 579250, 434443, 770722, 826500, 270875, 1273250, 594750, 717250, 604625, 468312, 717750, 417500, 420225, 644120, 272112, 273900, 292125, 594362, 681250, 268250, 609612, 657125, 426487, 443612, 759000, 431987, 801750, 417500, 342737, 393450, 568750, 462500, 363987, 1031250, 257487, 379750, 251750, 540250, 302475, 324737, 345350, 679962, 267000, 361600, 580625, 441987, 355875, 301025, 220987, 318916, 354787, 652625, 1011875, 309437, 199250, 411675, 515125, 1513247, 357487, 542500, 607625, 285250, 847462, 498125, 585500, 827225, 628750, 1638750, 1330750, 221737, 600120, 438875, 432250, 285000, 866262, 279250, 493750, 275625, 1798462, 259000, 3011825, 238125, 486750, 660000, 414237, 1072125, 856100, 696237, 355000, 363750, 324125, 439600, 560340, 287174, 996250, 317055, 947125, 710000, 429500, 280875, 387375, 503737, 401375, 309000, 478750, 533562, 453000, 584500, 571750, 331375, 548562, 396125, 1122950, 1002171, 323750, 594112, 1058156, 1575750, 271375, 524125, 260250, 351750, 504250, 363750, 407125, 316250, 502687, 434487, 570312, 443250, 322124, 649562, 335000, 429500, 253700, 593125, 354414, 458000, 383250, 298862, 674312, 554750, 434400, 551362, 538375, 821225, 481725, 634737, 426679, 377596, 414750, 240875, 327250, 481487, 578125, 349000, 913562, 506825, 454975, 708125, 562500, 450612, 501125, 367487, 1138750, 470000, 674312, 386375, 486000, 609375, 736250, 733675, 808250, 580125, 392500, 298662, 459000, 278987, 567375, 628748, 566250, 383237, 606250, 916500, 513500, 547487, 545225, 1033750, 438250, 591750, 298025, 408487, 603362, 605750, 256237, 354550, 215600, 733500, 402608, 442487, 851389, 221625, 438000, 546237, 373487, 393752, 587000, 1909125, 459625, 188362, 623000, 887500, 488500, 853750, 1328375, 586125, 349250, 269750, 513625, 360487, 436375, 424925, 471750, 278975, 541500, 518376, 443250, 641000, 413375, 561575, 441500, 300500, 892875, 208250, 641298, 452100, 387500, 196500, 358500, 363112, 861850, 353425, 488500, 537000, 346000, 960875, 421250, 604950, 433500, 552875, 365250, 650625, 320750, 544250, 950250, 254750, 603500, 471000, 359125, 492000, 412500, 472375, 351000, 644806, 577625, 1067750, 827250, 337664, 679875, 688812, 402125, 563000, 263250, 395487, 308000, 526750, 322225, 899875, 617147, 222142, 608500, 391375, 329375, 522375, 1209487, 266875, 460500, 287225, 395487, 809750, 324237, 644337, 309875, 361249, 394225, 439500, 334750, 365250, 840500, 912639, 759987, 489500, 345000, 515250, 370237, 543931, 550750, 862000, 333687, 484265, 317487, 331000, 1360525, 329250, 503060, 285487, 417862, 623750, 852000, 524125, 430750, 323500, 637500, 544000, 919497, 376875, 572237, 259237, 540625, 298100, 465533, 867125, 490250, 445000, 583500, 351375, 380100, 1123500, 413312, 494875, 316750, 470750, 611250, 350000, 537237, 533125, 322377, 608250, 597312, 284750, 856262, 324237, 472750, 459275, 387750, 187543, 456250, 764156, 582487, 314625, 512476, 520000, 315750, 376575, 402237, 184085, 395237, 275625, 599962, 299975, 453407, 332000, 461500, 876250, 255375, 988000, 514775, 445987, 251500, 688281, 432250, 360000, 416112, 1422000, 736250, 543397, 371250, 425862, 502621, 464250, 312875, 422398, 479625, 430812, 1663737, 511250, 598250, 472000, 624625, 454737, 1107250, 358750, 353575, 391125, 407750, 659912, 691000, 1278987, 581250, 487250, 387250, 355624, 524375, 400650, 596625, 337250, 537250, 996750, 323375, 537250, 323500, 416112, 530750, 502500, 241500, 502750, 366875, 456000, 541250, 397475, 433093, 401000, 335375, 247737, 377211, 537500, 384750, 502375, 267500, 278750, 285000, 439500, 537487, 498625, 713250, 475250, 406500, 319250, 358625, 856375, 709000, 1141389, 462487, 600625, 441375, 331875, 555149, 262850, 778750, 344225, 750500, 570237, 300125, 518875, 367500, 540500, 358112, 338925, 181750, 398625, 209100, 567500, 410037, 486487, 346850, 354225, 689125, 775875, 266000, 627375, 501750, 246750, 907762, 466247, 315350, 523250, 489750, 403500, 201843, 528750, 322377, 587725, 274000, 452876, 568750, 605103, 781875, 850622, 485875, 428775, 297487, 273599, 511900, 256612, 397500, 234487, 665750, 598126, 377250, 489750, 1460000, 483750, 346250, 388700, 372125, 309875, 232868, 419762, 561840, 287250, 338875, 393612, 774400, 649850, 400425, 839500, 442500, 356000, 1593250, 462000, 224850, 1410000, 408750, 389425, 325775, 280250, 570375, 320887, 582225, 634750, 349725, 745500, 374812, 470000, 578633, 272750, 791750, 471500, 895000, 356625, 378112, 745500, 1064500, 338750, 303500, 478000, 551875, 470750, 269687, 907000, 818247, 456750, 320362, 386375, 378750, 336000, 585450, 766250, 715737, 688750, 277350, 553375, 543000, 551875, 440800, 479075, 273725, 555750, 215600, 402112, 342650, 492237, 673000, 358112, 391125, 627875, 476237, 488750, 590840, 471000, 436625, 278975, 465533, 328875, 465125, 389600, 678187, 608312, 506000, 553750, 419500, 1237000, 327500, 363500, 3011825, 409250, 292500, 652000, 458000, 667000, 373125, 393850, 621237, 462125, 500237, 367484, 591487, 464237, 490000, 582875, 355612, 601737, 566251, 621611, 535437, 421712, 937250, 712487, 418750, 1513750, 365375, 400250, 387737, 207250, 305625, 445612, 332250, 425875, 337000, 330762, 668500, 484250, 315350, 444125, 464250, 888625, 414625, 560750, 662660, 430037, 883762, 566750, 556237, 402502, 211150, 404975, 301750, 274875, 421987, 320862, 387500, 455487, 339625, 552250, 373125, 229250, 370250, 745000, 201820, 575875, 353337, 403125, 455487, 309237, 329862, 286612, 301250, 320500, 364250, 1641997, 427000, 623250, 784125, 552875, 509750, 384125, 389375, 302612, 507500, 416112, 720750, 568750, 721450, 2505000, 314225, 454975, 410765, 625125, 354175, 666056, 410500, 257000, 529750, 415750, 237500, 216237, 502500, 324962, 428500, 457237, 297000, 524500, 299987, 316125, 367125, 314125, 407750, 501875, 565862, 719750, 509397, 407500, 257500, 392625, 936125, 469875, 625250, 448500, 274125, 193326, 455250, 1307500, 546237, 365737, 757222, 254987, 554375, 1499000, 614590, 606225, 1641997, 543397, 552125, 380000, 396054, 335500, 360375, 462875, 986500, 521250, 271250, 290110, 901250, 294500, 720875, 839875, 509050, 467090, 512250, 267250, 428890, 1135000, 593125, 393500, 915000, 956750, 421000, 1092250, 513312, 385025, 594250, 881075, 329862, 401220, 220500, 542612, 350250, 420250, 453407, 401125, 491237, 341987, 731048, 394225, 458250, 1129000, 516875, 383125, 289725, 385487, 438250, 361112, 589005, 442750, 418805, 1458737, 493575, 776750, 425737, 636750, 564750, 870502, 510737, 625687, 451862, 602500, 360375, 319987, 481350, 372700, 478312, 398525, 621250, 208472, 545250, 286837, 557112, 343800, 571250, 695550, 260950, 345725, 510500, 592750, 544875, 278800, 342362, 396250, 1150625, 852500, 489375, 420875, 739750, 568987, 543737, 834873, 299172, 367125, 233468, 1081437, 233125, 345000, 224125, 581210, 955000, 552500, 260475, 749487, 263000, 342362, 604222, 434737, 422987, 234650, 558750, 272000, 304400, 199737, 581500, 579737, 319954, 370212, 451291, 520375, 832125, 364000, 463750, 673125, 280110, 512500, 932625, 454875, 687500, 234472, 491511, 357237, 709475, 886750, 610060, 425625, 370498, 467350, 298625, 285925, 337750, 495000, 1825000, 419612, 911250, 236500, 518250, 250000, 421750, 303025, 542500, 329000, 588150, 966687, 816250, 865250, 290000, 290250, 323887, 496500, 381750, 485750, 562487, 495612, 579862, 458112, 350375, 940625, 250350, 826187, 511625, 483875, 541875, 385000, 545000, 712500, 366250, 677375, 789375, 1825000, 525062, 337750, 527625, 1204375, 717281, 608750, 683025, 423562, 526000, 352475, 498500, 971500, 1147750, 453750, 454587, 255200, 471533, 334237, 590625, 813250, 860000, 412750, 1415000, 354750, 389750, 429700, 514275, 406987, 272250, 441362, 509031, 504875, 499250, 824775, 451362, 511750, 447500, 477500, 522000, 550250, 715125, 282125, 795000, 307000, 525987, 438275, 224975, 278950, 620000, 533400, 373125, 966000, 609750, 353250, 266225, 1001000, 672473, 342000, 330850, 584750, 480125, 1130331, 303000, 317875, 591393, 559812, 687000, 1146625, 563500, 357485, 807375, 488090, 1024347, 454487, 1293331, 594345, 447500, 802250, 703547, 651000, 561475, 428737, 802750, 848447, 388375, 387375, 790500, 678004, 541500, 563000, 798019, 314100, 1496250, 500100, 446250, 743475, 489000, 408750, 1528750, 325750, 369875, 496487, 829334, 328500, 366425, 1119347, 908250, 529125, 606187, 351750, 871237, 335315, 419987, 487100, 747487, 610125, 284725, 526033, 1332202, 840110, 406247, 570147, 460975, 2150000, 527411, 356062, 635987, 452124, 426970, 968750, 488113, 374000, 1233247, 883747, 430400, 467350, 559948, 457777, 396725, 518712, 709862, 442187, 359373, 438250, 594362, 316372, 615620, 576652, 365899, 490000, 1050750, 513612, 328875, 347750, 1725750, 610125, 396350, 544975, 1012925, 459220, 375225, 739750, 723875, 706237, 921150, 633675, 320625, 418237, 314125, 395250, 439289, 508500, 292950, 308500, 356372, 566637, 417750, 602500, 456162, 652500, 522375, 567500, 1528750, 881000, 276500, 1097622, 391125, 312875, 469725]\n",
      "[455100, 419090, 629000, 435860, 344580, 1041300, 323050, 557118, 427700, 345776, 447843, 494400, 352110, 455440, 1111320, 346980, 655990, 318500, 422600, 435700, 394100, 404200, 895200, 673200, 281940, 591800, 941491, 449250, 973382, 513200, 1552600, 1684711, 486380, 356600, 346550, 377600, 306350, 777400, 407280, 301110, 907466, 461100, 309600, 380100, 321000, 516890, 403390, 560000, 348910, 667000, 358800, 261300, 313980, 650100, 568850, 533000, 595800, 299400, 549000, 696900, 272100, 502472, 896500, 300890, 825000, 287600, 285500, 254600, 466300, 454890, 861400, 261780, 714000, 467050, 216700, 265455, 566500, 401800, 841845, 478190, 363740, 755300, 476800, 336290, 311500, 280900, 625400, 730000, 326600, 431200, 612800, 803400, 353200, 252180, 576000, 392726, 251190, 398130, 326870, 485280, 229300, 352470, 683500, 594200, 562300, 612600, 311320, 413500, 417400, 751600, 530800, 311049, 540000, 691100, 490500, 342650, 783000, 621800, 2036800, 541390, 1609991, 485060, 556290, 731200, 370020, 657600, 499600, 473200, 256300, 433760, 349930, 230048, 646000, 369990, 229300, 417400, 305390, 551718, 638800, 421380, 966600, 295088, 467970, 652220, 591818, 432980, 659800, 356563, 691700, 346500, 388340, 294500, 437738, 567900, 655800, 321500, 257600, 657395, 379890, 546402, 1140800, 401030, 463980, 311300, 276150, 618700, 443580, 453200, 460000, 420260, 420200, 776566, 296200, 363700, 457098, 569150, 464100, 702216, 420800, 367100, 478300, 393390, 378200, 726390, 429510, 700800, 538200, 577790, 572480, 486400, 417780, 857000, 528190, 458877, 381450, 685500, 399590, 571000, 290550, 460730, 598100, 927400, 856800, 441120, 283400, 1230600, 613360, 443390, 406040, 624248, 331570, 548100, 352790, 297300, 365700, 493380, 630700, 297650, 442800, 333300, 526410, 281700, 319398, 290845, 948900, 345400, 687155, 926100, 272500, 561980, 485291, 405700, 366380, 866800, 514600, 467301, 635100, 523800, 1468600, 526400, 332500, 546600, 516000, 478790, 234500, 194590, 320300, 554520, 1126098, 421800, 389940, 1089600, 445020, 426880, 436990, 703400, 369700, 292890, 400800, 294890, 328999, 625400, 288990, 1970000, 744000, 529920, 259500, 491900, 658700, 564900, 357016, 437000, 259600, 385065, 417780, 346440, 477860, 349570, 832000, 492725, 399799, 736500, 866500, 735290, 363690, 1375000, 238000, 385000, 387200, 432200, 1311600, 471600, 751400, 241200, 439100, 375240, 1583741, 545800, 392190, 344200, 1263600, 494100, 420190, 499490, 393180, 655280, 627600, 810780, 372300, 301660, 1470000, 408800, 209210, 418580, 238490, 413980, 308590, 453600, 495200, 602400, 318000, 556490, 568000, 399955, 789577, 840400, 281700, 1226200, 600027, 732800, 542020, 454450, 701700, 418000, 433580, 576496, 281690, 314120, 281690, 570490, 652650, 256200, 538690, 690500, 438190, 464890, 793200, 427090, 717400, 418000, 381790, 418260, 617200, 486000, 336390, 1001600, 267038, 424200, 259400, 530200, 289780, 342290, 346080, 743970, 277600, 365480, 538500, 464390, 328190, 309810, 246790, 293133, 326830, 595100, 1069500, 299550, 199400, 403540, 512100, 1372598, 378790, 509000, 563100, 296100, 830470, 437000, 613400, 831780, 603000, 1647000, 1312200, 246990, 564076, 476100, 481800, 284000, 813010, 310800, 547000, 266500, 1708770, 257200, 3009460, 236090, 456400, 665000, 373390, 944700, 820880, 699990, 349000, 349275, 341300, 427680, 623072, 285539, 906000, 333634, 873700, 746000, 398100, 266700, 376900, 542990, 396400, 294180, 436820, 530850, 455400, 551000, 517400, 322100, 538850, 367900, 1101780, 973736, 364000, 640290, 952525, 1584600, 272100, 540300, 257200, 344455, 483800, 391000, 466700, 308338, 506150, 521790, 601250, 482600, 351099, 641650, 332000, 424200, 252160, 552500, 351331, 409660, 353600, 288290, 701950, 518800, 396520, 575090, 716700, 763211, 470370, 614021, 407343, 404076, 424800, 255700, 330400, 455190, 533500, 386977, 888850, 501663, 449780, 732100, 581717, 394690, 443900, 363970, 1056000, 459800, 689450, 400100, 493800, 767500, 705000, 849140, 751600, 573600, 349000, 297930, 447200, 272390, 505900, 608579, 593000, 371590, 587500, 923200, 526827, 581790, 572380, 1044200, 494100, 604400, 308420, 429790, 552690, 597600, 314990, 332640, 227080, 704790, 358086, 435590, 961111, 231500, 456400, 509190, 357390, 401001, 654600, 2141300, 486690, 228690, 614200, 840000, 506800, 839000, 1366100, 580900, 327400, 256800, 562900, 332770, 417100, 482295, 444380, 314280, 552200, 473700, 463200, 632800, 420700, 666760, 458200, 342400, 879300, 192577, 598818, 474680, 395510, 234220, 333320, 367490, 873480, 313140, 443000, 512220, 357800, 924700, 481000, 578960, 380400, 546300, 434200, 594900, 329600, 565400, 927200, 300200, 542800, 498400, 347290, 522600, 441980, 451100, 334800, 660845, 568100, 966400, 752200, 360131, 798300, 674440, 358900, 594100, 304600, 352390, 295840, 461700, 311780, 881900, 599717, 284714, 569800, 366100, 368500, 538700, 1187590, 303500, 443000, 289780, 375190, 742400, 308590, 652470, 353743, 390999, 371780, 472300, 314200, 332180, 857400, 850111, 747827, 491600, 329990, 496000, 384690, 502145, 537600, 875600, 387150, 463012, 304790, 306000, 1307020, 325200, 516448, 321390, 519290, 589000, 809300, 548300, 405800, 309600, 676309, 505200, 893598, 413400, 527770, 272390, 547490, 286280, 439826, 872700, 445800, 448000, 536780, 348500, 336080, 1092800, 365050, 465890, 299400, 446700, 559600, 364900, 533790, 530500, 340902, 584120, 592850, 309440, 871010, 316330, 482200, 457420, 389400, 209835, 491990, 758325, 533390, 292500, 519980, 545000, 322600, 480860, 396790, 232268, 371780, 252315, 633969, 287780, 452226, 338600, 589200, 891000, 302300, 970600, 529820, 483790, 240000, 744225, 423100, 406400, 396890, 1346006, 779200, 519517, 379590, 405090, 504497, 463000, 278300, 411569, 426800, 436650, 1594990, 482000, 609000, 455600, 650700, 434790, 1073000, 341000, 343908, 411900, 374200, 567955, 633400, 1153190, 560000, 586200, 363400, 386499, 533500, 388520, 567100, 334700, 504800, 1277400, 336700, 480800, 342400, 441690, 555000, 503500, 266100, 521190, 361500, 532800, 566500, 378980, 402475, 409300, 321300, 263590, 411569, 595000, 470000, 501637, 281780, 320800, 283050, 426600, 493990, 468900, 693800, 700200, 376580, 326400, 346900, 926100, 702800, 1212111, 416990, 633500, 399100, 353700, 538119, 262280, 808000, 350380, 704200, 592190, 306100, 495100, 345100, 489400, 354467, 321140, 216200, 406900, 209280, 554400, 371030, 477690, 324580, 363980, 830900, 791700, 341200, 558900, 538400, 290400, 911210, 460998, 311280, 470600, 464800, 377600, 189475, 528000, 340902, 662180, 269200, 467301, 563000, 558073, 736490, 845498, 449700, 422420, 291490, 287879, 495520, 253090, 424000, 211590, 629600, 564501, 380400, 465800, 1498000, 506990, 365500, 357160, 368500, 292300, 242275, 413810, 597972, 318000, 341100, 435090, 822520, 682580, 385140, 889200, 516000, 335550, 1484600, 439100, 210880, 1678000, 428200, 375520, 340120, 289200, 582300, 329710, 524780, 659800, 391780, 781400, 382250, 491000, 600107, 278100, 880600, 495200, 850000, 310248, 406490, 706010, 1050600, 369000, 279800, 486900, 555500, 486200, 271750, 915600, 827598, 443900, 304090, 398100, 434000, 349800, 567960, 683000, 709590, 673000, 258880, 568700, 572000, 511500, 446240, 482560, 240980, 551600, 218480, 418690, 338120, 450790, 610500, 354467, 406920, 592700, 433990, 500000, 582472, 453800, 390300, 323180, 439826, 343450, 475700, 431160, 636150, 640650, 479100, 513000, 422000, 1434600, 312000, 385800, 3009460, 435400, 315000, 609600, 541390, 646600, 347300, 412880, 641990, 465690, 485990, 362987, 585990, 491590, 524000, 526300, 361710, 627390, 499911, 649289, 488849, 405370, 907800, 635990, 380800, 1368000, 326600, 389100, 446190, 243800, 305500, 441090, 329800, 405700, 360000, 380610, 696800, 508100, 311280, 444386, 443390, 875900, 395200, 534600, 655628, 434030, 879010, 523000, 559490, 434001, 210520, 530980, 283400, 287200, 391280, 344680, 392000, 435390, 327690, 551040, 400301, 222400, 352190, 721000, 197456, 592600, 367920, 395500, 484590, 363390, 338880, 291290, 315600, 368900, 354400, 1503598, 413590, 555600, 745900, 558300, 478400, 437300, 400500, 326490, 490000, 461890, 700600, 535000, 755960, 2344000, 344780, 449780, 418612, 570700, 390540, 677845, 390400, 257800, 568800, 367590, 232000, 223990, 478792, 314370, 396200, 420190, 330000, 477600, 293288, 305800, 409100, 312300, 501200, 526500, 513890, 653800, 503317, 370600, 268000, 414600, 842880, 450890, 554200, 408780, 276300, 186661, 453200, 1193000, 541990, 412790, 825777, 288990, 595500, 1389200, 651672, 607052, 1503598, 540717, 502500, 345200, 361833, 347380, 338300, 536500, 954000, 504570, 258500, 295088, 880800, 292600, 719700, 869900, 537240, 533672, 540800, 268800, 452112, 1033800, 552500, 399800, 856800, 875400, 433200, 1115800, 568650, 383020, 601400, 861260, 307390, 366566, 246400, 563090, 360200, 452700, 452226, 443900, 491990, 403590, 688514, 371780, 474600, 969200, 513200, 390500, 296280, 428590, 407600, 360890, 553204, 437200, 415044, 1490989, 440850, 805600, 436590, 578400, 515800, 886402, 471590, 638550, 437680, 582000, 384300, 297590, 476250, 385960, 477650, 442820, 599000, 223777, 531200, 288670, 540690, 316040, 579000, 693440, 282960, 326700, 555400, 593600, 563900, 295040, 353690, 404600, 1020500, 743000, 493500, 420300, 706800, 647190, 564590, 787899, 304337, 339700, 257575, 981150, 233900, 324800, 258195, 575958, 901000, 579000, 270380, 689590, 243400, 398890, 658177, 485690, 429990, 237720, 573000, 274100, 331520, 206790, 615200, 607790, 319963, 373170, 468023, 483300, 775700, 340200, 426800, 660900, 279888, 475000, 924100, 417900, 700000, 240377, 465209, 341390, 752580, 874400, 564038, 450900, 366399, 517680, 282900, 281740, 358200, 551000, 2019000, 417990, 909000, 233600, 589100, 246000, 468400, 297120, 550000, 413200, 550520, 990350, 791000, 871800, 264760, 299200, 299510, 470800, 325400, 493600, 529980, 561490, 508890, 470990, 330300, 1117000, 247280, 948950, 541500, 488180, 516500, 389640, 548400, 835000, 342600, 645900, 764900, 1763400, 524050, 305200, 494100, 1063500, 702505, 608000, 668492, 425350, 522800, 336980, 502800, 935200, 1049200, 451000, 424169, 258160, 500226, 339390, 559500, 710600, 815000, 454400, 1217000, 324100, 394800, 400760, 462420, 400190, 294377, 444490, 500725, 500900, 483400, 827818, 447090, 497600, 431200, 441590, 505800, 506200, 722090, 275700, 808900, 294620, 577790, 405170, 211980, 335160, 635000, 519220, 335700, 992800, 563600, 366000, 274028, 899800, 608979, 347600, 323880, 571000, 461700, 1100665, 288400, 352300, 652515, 531450, 644600, 1122300, 591800, 370988, 772500, 502472, 1003477, 435590, 1228665, 583456, 497000, 690800, 701837, 620800, 553780, 418590, 814200, 809857, 377700, 425900, 809000, 690403, 494200, 628390, 737415, 311260, 1647000, 494080, 429000, 796940, 479000, 428200, 1723000, 329600, 395900, 459190, 778457, 325300, 368140, 1094477, 880600, 585300, 593950, 366400, 896090, 336752, 440990, 480520, 782990, 579900, 294780, 565827, 1230761, 814888, 404998, 533118, 443980, 2320000, 511919, 345850, 606780, 452289, 462576, 977000, 468490, 364600, 1367598, 845998, 422420, 517680, 590358, 456222, 401380, 542966, 697890, 431450, 360489, 419900, 575290, 320878, 553696, 573122, 357719, 514190, 1052600, 517590, 344100, 402100, 1552600, 579900, 410480, 498980, 970140, 451247, 374180, 746800, 731100, 711990, 813320, 727940, 321300, 434590, 336800, 385000, 479428, 518000, 285540, 303800, 346298, 552710, 421200, 580500, 446030, 653990, 555900, 554400, 1596000, 878160, 311200, 1138075, 425300, 318300, 469180]\n",
      "[449250, 405491, 587500, 430217, 349641, 1005258, 330441, 541765, 434766, 329646, 454369, 487583, 345091, 477200, 1176933, 384150, 589991, 331666, 405500, 407583, 511750, 418666, 880166, 698333, 291600, 619833, 983742, 431041, 948651, 534416, 1436721, 1628926, 517816, 355726, 325875, 397833, 336958, 717000, 428733, 320741, 882471, 492583, 323833, 357250, 351733, 491908, 392825, 576666, 355591, 634500, 344416, 288083, 307108, 648983, 569875, 533333, 608166, 278667, 592833, 719916, 281750, 520507, 895416, 356075, 790000, 322500, 281750, 248000, 461750, 465733, 871166, 259816, 662000, 434058, 238083, 265962, 607083, 396333, 802371, 481825, 365616, 680250, 501541, 347741, 299583, 290750, 654833, 699133, 306666, 451000, 564366, 805333, 338748, 250566, 544166, 383936, 249566, 397608, 304725, 464383, 228583, 378725, 667908, 603500, 531916, 580500, 300266, 393183, 466166, 753833, 573583, 320866, 516666, 664250, 473083, 367208, 784166, 600083, 1905666, 513658, 1574992, 468883, 560264, 744333, 365850, 598833, 494333, 443991, 235083, 461466, 334941, 250706, 598333, 360825, 245250, 456166, 320158, 587640, 695000, 432816, 943833, 297906, 461016, 636850, 584848, 451650, 639833, 363802, 634416, 336400, 408616, 315416, 439781, 569083, 663000, 307083, 273333, 661162, 370741, 632835, 1112333, 440025, 430483, 283683, 291783, 625792, 447983, 442666, 418333, 380216, 396825, 789638, 282666, 347750, 452581, 552625, 449400, 686907, 433781, 379416, 472416, 383493, 360166, 733658, 450425, 689833, 494166, 534639, 619566, 470333, 385650, 852500, 500991, 467389, 345708, 679583, 398825, 580833, 311291, 443608, 570433, 819583, 877333, 420100, 295000, 1258833, 594133, 420325, 414200, 589873, 341308, 558733, 358991, 358583, 407750, 533648, 586750, 293875, 460658, 318583, 489841, 293083, 315498, 317870, 934083, 306166, 675962, 863416, 265416, 557483, 502742, 431750, 375308, 905666, 493833, 455917, 655916, 530500, 1449666, 507000, 365416, 545687, 499983, 472325, 254583, 203575, 335666, 547100, 1221415, 393583, 400783, 1141333, 429183, 424066, 458325, 740333, 381416, 282908, 409833, 301075, 328333, 607016, 289658, 1754166, 845833, 498266, 302083, 538583, 589750, 594500, 389180, 415833, 257150, 391387, 431483, 323033, 446541, 387975, 808148, 484354, 377332, 692916, 839583, 739408, 344741, 1264583, 232500, 355833, 370666, 425166, 1424500, 472166, 781166, 237658, 435083, 405950, 1853117, 540666, 385158, 373833, 1189333, 575083, 450491, 467075, 430150, 658566, 641333, 756483, 375250, 291216, 1683333, 414950, 244175, 451725, 236575, 395816, 296325, 419766, 514333, 598166, 319166, 562066, 540000, 379962, 890481, 874500, 289750, 1151833, 595023, 693550, 518183, 445375, 730583, 397500, 392291, 581247, 272241, 332600, 272241, 563741, 696375, 248500, 573241, 713416, 400158, 474066, 753083, 384127, 742833, 393666, 408345, 427300, 662666, 499166, 331325, 1068000, 289031, 449833, 276433, 486000, 315650, 327741, 357483, 677308, 314666, 367900, 507083, 468658, 311158, 317375, 266408, 306777, 357100, 565908, 1237083, 295458, 204500, 406783, 509250, 1387998, 346491, 520666, 551750, 295916, 824558, 406666, 620333, 810650, 602000, 1517500, 1468500, 273491, 642612, 462583, 463166, 283333, 832508, 329833, 555833, 270416, 1765308, 288633, 2816216, 261741, 437000, 647000, 359158, 912250, 811566, 646491, 338666, 361054, 355583, 394733, 635893, 284616, 875833, 331361, 840583, 731658, 380750, 310250, 417416, 548325, 362833, 306808, 443183, 592375, 500333, 531250, 493666, 300083, 535708, 366083, 1235650, 953947, 353333, 672075, 917104, 1463387, 275916, 531516, 253333, 357879, 439833, 375833, 520583, 310282, 490641, 503991, 587700, 491833, 379666, 603041, 331500, 400158, 267966, 548750, 371942, 424716, 342166, 283700, 670875, 484833, 389600, 592575, 652083, 748509, 534121, 630850, 376944, 447564, 409833, 269566, 421166, 516658, 525416, 365793, 869041, 455135, 476641, 695916, 547264, 381325, 436575, 360808, 1000750, 427250, 707041, 386750, 465666, 847916, 712500, 882616, 753833, 553000, 329000, 288275, 469333, 266158, 482916, 823982, 652500, 360658, 537916, 930833, 505680, 548158, 612816, 946833, 490916, 620333, 297850, 388158, 614741, 566333, 323325, 313033, 258316, 667316, 330072, 425491, 1002592, 241241, 454616, 523491, 355325, 389168, 754666, 1892750, 508241, 223075, 571000, 872500, 502166, 790000, 1538416, 585810, 299500, 281166, 590750, 304641, 430917, 469162, 424650, 306900, 552666, 476750, 459333, 581491, 452583, 625633, 421833, 346333, 816083, 201898, 615682, 476400, 364591, 247850, 387933, 424871, 886233, 295116, 411666, 476683, 342750, 819416, 467500, 594133, 398166, 491083, 395150, 569083, 324500, 599500, 922333, 302666, 495666, 470333, 347741, 547583, 425816, 468416, 315658, 648945, 607583, 928250, 908500, 387609, 804416, 660700, 387416, 642583, 321000, 326158, 283200, 455583, 313150, 871583, 609764, 287261, 550416, 342083, 347066, 492750, 1197992, 325416, 410000, 315650, 360158, 701166, 296325, 602891, 343953, 362499, 388150, 494916, 307166, 320983, 855166, 773759, 689689, 495916, 321325, 486166, 425908, 482621, 497983, 858833, 376791, 447510, 299866, 300833, 1406683, 305000, 493698, 342825, 480575, 539150, 788583, 545250, 391500, 305083, 670255, 501000, 879665, 419500, 535141, 261658, 611066, 267733, 431522, 878083, 415666, 448666, 547316, 346333, 349233, 1112333, 352541, 434575, 278667, 463583, 591333, 350750, 536491, 542583, 346585, 546766, 567375, 306033, 880008, 299266, 455583, 454766, 408666, 212362, 474158, 730104, 528241, 320083, 526817, 514083, 308833, 443883, 408158, 210223, 351150, 306929, 587474, 290816, 441855, 336333, 636166, 877500, 353583, 945083, 570183, 498158, 242500, 695058, 398416, 424850, 374908, 1388338, 807666, 541681, 410075, 394241, 510414, 442583, 303375, 459640, 414833, 402642, 1592158, 470000, 635000, 437416, 658083, 414900, 1056666, 361583, 340954, 378050, 356833, 561629, 586666, 1067658, 562000, 566333, 347000, 372916, 620916, 383766, 533408, 345916, 470666, 1397833, 355583, 489000, 319500, 462241, 538333, 483750, 258000, 501825, 332916, 525166, 528750, 379650, 356895, 411916, 311750, 259325, 459640, 575825, 437500, 504281, 288566, 330666, 282958, 392500, 529158, 459075, 734166, 813166, 365483, 426383, 337916, 980083, 699941, 1156759, 425325, 627916, 382583, 331416, 549682, 249400, 815833, 332900, 642666, 571825, 292083, 473208, 343416, 462666, 327723, 325950, 196250, 434083, 200733, 533483, 365025, 488262, 320483, 372400, 761583, 814750, 341991, 576583, 489500, 284500, 838675, 414615, 314400, 467166, 528000, 351333, 183479, 520833, 346335, 641816, 258666, 451084, 579583, 531719, 749548, 921229, 473658, 405683, 279566, 279899, 525600, 275075, 399583, 200325, 644020, 566251, 367000, 468158, 1356666, 480825, 379416, 373608, 448750, 310250, 234812, 412591, 600090, 340000, 361750, 416325, 843766, 617150, 405941, 801833, 525833, 355958, 1366333, 427166, 194900, 1506666, 450000, 394600, 345600, 281416, 565250, 352300, 550483, 609833, 376482, 791833, 387708, 507916, 627589, 315083, 835500, 504333, 841166, 301982, 433741, 657508, 1108833, 343333, 300333, 506583, 535416, 463583, 276458, 892166, 806196, 474550, 298075, 375916, 500000, 394683, 594133, 641166, 716491, 635704, 270566, 589750, 560166, 512083, 435366, 478791, 243483, 568000, 219566, 420925, 344766, 414491, 619166, 362056, 405266, 546416, 412275, 519916, 558726, 429000, 386500, 312983, 461522, 356583, 490500, 470800, 577625, 722375, 458416, 513350, 440825, 1396333, 289166, 394333, 2816216, 506166, 279166, 608000, 513658, 632500, 338250, 437733, 684325, 521241, 458316, 372823, 588325, 462991, 497483, 536583, 387608, 647816, 461592, 610907, 468749, 401802, 973166, 617325, 359166, 1341500, 345500, 383416, 459325, 254833, 328083, 433408, 373166, 418416, 366666, 408508, 789833, 510916, 314400, 427822, 438158, 874916, 435166, 527833, 638856, 421358, 886675, 522500, 537075, 395834, 230433, 521650, 276000, 312166, 405233, 328066, 370125, 462991, 346408, 582366, 386417, 222833, 343658, 684166, 202046, 555166, 410766, 458583, 462991, 349483, 382566, 309408, 308833, 404083, 369833, 1387998, 445491, 522991, 753750, 532083, 507000, 435250, 391000, 320908, 496316, 454066, 672416, 534000, 757016, 2353333, 326150, 476641, 436176, 615416, 356425, 650787, 395916, 252333, 565500, 348991, 235000, 236658, 462318, 367975, 392083, 420991, 314083, 488187, 285740, 321833, 430083, 314583, 553500, 493750, 514908, 654598, 499431, 367166, 267500, 405491, 834900, 437408, 536833, 379816, 276916, 185550, 410833, 1134833, 524991, 397741, 738981, 292491, 617916, 1259333, 726393, 622543, 1387998, 558098, 512750, 325983, 410694, 355483, 349950, 524583, 902500, 487141, 254083, 296740, 842166, 293833, 748083, 829750, 559700, 563060, 517333, 271083, 438426, 969833, 566250, 360166, 841000, 801166, 436833, 1088166, 628700, 409433, 581750, 878183, 322825, 342971, 239500, 570075, 343500, 474750, 443355, 434916, 462175, 430491, 636262, 388150, 467166, 989000, 517666, 400083, 306066, 454825, 378500, 369908, 520170, 417666, 400036, 1403824, 440708, 751500, 469658, 532833, 510166, 939501, 452158, 663708, 430566, 651325, 369416, 312991, 473708, 372466, 448658, 414850, 587500, 221814, 482666, 278058, 494741, 312533, 582500, 700366, 270800, 394416, 530333, 554833, 575750, 310033, 340241, 410500, 1050416, 673000, 551916, 390083, 692666, 622408, 553658, 794082, 308614, 333956, 261145, 956791, 236575, 328166, 258495, 598632, 894916, 595500, 298650, 682658, 270333, 385741, 693481, 505075, 419875, 273100, 575833, 296450, 320416, 207658, 628500, 575158, 391636, 427641, 485019, 529416, 739916, 377666, 411500, 608583, 285240, 489166, 902583, 417416, 725000, 266148, 457174, 325325, 759650, 945333, 555865, 449916, 398665, 514733, 271583, 303950, 361833, 552500, 1805833, 402491, 887166, 229666, 579250, 259166, 453281, 292183, 589166, 414916, 552100, 1049691, 803250, 834833, 274800, 323500, 300750, 478166, 347000, 536500, 531650, 565575, 456975, 502075, 320916, 1097158, 300233, 862441, 513250, 498066, 525583, 393866, 506833, 783333, 339666, 581833, 704083, 1986166, 536708, 285166, 575083, 1050416, 678754, 650000, 686907, 400291, 511333, 329983, 535666, 856000, 980166, 461666, 432640, 270966, 511855, 326158, 558250, 718833, 804166, 418666, 1372500, 327583, 400666, 387300, 498350, 411408, 295148, 444241, 474770, 501250, 461166, 799840, 417325, 460500, 444333, 416616, 491000, 556833, 718400, 283916, 803250, 309683, 609825, 405141, 205380, 333466, 662500, 536850, 354750, 935833, 576333, 392750, 280856, 904000, 559982, 339658, 331558, 642491, 449750, 1077721, 278667, 341083, 610345, 537875, 664666, 1151898, 609698, 359156, 788750, 483726, 963231, 425491, 1126712, 600380, 514000, 678166, 651364, 671500, 511650, 419658, 832666, 904548, 377750, 424908, 823833, 682003, 515083, 586991, 715346, 308550, 1683333, 509900, 428333, 830775, 460416, 425166, 1548333, 325500, 387750, 486825, 738706, 332750, 359783, 1077981, 851333, 557583, 601625, 357879, 963389, 337793, 432491, 520266, 789158, 604916, 299400, 551522, 1448634, 812406, 448998, 564098, 453316, 2266666, 539099, 338875, 588150, 434074, 484408, 872500, 453658, 408000, 1266665, 842498, 399516, 522233, 579465, 443101, 434816, 509463, 724906, 404291, 343740, 415750, 542741, 310731, 581247, 568768, 381424, 481816, 998165, 589991, 325050, 434011, 1436721, 611125, 427066, 522483, 977616, 462007, 368900, 754833, 692324, 656658, 827600, 745208, 311833, 450491, 353166, 411333, 493273, 499983, 294116, 304166, 342748, 558925, 424333, 595416, 420691, 624158, 524916, 565333, 1453333, 844300, 321000, 1109396, 435916, 299416, 485150]\n",
      "[446500, 384689, 576285, 415186, 344835, 984507, 312950, 505512, 454085, 325411, 480174, 502214, 366507, 459742, 1087371, 404271, 577135, 319000, 430428, 422214, 496071, 410285, 892857, 690714, 292085, 615571, 1032357, 467321, 946388, 488785, 1307189, 1560508, 526719, 365229, 315035, 411000, 320242, 829571, 396485, 307064, 896690, 499357, 314000, 343785, 398628, 482350, 393850, 585000, 387650, 593142, 338785, 299778, 322950, 667700, 545414, 488042, 602714, 278829, 587428, 724142, 298285, 534720, 881071, 373064, 724142, 315642, 295778, 259714, 440514, 481335, 923857, 251985, 706857, 459478, 244071, 255825, 565000, 411000, 776318, 453278, 366957, 693642, 508321, 333778, 331785, 306714, 634871, 730678, 308571, 465071, 610885, 785714, 334927, 261200, 529285, 387302, 274200, 380800, 319978, 495900, 242357, 376764, 736778, 597642, 567071, 534928, 326150, 412014, 452857, 742071, 671642, 315028, 533000, 692857, 460928, 356107, 770000, 596500, 1861992, 521707, 1488279, 530471, 572797, 761500, 339157, 563285, 459214, 448421, 245071, 451257, 326092, 250605, 619999, 361421, 242357, 499514, 314421, 598834, 681000, 463700, 1000428, 300348, 440871, 608728, 575353, 472985, 637714, 387545, 639500, 343342, 423092, 308214, 449741, 569928, 622571, 311071, 270000, 680282, 344921, 664572, 1091722, 449800, 421842, 290300, 290100, 600536, 477414, 459428, 421428, 392185, 369278, 787547, 289428, 335214, 433641, 510821, 465200, 642349, 414512, 392785, 449500, 369551, 381571, 745256, 421792, 667285, 515000, 609405, 594628, 452642, 368414, 811428, 513135, 449976, 322750, 691428, 387135, 591071, 302528, 438164, 571085, 827857, 827714, 458657, 282285, 1457571, 610971, 421528, 416457, 610105, 351565, 557485, 369135, 343500, 420928, 522298, 578342, 284750, 491992, 336928, 472007, 306928, 312570, 316032, 900500, 319571, 675825, 818642, 280928, 570842, 516436, 448357, 370264, 826285, 549714, 454011, 655357, 540142, 1355071, 493857, 397500, 523446, 576456, 506350, 246071, 230846, 347714, 549300, 1311212, 409857, 404528, 1296142, 452442, 392771, 474135, 685285, 373357, 299635, 411142, 293207, 317142, 634871, 266564, 1613571, 817857, 498800, 292500, 531635, 624785, 589571, 367154, 427857, 254692, 436189, 404128, 326885, 421321, 418407, 794126, 481589, 385142, 648214, 871785, 743064, 323207, 1158071, 234928, 383957, 362714, 422786, 1346707, 458285, 719285, 222682, 410071, 409385, 1726672, 530285, 388707, 400428, 1148714, 562585, 473414, 503635, 414728, 683200, 648126, 769842, 393071, 306042, 1555714, 399242, 250714, 448192, 232064, 387128, 293135, 426514, 508714, 594500, 303571, 551628, 537500, 368382, 879698, 822285, 279785, 1195857, 599448, 689464, 503442, 454607, 672057, 379571, 387964, 549626, 269050, 312228, 289064, 554492, 709750, 245142, 569378, 811214, 447278, 471914, 788214, 436395, 733142, 396714, 407439, 451400, 671571, 490142, 335421, 1032285, 284170, 435557, 295819, 496571, 324914, 363778, 355342, 651978, 316457, 374628, 500071, 453992, 302421, 307464, 276905, 316952, 380085, 615064, 1233071, 293607, 217971, 409385, 516500, 1320427, 320850, 524857, 514785, 310785, 833907, 397857, 652714, 803771, 585071, 1540714, 1375500, 290775, 612081, 459071, 442000, 286428, 845721, 345571, 512142, 288571, 1870264, 288828, 2852471, 283635, 411428, 678857, 406578, 859142, 809200, 652707, 343142, 362325, 372642, 399771, 595051, 290814, 910000, 325452, 815642, 742278, 404928, 293785, 399214, 558921, 362428, 320978, 431728, 555600, 504285, 493214, 456714, 289357, 579892, 361571, 1355557, 944097, 335257, 677778, 889660, 1461475, 286500, 547728, 286428, 358175, 426000, 378428, 502535, 390956, 497764, 481278, 618028, 468128, 396142, 601178, 316000, 397992, 294757, 516071, 387236, 407614, 365428, 346028, 690750, 463428, 387085, 597921, 621785, 754365, 540675, 615729, 363095, 432912, 419142, 273200, 389571, 546135, 527500, 356394, 868464, 479545, 494550, 662875, 551941, 362850, 434635, 379692, 1041357, 406214, 722107, 365778, 434857, 898928, 662857, 895100, 763928, 519571, 318250, 282664, 474142, 293135, 500142, 811985, 639285, 354850, 564642, 960570, 514147, 528707, 616342, 946142, 465071, 624571, 313300, 376992, 595492, 627428, 314707, 304021, 265271, 626271, 362490, 414700, 1041079, 245035, 433242, 540135, 360135, 413572, 713571, 2015214, 493492, 221635, 568714, 897857, 516500, 760714, 1490071, 558551, 289707, 300285, 613500, 335050, 430072, 481086, 453985, 345200, 517285, 475072, 439142, 638421, 423207, 649828, 442285, 338285, 828357, 190484, 626298, 469771, 373935, 234228, 382157, 406889, 877485, 290814, 412142, 492442, 346071, 780214, 446285, 641400, 417857, 473778, 376557, 547071, 352428, 625285, 919857, 310142, 547000, 477642, 339485, 566285, 409414, 458285, 307814, 689953, 601500, 874214, 918000, 366522, 778071, 653885, 371214, 600357, 351285, 342421, 297742, 423785, 295557, 948500, 621226, 287124, 547500, 354642, 347128, 470214, 1483993, 300357, 432142, 299342, 366635, 714571, 283707, 561764, 379459, 358428, 412842, 470642, 324714, 307985, 824000, 762651, 716869, 499000, 310521, 471000, 442367, 467818, 490128, 838428, 377964, 461437, 296314, 309285, 1344585, 307142, 506455, 369564, 485492, 514985, 722928, 557357, 438428, 315071, 670218, 549285, 873997, 422742, 510114, 263421, 626628, 258771, 429161, 845500, 439142, 451000, 561985, 340714, 337485, 1091722, 359178, 420564, 278829, 462928, 622857, 323367, 491992, 528642, 327072, 509728, 604178, 298600, 971240, 299228, 474214, 468371, 382714, 228453, 494992, 729517, 547064, 314214, 535557, 510300, 344714, 434042, 386992, 209905, 368128, 331225, 589263, 304271, 435732, 346357, 629571, 867142, 362086, 990071, 605157, 512278, 239271, 637193, 380428, 408442, 392778, 1357861, 815857, 547155, 400064, 384350, 531926, 449357, 335250, 461835, 379571, 384264, 1564707, 531428, 620000, 417785, 768357, 387057, 970285, 366928, 331246, 386757, 360142, 548396, 584428, 1000468, 547142, 542571, 362000, 357928, 621900, 366785, 543207, 400785, 459571, 1339357, 355357, 490571, 332857, 477492, 512142, 514642, 253285, 515850, 321057, 519428, 524643, 373985, 357482, 460928, 328964, 241564, 461835, 537135, 456714, 481598, 290185, 365571, 275385, 380000, 501421, 475207, 737500, 772714, 356842, 390471, 342400, 918642, 714307, 1088793, 394850, 625357, 382285, 321214, 543799, 245192, 743928, 358200, 619428, 576707, 276785, 427035, 358214, 453714, 339691, 318671, 214642, 437285, 215628, 557271, 358164, 463510, 323985, 360485, 738500, 816221, 373135, 587785, 507428, 273135, 841721, 378527, 315557, 480428, 547571, 329714, 204410, 495071, 338287, 603271, 301642, 446643, 546071, 501045, 752470, 939625, 493850, 430585, 279342, 274199, 555512, 285064, 420614, 230921, 683589, 562358, 372642, 473385, 1555714, 457135, 367357, 363235, 422928, 312357, 266267, 399935, 594363, 365857, 360071, 391635, 845800, 566842, 390806, 783714, 565000, 340814, 1310000, 414071, 197432, 1555714, 444285, 400657, 350942, 266914, 540214, 356971, 498271, 616500, 368985, 814285, 380750, 473142, 623647, 315771, 784714, 535142, 809142, 293128, 451492, 674292, 1088857, 372857, 289485, 526357, 523214, 462928, 272678, 894000, 812865, 468185, 293492, 367571, 502857, 421585, 609257, 815571, 725564, 587746, 269057, 608428, 637285, 496064, 438171, 484392, 255414, 556857, 218914, 424017, 318371, 427421, 659285, 344762, 393928, 536928, 399664, 507527, 563908, 433000, 411285, 314700, 520583, 359214, 500714, 460542, 555821, 734892, 476500, 495014, 418385, 1311857, 314535, 374428, 2852471, 576714, 295000, 608428, 521707, 644285, 323071, 418050, 700707, 564635, 464271, 377991, 616421, 484707, 521414, 536357, 376521, 630985, 485008, 569349, 499642, 395830, 880428, 641778, 356500, 1338428, 353285, 365071, 465135, 252000, 333357, 416492, 389857, 408642, 347071, 390007, 769714, 469357, 322341, 404562, 438564, 922071, 421071, 559500, 633305, 430092, 845721, 524285, 536064, 382429, 248085, 588614, 279421, 325000, 426271, 320485, 379378, 484707, 327635, 593100, 426501, 232367, 322764, 649285, 223897, 529428, 387085, 461635, 448992, 348128, 405771, 296207, 300028, 394928, 375571, 1341141, 422135, 493707, 753142, 520357, 527428, 415785, 414000, 309557, 528985, 493642, 672785, 538428, 766014, 2302857, 331128, 494550, 449580, 592285, 373364, 617675, 400071, 258428, 549000, 337278, 253914, 224278, 485594, 375550, 368214, 408707, 309928, 501303, 287634, 322285, 418642, 296785, 625571, 485928, 506921, 708941, 483798, 391142, 264500, 392263, 814628, 435635, 536571, 443414, 283071, 187757, 476428, 1117000, 509992, 391635, 734841, 314992, 613500, 1156321, 722622, 617180, 1320427, 571584, 518785, 297985, 421595, 365700, 342814, 511214, 873428, 454907, 249500, 298920, 812571, 297714, 730821, 823769, 541885, 582622, 529142, 269500, 429794, 920571, 553785, 334814, 838714, 786714, 499428, 1084142, 630314, 415228, 591857, 868442, 355278, 324690, 224260, 528921, 396857, 455500, 455018, 411714, 463285, 450278, 658153, 372557, 437785, 1098428, 524071, 399357, 305185, 440564, 404428, 417064, 532453, 459428, 390021, 1433992, 440607, 725571, 483992, 519571, 535714, 903572, 483278, 681035, 434057, 670921, 356635, 303264, 499178, 357114, 465850, 399871, 568357, 242984, 495428, 269050, 488350, 305028, 622000, 687314, 282114, 370778, 529571, 524857, 584928, 323314, 322200, 392571, 989642, 734000, 538785, 430071, 664857, 637778, 568135, 759199, 335948, 340527, 250267, 1007392, 237778, 312000, 271567, 610970, 870642, 620428, 309557, 682278, 266000, 382971, 701555, 492921, 405321, 274800, 759571, 319814, 336928, 210421, 619214, 595707, 407545, 424407, 471873, 575928, 752071, 403714, 419142, 612357, 287205, 490714, 875071, 429000, 697142, 243841, 446863, 316100, 755414, 974114, 602884, 434714, 411713, 486907, 277785, 308600, 346392, 545000, 1725059, 397064, 879714, 243285, 551500, 257842, 457098, 306157, 594285, 455642, 536085, 1009021, 788357, 847714, 283400, 323000, 314214, 488428, 311571, 553785, 562985, 569557, 459550, 491064, 327928, 1011850, 288764, 926521, 529214, 487342, 549785, 377600, 501285, 750000, 355421, 554428, 692071, 1843142, 534892, 280678, 579357, 989642, 656789, 667142, 644491, 382892, 484714, 319985, 503428, 862428, 1020142, 457142, 424835, 265828, 521590, 313135, 589928, 678692, 822142, 401571, 1514571, 299357, 408428, 403400, 477507, 397364, 309412, 443635, 447439, 468928, 430857, 787577, 391214, 441142, 412285, 395242, 478000, 568357, 687200, 274214, 801357, 313085, 595564, 412264, 197825, 337971, 683857, 502871, 382642, 1032142, 547142, 374500, 291734, 969714, 549270, 334707, 339192, 662850, 452642, 1038760, 309571, 346628, 590296, 565535, 624000, 1319912, 583305, 368562, 840357, 514622, 943484, 414700, 1079325, 598897, 505428, 667000, 691019, 649071, 490842, 417992, 770857, 1003898, 346642, 421350, 835428, 685288, 526500, 615921, 723868, 312328, 1567142, 513485, 465000, 824235, 443928, 444285, 1471428, 323642, 411450, 464407, 765319, 314500, 357528, 1070412, 798285, 586500, 569678, 342467, 907184, 345251, 408564, 543800, 793564, 628107, 302700, 580947, 1371615, 823491, 435141, 564941, 432271, 2285714, 537085, 339035, 606271, 434778, 481921, 842850, 444129, 407571, 1221427, 855712, 384657, 543557, 604519, 438865, 411557, 500969, 742270, 391107, 342492, 399214, 533064, 312412, 549626, 562658, 371935, 484414, 1034142, 571278, 309900, 408509, 1438618, 628107, 419771, 525671, 920814, 460291, 366057, 769142, 695563, 663564, 822228, 708035, 315842, 443135, 365571, 419285, 518520, 476842, 300657, 303571, 329212, 569792, 442142, 563500, 401307, 630707, 560214, 589071, 1310285, 870114, 315142, 1072696, 423714, 314035, 488700]\n",
      "[423812, 370415, 583000, 449537, 335481, 936443, 325706, 477573, 429825, 331610, 498777, 481937, 374443, 458525, 1012700, 404925, 538743, 327000, 422875, 419437, 526562, 417375, 922625, 641712, 299950, 595312, 1003163, 463093, 978089, 494687, 1271290, 1456694, 531379, 357701, 310031, 385875, 335587, 902325, 390050, 306181, 892102, 506312, 302875, 331062, 419425, 511743, 432118, 593750, 396068, 592750, 332687, 312306, 316456, 686112, 519225, 460287, 574875, 305850, 600875, 688875, 286750, 516630, 974562, 380181, 688625, 334687, 273806, 267875, 459200, 473043, 895250, 244550, 677500, 489543, 243562, 293846, 579500, 426500, 766153, 467868, 357587, 772562, 521281, 336681, 344062, 302625, 596750, 714343, 301243, 530062, 606400, 761875, 332430, 246750, 521250, 389514, 291362, 376637, 344668, 482037, 255562, 380293, 725925, 572562, 572437, 506187, 321631, 411762, 478743, 723062, 738312, 344399, 490750, 693625, 454931, 361468, 740000, 589500, 1787681, 508010, 1504744, 539787, 542448, 763187, 362387, 537250, 441187, 453868, 255062, 436718, 358206, 271092, 674937, 360118, 245181, 478325, 307231, 581355, 690750, 443625, 962250, 295930, 425137, 601387, 545934, 447862, 661125, 379102, 715812, 338175, 444581, 300937, 426023, 577437, 624750, 296837, 263125, 696496, 350806, 697126, 1211507, 435637, 389425, 277137, 331962, 609844, 452737, 453875, 410875, 408787, 396868, 803479, 313125, 332687, 451811, 521343, 449987, 614542, 389736, 386062, 448312, 377107, 363875, 712724, 437418, 708625, 504062, 634473, 609112, 463550, 359112, 881875, 516493, 457479, 319781, 700625, 374987, 599511, 294087, 419018, 535575, 865625, 815500, 440700, 274500, 1553500, 605225, 411962, 419650, 602873, 338619, 644050, 376118, 341187, 419562, 546886, 612300, 282406, 476743, 319187, 481125, 325062, 315861, 321153, 896062, 312125, 627303, 872562, 282062, 589487, 507194, 437312, 371856, 779250, 552875, 436885, 649687, 555125, 1254437, 478652, 410312, 494265, 558011, 514306, 244062, 255115, 354875, 523137, 1349811, 394250, 412087, 1284750, 440637, 409300, 470931, 669937, 381812, 328333, 414375, 290306, 335843, 600450, 274868, 1520625, 787000, 528323, 339062, 556056, 634187, 587375, 378197, 404375, 274981, 461540, 403612, 320400, 402406, 409231, 777354, 464515, 403249, 668437, 889062, 697681, 312181, 1085812, 229625, 386587, 343248, 439813, 1334619, 443875, 697881, 233596, 392312, 379687, 1698338, 530250, 406987, 442875, 1117125, 528200, 464112, 475743, 391575, 630925, 660861, 764237, 384437, 311287, 1745000, 391837, 256875, 418418, 218306, 381237, 282431, 406312, 487000, 585500, 307812, 563918, 544062, 356334, 863486, 801000, 272562, 1446875, 583267, 658156, 496137, 437906, 649300, 400250, 409593, 560922, 284168, 301325, 293550, 550806, 709156, 235000, 535831, 806687, 431931, 482918, 820312, 444720, 750243, 415250, 392759, 453100, 630375, 475750, 329743, 1015500, 300461, 415112, 310716, 505100, 322550, 349556, 359675, 606725, 310275, 381550, 521843, 455743, 297118, 285281, 284167, 318583, 395950, 615681, 1253937, 291900, 207600, 405087, 525312, 1255998, 354531, 508000, 522937, 312250, 777168, 388118, 679875, 792675, 560312, 1581250, 1359812, 285490, 601965, 424525, 458625, 283750, 829818, 354250, 502687, 303125, 2011231, 281625, 2695912, 274681, 429750, 666125, 393881, 849875, 781731, 652681, 353693, 359221, 410437, 375425, 558795, 278962, 948250, 326396, 822437, 736118, 424587, 285812, 433687, 541931, 349000, 308593, 448887, 556775, 487312, 467437, 461375, 301325, 604281, 355784, 1265487, 942335, 323850, 670556, 831203, 1476290, 281937, 519262, 274368, 344653, 461722, 363112, 594218, 418961, 479606, 507118, 594775, 445258, 404874, 667406, 313875, 392618, 317912, 489687, 398707, 414787, 378500, 344275, 669934, 468000, 415575, 570681, 619062, 722444, 512466, 613763, 375786, 424923, 422618, 275925, 418380, 572868, 554050, 377470, 836156, 453851, 482606, 631203, 564511, 369275, 432806, 407481, 1026812, 427312, 697371, 348181, 434500, 873937, 688750, 910087, 767312, 511500, 307843, 292331, 468000, 287731, 505265, 762986, 630618, 346118, 556562, 935498, 512254, 499993, 584293, 902875, 452312, 628056, 304137, 356743, 621056, 642750, 305550, 291081, 281987, 617612, 354654, 414898, 983444, 251906, 425962, 524493, 357618, 409376, 785625, 1963312, 513368, 236181, 528875, 891250, 533500, 751625, 1426937, 532732, 277868, 294625, 604375, 345918, 439750, 465950, 428800, 362050, 530062, 461938, 450493, 614681, 412668, 615850, 440750, 329437, 779543, 199792, 590511, 442300, 373881, 236825, 390637, 402090, 878173, 311837, 425750, 495887, 375312, 755812, 494875, 642600, 410000, 454181, 383237, 523687, 348375, 597118, 884500, 306375, 537368, 493813, 347175, 561750, 399962, 431250, 341837, 656084, 555062, 806187, 912000, 381944, 776437, 805274, 364187, 604687, 347625, 348618, 292400, 418312, 312612, 920562, 622689, 288608, 555312, 366562, 339981, 465812, 1473494, 287187, 471875, 305675, 383306, 702750, 277868, 587168, 390105, 334749, 419112, 464312, 324125, 314487, 814743, 747319, 727136, 503500, 327956, 473375, 421446, 439340, 513987, 814050, 376962, 465632, 294587, 307500, 1240262, 320625, 493023, 379243, 484806, 491862, 687562, 558937, 457806, 308187, 629185, 567500, 880372, 423650, 509162, 286743, 714550, 251425, 484885, 855437, 420281, 430875, 566112, 339000, 375425, 1130257, 381781, 421743, 305850, 458500, 616875, 314071, 455168, 530912, 346188, 490137, 608656, 296587, 924835, 280262, 497437, 466387, 381750, 236459, 467993, 693327, 548175, 302937, 687988, 501825, 369750, 428537, 365656, 198605, 360362, 346696, 554980, 333737, 446891, 365562, 627375, 873875, 349700, 984062, 584512, 526993, 233737, 607544, 361000, 404887, 370993, 1372503, 828875, 527511, 411006, 400056, 552935, 427187, 339871, 467511, 382125, 424719, 1569118, 501250, 588250, 429937, 727312, 368550, 920250, 351500, 319841, 371537, 400250, 551097, 597687, 986315, 547437, 514750, 348862, 334312, 653537, 350250, 509306, 416839, 442750, 1234437, 343437, 492125, 348250, 470931, 531562, 508062, 250375, 533993, 324300, 524625, 549688, 379731, 333921, 437312, 337968, 250118, 467511, 543243, 432125, 488273, 298287, 371750, 272712, 388125, 474987, 506431, 738625, 857375, 344231, 375912, 330725, 872562, 723143, 1051430, 436118, 712812, 367625, 314500, 548324, 247668, 754068, 369675, 581137, 551368, 268187, 447031, 349681, 455375, 338854, 315712, 214687, 454750, 209862, 540100, 355456, 445571, 368487, 358237, 724625, 805581, 393368, 606687, 500875, 278743, 829006, 369961, 313600, 471750, 554125, 397875, 191359, 491306, 356001, 614112, 316812, 427263, 524437, 484039, 719036, 965522, 535243, 421762, 281300, 299799, 550448, 276306, 437412, 230806, 640890, 534563, 371687, 474087, 1745000, 509368, 370687, 386581, 404562, 319556, 261734, 390568, 570693, 365500, 403812, 415931, 876200, 558487, 385143, 782331, 534487, 351493, 1260250, 403187, 196878, 1745000, 439813, 406825, 352075, 274175, 525687, 355843, 456862, 570687, 360824, 887500, 371906, 483375, 627566, 305612, 753906, 558125, 761750, 293987, 456306, 668256, 1129200, 357500, 285800, 527312, 567181, 458500, 277343, 892625, 808132, 462537, 316933, 385181, 479625, 414637, 648725, 783625, 700493, 569591, 260425, 623000, 609500, 486556, 447025, 456343, 282862, 533375, 210925, 419765, 309200, 419118, 672500, 327917, 385312, 504875, 387205, 518586, 577795, 430750, 415000, 304959, 528010, 352312, 473500, 446975, 520718, 757406, 456937, 470636, 441712, 1322875, 319593, 363250, 2695912, 575250, 287500, 606437, 508010, 595875, 339937, 453293, 648743, 559056, 446487, 376367, 604166, 469743, 527800, 536187, 420081, 611139, 509382, 557555, 470824, 390914, 813500, 648618, 373187, 1329562, 352875, 397812, 497618, 239500, 334812, 415056, 371618, 396437, 339001, 381881, 796250, 465687, 316798, 390741, 418118, 885937, 431812, 532875, 641517, 425143, 829381, 512812, 514050, 359626, 247387, 641287, 276993, 350527, 417987, 327800, 362706, 462368, 319806, 584587, 425688, 220696, 346018, 649375, 221035, 539187, 415575, 468931, 469743, 357112, 396275, 304743, 293162, 388062, 364875, 1318498, 400368, 464868, 725250, 526562, 518187, 458812, 407625, 322112, 520987, 528187, 644937, 580187, 789012, 2577500, 324987, 482606, 460257, 592000, 360068, 639840, 396937, 252125, 537250, 318868, 266300, 213618, 501395, 372356, 349562, 422368, 304937, 481765, 317680, 320750, 423375, 312437, 591125, 462562, 545431, 699698, 504886, 392250, 277937, 375714, 769050, 444931, 498187, 467987, 293937, 191775, 474250, 1129250, 489993, 392681, 751736, 316930, 604375, 1113031, 726045, 608782, 1255998, 548886, 535187, 303856, 395146, 349987, 338275, 506312, 818625, 436168, 253937, 300923, 812250, 292437, 724468, 803923, 532275, 550170, 496062, 271937, 460007, 1005500, 567062, 324212, 909500, 729625, 502625, 1042375, 620275, 418325, 574125, 823637, 340993, 315347, 223721, 507806, 396937, 458562, 446891, 397000, 437875, 468993, 663384, 364237, 452125, 1083000, 551050, 392750, 303912, 421743, 428875, 448931, 504646, 466375, 371269, 1356931, 443875, 749875, 459118, 513368, 591250, 941876, 490362, 705900, 426668, 646118, 380806, 315356, 465656, 351225, 454868, 434262, 571062, 247236, 488750, 302918, 472300, 300025, 632625, 670275, 278100, 393806, 564625, 541125, 590875, 324025, 319362, 366337, 1055562, 728361, 577687, 448187, 653600, 640550, 544618, 731799, 334579, 347836, 237184, 981343, 264931, 301350, 264496, 628474, 873812, 611150, 314987, 698243, 277950, 365725, 721986, 475043, 401531, 277450, 759625, 314212, 373187, 204743, 607340, 570618, 388852, 402481, 490531, 543075, 758687, 428875, 414250, 583807, 291430, 512812, 870687, 427875, 740625, 256861, 431505, 310025, 707487, 973600, 575648, 427362, 400749, 492293, 295937, 302525, 374968, 518750, 1659426, 389056, 951000, 239750, 573950, 250987, 441211, 340762, 604375, 452437, 555325, 944143, 802937, 827375, 288600, 326187, 318687, 517000, 302000, 553931, 558237, 536487, 499606, 519306, 355687, 971368, 276543, 941956, 509312, 482675, 550437, 366643, 485500, 812500, 348493, 563000, 661812, 1736312, 524281, 306718, 553806, 1165937, 609691, 662375, 656742, 371906, 469750, 314393, 489687, 916986, 994812, 469987, 430480, 262600, 502641, 314618, 582562, 696856, 793125, 395750, 1405437, 299437, 414400, 412350, 515943, 388318, 291986, 471931, 437571, 447937, 464500, 804755, 411687, 411625, 413812, 380825, 474125, 558562, 662550, 283687, 787437, 304850, 607993, 408856, 198222, 344475, 667750, 473762, 385437, 1078125, 523687, 390187, 276517, 938500, 548711, 331118, 338668, 679118, 452062, 1075165, 330875, 346425, 590259, 563468, 631000, 1273673, 619136, 363717, 882145, 526630, 968898, 414898, 1105034, 569785, 525375, 664250, 657761, 689812, 501237, 412618, 740028, 940723, 337333, 409418, 821625, 686502, 523023, 648925, 732759, 313600, 1581250, 494237, 456875, 821200, 588437, 439813, 1459375, 321187, 406887, 451731, 750779, 314312, 380712, 1079961, 797250, 611875, 544718, 344653, 1000036, 353907, 392993, 567262, 802493, 665218, 309237, 623954, 1305038, 811805, 430623, 558698, 440737, 2123125, 523699, 325381, 577737, 447806, 472618, 837493, 432362, 402875, 1193123, 850248, 414700, 521862, 589579, 453882, 432362, 508660, 766110, 398631, 361305, 397812, 550806, 310236, 555922, 548576, 387943, 482606, 1057999, 565493, 298912, 389556, 1377540, 665218, 435175, 598087, 930706, 486505, 369050, 776218, 704243, 671743, 794443, 722656, 318487, 447093, 357368, 430625, 551127, 489737, 296200, 331625, 324686, 577521, 433875, 583687, 411018, 626868, 566556, 578644, 1217750, 942600, 328875, 1069859, 406750, 312156, 472612]\n",
      "[443944, 368136, 550994, 447089, 337650, 935172, 315072, 471176, 444566, 321320, 510024, 491833, 358616, 448688, 1099061, 421044, 576105, 329000, 400333, 425611, 520272, 429883, 881222, 637633, 296066, 585833, 975033, 456083, 997190, 486055, 1291147, 1379284, 550337, 352678, 307110, 402444, 356633, 942066, 399488, 323250, 865202, 508944, 314222, 338722, 406266, 514872, 431327, 581000, 379838, 614666, 332833, 313827, 332961, 645310, 505973, 461644, 558111, 303978, 565777, 723333, 285655, 532671, 957388, 410161, 639333, 323055, 276327, 256944, 441511, 481594, 868555, 245155, 686555, 468705, 227055, 287852, 535555, 444111, 741025, 455883, 377855, 722277, 507805, 334302, 342666, 324000, 570388, 704416, 294438, 534722, 605966, 777222, 329382, 251888, 494666, 374624, 304544, 390344, 343372, 494977, 266055, 369150, 736044, 573388, 550500, 477500, 313561, 415677, 488327, 720500, 795166, 327910, 494555, 688222, 441605, 340416, 718333, 564777, 1800161, 497675, 1558550, 550700, 529065, 758444, 386344, 572000, 454944, 447605, 252383, 443750, 334794, 287860, 673833, 383438, 245161, 476566, 301533, 575648, 701777, 466555, 962000, 296937, 422344, 592344, 547496, 444766, 647666, 392535, 684611, 360600, 452416, 283888, 440799, 573833, 613111, 300522, 275555, 694108, 358716, 713278, 1232451, 467180, 375044, 277344, 324522, 634417, 459655, 449944, 426633, 421477, 417494, 775314, 331555, 345388, 455221, 522305, 463877, 603858, 398098, 403166, 462844, 377984, 352333, 709976, 420844, 849888, 526277, 652754, 584766, 469266, 348766, 877666, 510105, 442759, 353250, 680000, 374433, 582898, 286522, 405127, 502733, 835000, 874888, 425288, 287333, 1488451, 640755, 385300, 423577, 592221, 339328, 623594, 381550, 338833, 414611, 529676, 590933, 300694, 463772, 329833, 467666, 333388, 309654, 306136, 914277, 318555, 607603, 931166, 276266, 570100, 483061, 422611, 393038, 770444, 559444, 435008, 619722, 583666, 1258277, 475135, 463888, 488513, 571565, 513655, 242500, 246213, 418222, 508344, 1352943, 388777, 405188, 1229500, 436950, 422322, 485272, 691055, 407722, 338407, 412777, 298494, 337972, 589143, 271155, 1504444, 811777, 526843, 335722, 534272, 600377, 589928, 360175, 397100, 287761, 456013, 393211, 328800, 392583, 399872, 740982, 445125, 391655, 649611, 877494, 695716, 310050, 1130722, 240777, 391138, 330776, 471495, 1335772, 448333, 683672, 255419, 383722, 361944, 1634078, 550777, 383544, 440888, 1116333, 503955, 457100, 514550, 389733, 616711, 659472, 722433, 364547, 314144, 1884444, 389966, 258444, 404144, 232938, 386100, 304383, 442611, 491222, 580433, 300272, 581261, 543600, 353852, 893098, 806444, 278388, 1425000, 559015, 642194, 472116, 453138, 634933, 416333, 400750, 549064, 309261, 302955, 322705, 531827, 710361, 248222, 557294, 784833, 435161, 475372, 795055, 428085, 757161, 430222, 384119, 431866, 600327, 468222, 328661, 973444, 288187, 423766, 340637, 485088, 309100, 339050, 351822, 602088, 355466, 389711, 527194, 454550, 281161, 276638, 298148, 318185, 403177, 593383, 1227622, 305577, 195644, 384522, 550277, 1176248, 364361, 498055, 505388, 312555, 746261, 394994, 688777, 780155, 583611, 1455777, 1475388, 265991, 596191, 395355, 453422, 285550, 819838, 361944, 520000, 315666, 1978316, 274777, 2574144, 274716, 447000, 644333, 437338, 801344, 782650, 661050, 333838, 350419, 433722, 387600, 591151, 282966, 915000, 315241, 824666, 730438, 420355, 276611, 436722, 550050, 336000, 321194, 439927, 557133, 493291, 444555, 471222, 319511, 607463, 356247, 1241544, 982853, 330144, 658516, 790513, 1465369, 281194, 493511, 267994, 356691, 477975, 372988, 624305, 416854, 509650, 511327, 593688, 455224, 417666, 650916, 323444, 384216, 305644, 496944, 405295, 421200, 375333, 333244, 683830, 449555, 472177, 539494, 618611, 701617, 494970, 623900, 409032, 434931, 407883, 284155, 418894, 538105, 547877, 365584, 832694, 428979, 473538, 636069, 579009, 374355, 442772, 426427, 997722, 441500, 685991, 346994, 448333, 882388, 707222, 877855, 804833, 521888, 298861, 300961, 490722, 279094, 506347, 732099, 626105, 340327, 567055, 921554, 508670, 480550, 588927, 894777, 468716, 624938, 297955, 355438, 629272, 644666, 329600, 283738, 278433, 590100, 340359, 418087, 996950, 252805, 420300, 521883, 355660, 391112, 782222, 1928500, 526883, 239772, 527944, 868888, 540555, 753111, 1338277, 557428, 289550, 306888, 584444, 333583, 466445, 475289, 467822, 366822, 509166, 443717, 438661, 602161, 405705, 565200, 449666, 349499, 733816, 189815, 589899, 418711, 379005, 244733, 406900, 407747, 925030, 319400, 449000, 457455, 367288, 716277, 472111, 599533, 396655, 476494, 365100, 508277, 360000, 597994, 885777, 303386, 517772, 503945, 346266, 581000, 384955, 422666, 333577, 655186, 556888, 748822, 914666, 372284, 778277, 800799, 368388, 618055, 362888, 353550, 289355, 406277, 316211, 878833, 668501, 300985, 583833, 351611, 338872, 460500, 1476439, 281938, 466666, 286155, 384605, 691314, 277438, 597483, 371754, 344722, 400100, 509944, 331011, 321377, 822327, 730950, 734676, 513777, 341516, 463111, 407952, 447747, 494711, 810267, 370188, 463895, 291855, 295666, 1189677, 335888, 495465, 384661, 459272, 477766, 682833, 560722, 439161, 321955, 619809, 593333, 867220, 417800, 489811, 278438, 706266, 264044, 495453, 904833, 421638, 442777, 555988, 342444, 380377, 1055778, 354916, 447661, 303978, 461444, 621666, 304675, 478483, 524144, 339945, 484844, 572794, 293633, 904298, 297455, 505666, 472677, 399333, 229630, 460433, 725146, 556711, 296944, 665656, 503622, 375333, 417033, 377527, 202648, 354766, 350952, 553316, 319988, 428903, 376505, 634888, 902444, 382067, 1083055, 566233, 545661, 244322, 597261, 382000, 388233, 382750, 1312781, 842888, 540565, 401450, 399716, 530609, 416388, 358585, 457566, 393777, 480450, 1529105, 490945, 566777, 418833, 683055, 370377, 888555, 370333, 300692, 368366, 395772, 553419, 637333, 957836, 514722, 522015, 344544, 340499, 630922, 362666, 496272, 416913, 428555, 1166722, 353333, 481555, 352333, 485272, 545277, 499388, 259216, 547161, 315488, 527444, 546445, 404316, 334597, 435944, 334861, 288550, 457566, 518716, 438000, 490682, 297922, 384111, 274522, 382777, 461094, 525716, 745333, 921987, 355872, 365233, 339136, 931166, 723350, 1042382, 432933, 702500, 357544, 338222, 529066, 242927, 710061, 400711, 549900, 552327, 254566, 443261, 359716, 427166, 333759, 330633, 215277, 432333, 225433, 595121, 388738, 466286, 390322, 360100, 692761, 802350, 400550, 586277, 508550, 283316, 905631, 399965, 319865, 445444, 575883, 412000, 186886, 468383, 352556, 630044, 329388, 424789, 505055, 469579, 727476, 966242, 527994, 412677, 286765, 316488, 569176, 295050, 470255, 239076, 636902, 514056, 369277, 486966, 1884444, 491661, 379166, 374733, 404055, 302272, 249319, 390838, 576727, 364888, 456166, 401938, 863844, 588100, 402905, 787072, 495544, 337550, 1176888, 395500, 223891, 1884444, 458500, 393288, 352288, 260766, 540611, 350750, 440933, 573938, 377393, 883333, 354472, 475777, 648115, 318877, 748472, 531555, 768777, 287099, 435383, 632672, 1170955, 341833, 276822, 516500, 535827, 461444, 272083, 924000, 824450, 473311, 329746, 368050, 468000, 391344, 622755, 768666, 690327, 655903, 254266, 617666, 602333, 504161, 441577, 453972, 266433, 515777, 211113, 429681, 312066, 424438, 665555, 328482, 379722, 487666, 382571, 513465, 559706, 447333, 403888, 300519, 512675, 342055, 461722, 473422, 498194, 778805, 465333, 496121, 472410, 1283451, 308083, 386444, 2574144, 562333, 295733, 625166, 497675, 624666, 335500, 472094, 711105, 570272, 476766, 367326, 578703, 451438, 513594, 531055, 399183, 593595, 506673, 535599, 470732, 385051, 801444, 619883, 376166, 1359605, 364444, 381455, 479650, 251888, 333722, 433494, 353994, 402050, 391890, 359450, 851111, 480605, 317432, 363992, 406105, 920833, 449166, 520666, 656348, 421794, 898338, 503611, 486377, 356334, 245011, 642250, 275605, 359357, 454877, 321961, 344961, 451550, 309161, 566855, 405611, 229507, 365350, 661666, 224920, 556944, 404400, 482766, 451550, 341872, 416466, 297550, 303144, 389055, 355444, 1355110, 400327, 503327, 729111, 524722, 498388, 444500, 404100, 304544, 497427, 513716, 634697, 557388, 788288, 2459666, 323655, 473538, 475778, 636666, 377950, 658747, 370833, 255222, 539222, 314538, 255800, 222383, 507045, 393761, 351555, 453883, 319500, 459730, 318493, 310666, 434555, 296888, 592666, 488938, 519938, 671954, 515732, 393938, 278166, 367524, 735266, 428161, 468894, 478766, 297944, 198800, 461000, 1161555, 459994, 398494, 751543, 312604, 584444, 1078805, 681262, 656172, 1234221, 557898, 514944, 316316, 384574, 347343, 375688, 477722, 778772, 472150, 249944, 300265, 766388, 318611, 728972, 785154, 532911, 564373, 472055, 272277, 463334, 1003611, 573944, 334300, 1020111, 717111, 498555, 968777, 701355, 410733, 605333, 829344, 329772, 313642, 220086, 509216, 388388, 474405, 432458, 382883, 443944, 472661, 650785, 368766, 452444, 1028000, 531155, 382444, 301477, 471550, 463444, 473494, 478463, 455833, 374455, 1415049, 446000, 693611, 450327, 485383, 575555, 945001, 477211, 742499, 417038, 648216, 388494, 309894, 438250, 359977, 444272, 444677, 540383, 264765, 472444, 331033, 460155, 294466, 600666, 667466, 276733, 411161, 588555, 546555, 568555, 325077, 311655, 360077, 1204944, 725209, 596827, 482833, 635977, 621588, 568827, 779377, 333515, 344187, 239719, 1038972, 259383, 305088, 280219, 603082, 848944, 587683, 343877, 700105, 260622, 396422, 703987, 455038, 400916, 277288, 751666, 316411, 359500, 215194, 607080, 565272, 404535, 425111, 466361, 542858, 706600, 439111, 429327, 558940, 317715, 521388, 853388, 441444, 752777, 259432, 405783, 302911, 719655, 960144, 579687, 449433, 398221, 481927, 293611, 311022, 352750, 501666, 1640379, 367383, 933111, 231944, 537788, 279766, 443812, 351900, 557111, 457716, 586400, 884127, 830388, 816000, 292644, 328984, 319388, 486222, 306055, 576272, 551766, 516322, 490316, 521050, 360833, 918438, 268593, 948400, 520576, 486877, 566000, 354127, 521000, 831111, 341438, 531277, 663277, 1612833, 531583, 297861, 526716, 1204944, 590503, 650438, 622882, 358583, 484222, 307683, 515833, 875654, 1004944, 462433, 439010, 283977, 502626, 324105, 559600, 747205, 813888, 402555, 1382611, 305633, 414911, 390200, 534800, 522950, 281765, 488494, 446619, 434722, 475111, 803171, 402055, 416222, 396722, 392400, 451333, 530388, 645600, 307555, 816611, 297644, 606772, 406205, 204642, 367922, 632444, 476122, 383722, 1005777, 532722, 411833, 287460, 914055, 593855, 347216, 328816, 701327, 459055, 1135702, 325200, 346711, 614008, 556638, 600883, 1226876, 608676, 360804, 887774, 509227, 922343, 418087, 1099975, 564586, 490333, 666555, 628565, 687050, 495544, 429550, 722262, 896193, 354851, 401150, 838111, 699002, 526576, 635069, 705730, 318200, 1683333, 495683, 473333, 794400, 574722, 458500, 1504444, 317611, 414900, 479914, 812470, 324027, 398411, 1036409, 776444, 615888, 539194, 326658, 1006698, 355695, 374827, 578566, 802883, 650194, 305766, 610008, 1290552, 808271, 420554, 552398, 446322, 2192777, 540621, 321338, 554655, 456938, 489550, 897216, 458767, 408666, 1174443, 851887, 436400, 505877, 577959, 464228, 444877, 509454, 756542, 408783, 356716, 396944, 547938, 308154, 583831, 533562, 385949, 464761, 1123555, 576550, 307366, 383494, 1337814, 650194, 435711, 633850, 888405, 494665, 366377, 758522, 672549, 744327, 829505, 727915, 317544, 429861, 357661, 432066, 525002, 507544, 292733, 330888, 338276, 589963, 440222, 571611, 405127, 626661, 558044, 561006, 1332444, 990644, 322166, 1061542, 410444, 311250, 484544]\n",
      "[463450, 361522, 539195, 426630, 345885, 934155, 327065, 470559, 456710, 313188, 486521, 472145, 364855, 448070, 1129155, 422590, 550745, 320610, 410300, 412845, 540745, 429885, 837600, 636370, 298460, 592250, 945630, 451975, 988421, 499950, 1257032, 1435855, 531298, 340390, 320399, 427200, 343470, 982360, 412040, 320825, 858582, 523050, 302400, 329360, 411225, 526885, 424195, 595400, 375855, 607700, 316249, 303445, 339865, 688879, 512376, 477430, 560300, 307580, 562200, 730300, 280990, 516404, 949150, 458645, 617400, 316340, 270195, 255500, 475360, 473030, 886700, 256140, 676900, 468835, 233850, 289267, 514090, 420700, 726122, 461795, 386770, 709395, 496890, 322072, 357390, 322600, 563218, 706475, 314495, 511240, 565825, 818500, 325944, 250200, 510200, 388161, 295090, 388310, 343023, 508005, 256950, 368235, 705940, 547050, 537950, 456250, 307405, 398610, 481995, 733450, 785550, 338319, 475300, 691900, 437145, 359025, 751500, 539900, 1698645, 490908, 1719570, 588930, 518058, 765100, 376210, 583688, 432450, 432020, 240045, 449375, 332015, 295574, 669949, 384095, 255645, 507760, 302880, 603284, 677600, 463400, 955900, 292244, 441610, 601010, 561747, 460490, 682900, 428281, 724900, 346340, 441375, 277700, 424119, 576700, 585300, 289870, 272500, 674597, 359345, 718676, 1178006, 465962, 384340, 272210, 318870, 653725, 465160, 533850, 404970, 410330, 398145, 812683, 325900, 337350, 472694, 513275, 497490, 618972, 381966, 393350, 453560, 361985, 404600, 707479, 438960, 824400, 540650, 647978, 572790, 459840, 361390, 837900, 481595, 444783, 354925, 674750, 375540, 567008, 295370, 402110, 526360, 804000, 833300, 419260, 283600, 1460606, 646680, 395770, 421220, 578419, 329395, 681735, 382895, 341700, 402650, 549859, 621840, 318726, 472645, 337050, 461400, 335300, 311689, 316772, 892850, 300200, 570242, 933050, 270140, 560590, 471255, 420950, 386235, 762288, 540400, 433008, 634850, 581300, 1253450, 469622, 493500, 510362, 573904, 513190, 247250, 256592, 405235, 496110, 1303649, 391900, 387565, 1371550, 438455, 413490, 461245, 675950, 402945, 351066, 424500, 297640, 334164, 564428, 280540, 1500000, 786600, 534009, 347950, 519345, 596840, 567936, 355653, 391390, 293485, 436907, 373290, 330415, 385225, 392085, 741883, 428957, 376167, 649450, 827745, 676045, 320195, 1162650, 244200, 380725, 314849, 485145, 1522195, 443700, 656805, 260877, 371500, 365750, 1632670, 568810, 398190, 427800, 1097200, 493260, 458385, 539095, 379260, 607040, 703524, 709090, 367392, 326630, 1953400, 388470, 274800, 388330, 240145, 380080, 294945, 444950, 488800, 577010, 291245, 555355, 558740, 345967, 838788, 784800, 265900, 1429000, 531630, 670475, 456605, 438325, 605640, 429700, 443925, 532658, 298635, 290660, 335435, 546145, 720525, 251300, 571065, 825350, 420445, 467430, 830050, 422276, 760945, 416700, 371707, 438680, 566595, 463900, 336095, 965700, 311119, 435890, 341073, 479780, 313190, 346645, 354735, 625380, 343420, 396360, 524475, 443295, 275235, 291475, 301633, 302366, 405360, 567945, 1219540, 319015, 192580, 386070, 536560, 1119624, 361325, 512750, 482150, 298800, 719135, 420395, 662400, 749640, 562250, 1605200, 1451850, 265392, 592572, 382420, 463080, 283495, 806355, 368250, 520500, 304500, 1864385, 272300, 2381730, 280245, 452300, 664150, 423605, 780710, 755935, 635445, 343455, 347877, 416950, 382240, 603036, 278347, 863700, 313117, 817200, 728795, 433320, 277950, 440250, 555745, 342045, 340825, 450835, 558420, 524962, 434600, 452100, 307060, 633717, 413122, 1214590, 944568, 351730, 619165, 806462, 1404832, 280575, 505760, 260095, 349422, 462577, 380590, 701875, 404669, 522985, 527695, 605820, 457201, 431399, 633825, 319730, 378545, 300580, 490850, 400515, 406280, 357950, 324420, 684047, 438888, 492860, 550795, 626250, 669455, 519463, 649505, 410629, 415938, 417595, 288240, 407004, 515605, 565590, 384126, 818225, 411081, 464935, 632462, 598108, 364195, 453995, 443885, 959249, 444050, 690192, 351295, 430000, 862950, 703100, 869058, 806650, 542200, 310475, 319010, 467150, 271935, 520712, 756859, 626495, 321295, 550250, 920899, 512703, 491490, 564235, 949550, 458345, 597945, 283660, 364438, 621845, 628200, 329140, 274165, 280540, 599590, 336923, 432778, 1035755, 257520, 412270, 535195, 348094, 380700, 792000, 1814650, 549695, 241895, 541900, 850500, 553500, 740800, 1514450, 543676, 290595, 301200, 553000, 323725, 486550, 464760, 500140, 352140, 508118, 500345, 446095, 586935, 438835, 559180, 461890, 355049, 690435, 193333, 568409, 410240, 378105, 242060, 421960, 439072, 911527, 305960, 449100, 458960, 392470, 692150, 459300, 575080, 400980, 473345, 363835, 499950, 364000, 612795, 883600, 306047, 525990, 496551, 341640, 586750, 394460, 431400, 324720, 669167, 548000, 771440, 872930, 357255, 804950, 774719, 363077, 610150, 362300, 339695, 297720, 412350, 342090, 870450, 674151, 294882, 594500, 356050, 348475, 451050, 1490295, 288445, 476900, 292035, 395645, 738583, 274195, 609235, 381079, 350749, 390690, 516450, 319905, 328590, 796845, 742855, 714708, 492900, 359865, 462300, 445157, 458472, 534240, 788490, 390970, 494706, 290665, 285350, 1134210, 329195, 481119, 373595, 454595, 478690, 639050, 564900, 435245, 317260, 649823, 593000, 866998, 397520, 477330, 275585, 776140, 270540, 502908, 919350, 432975, 427000, 557890, 345700, 368690, 1019001, 340925, 429390, 307580, 451300, 608500, 316007, 467235, 497730, 346451, 497960, 539015, 291770, 890868, 291210, 514445, 457910, 385400, 243217, 481140, 716482, 551040, 293750, 638885, 492960, 362700, 407320, 387876, 195284, 351790, 358857, 587484, 309490, 427513, 376355, 647300, 953360, 403360, 1214750, 559460, 544995, 237128, 595035, 382300, 389055, 396475, 1286503, 823595, 534408, 425805, 402245, 517448, 396745, 351727, 473009, 402050, 499405, 1487195, 502650, 573595, 414927, 677250, 358060, 849430, 358300, 315322, 376480, 388285, 560077, 633400, 936052, 495050, 509808, 356190, 343049, 630430, 351400, 476145, 438721, 419200, 1220050, 357750, 501900, 335100, 496745, 548750, 484250, 268695, 555945, 307640, 511700, 541800, 413185, 332937, 413850, 351075, 270695, 473009, 546745, 446700, 501213, 303130, 371075, 274570, 373400, 486085, 512145, 746800, 874288, 351785, 378410, 337473, 914550, 759115, 1007644, 418640, 695000, 362790, 340900, 513009, 240635, 666055, 387940, 535410, 543795, 247510, 448935, 353745, 407750, 322573, 341565, 214750, 432800, 225090, 608759, 390065, 471157, 381390, 363090, 712985, 778315, 387845, 564150, 533995, 268885, 886918, 417869, 315679, 429400, 596795, 420550, 180147, 473645, 354801, 646540, 333950, 417060, 512050, 478121, 724029, 972117, 527195, 400160, 299589, 308039, 572259, 301065, 483530, 232169, 641312, 509400, 371350, 510170, 1857250, 474995, 366845, 363610, 389650, 297545, 244882, 386043, 558054, 380600, 440450, 423245, 842360, 618290, 418614, 958365, 510090, 345295, 1292000, 420950, 222502, 1953400, 502650, 400760, 359510, 257290, 524550, 341975, 423340, 598945, 366854, 912500, 365225, 457200, 653303, 344340, 752625, 530700, 725900, 292889, 430745, 622505, 1108860, 360300, 276640, 520850, 523458, 479300, 282075, 921200, 820005, 465980, 326671, 352745, 440940, 378960, 630480, 754800, 693795, 662812, 246340, 621900, 611600, 486245, 445420, 481075, 258790, 550600, 222002, 411713, 324860, 402145, 653000, 324933, 398750, 510077, 390614, 515619, 596236, 446300, 394000, 332417, 511658, 336750, 471700, 486580, 505575, 787425, 444100, 478909, 444769, 1279606, 309525, 400300, 2381730, 553100, 296660, 667650, 475908, 592100, 326945, 473385, 768495, 574445, 490185, 362093, 570832, 458295, 514485, 504650, 424265, 582235, 490205, 540053, 476159, 411796, 807800, 593695, 382850, 1413645, 350500, 387310, 474185, 240200, 342340, 427645, 364595, 403845, 389201, 362005, 806000, 504645, 317939, 367588, 404695, 890750, 444450, 496500, 667214, 440615, 897005, 487250, 491240, 358700, 242710, 659225, 272695, 355171, 449590, 333765, 337365, 436895, 303145, 583670, 404750, 226157, 358815, 679400, 223028, 565750, 394960, 491640, 435395, 332285, 412820, 281095, 301830, 392145, 346575, 1311099, 406795, 507945, 749200, 559745, 514550, 454100, 414690, 295090, 545655, 549595, 645122, 551750, 801460, 2312200, 365290, 464935, 469001, 638000, 368145, 672372, 359050, 275200, 522095, 306885, 272020, 239793, 488836, 376135, 367900, 450095, 342550, 456687, 318144, 327600, 435100, 303700, 565288, 516045, 503445, 651258, 521158, 387445, 277850, 360771, 714162, 413845, 446905, 466390, 324400, 199520, 454900, 1112900, 486095, 415795, 791388, 305844, 594800, 1053925, 648136, 647755, 1226799, 565401, 504950, 307685, 379116, 347108, 373120, 476050, 758895, 480435, 267450, 298239, 818750, 313399, 731575, 755538, 542520, 582936, 501350, 285870, 494201, 940240, 563050, 338370, 1013100, 685195, 488900, 1004900, 747220, 411660, 582300, 832710, 330783, 358278, 217072, 515795, 377540, 478465, 447513, 369795, 481950, 476795, 658707, 378190, 437700, 1007700, 532035, 406400, 300930, 469395, 469300, 493145, 470317, 468250, 366410, 1398544, 488400, 688590, 462795, 519245, 550500, 999501, 495485, 735749, 406685, 616395, 402566, 324405, 465425, 357680, 451355, 444460, 542745, 255288, 468900, 348930, 502140, 283520, 675240, 666470, 273760, 420545, 581600, 553100, 565700, 317080, 297490, 357520, 1254450, 704088, 587145, 474550, 605880, 631430, 587945, 811939, 347663, 348969, 248747, 978065, 255945, 292580, 276697, 616274, 841550, 608565, 344990, 706345, 263060, 392280, 704588, 458835, 408325, 268810, 719700, 319770, 383050, 216670, 638872, 541745, 404081, 428100, 468925, 529072, 722440, 422200, 436895, 554846, 330644, 495750, 833550, 416300, 725500, 251788, 411804, 301615, 743690, 955330, 560319, 456590, 388599, 500885, 301750, 308170, 340375, 518250, 1622341, 372845, 959750, 241250, 519005, 266790, 464431, 371205, 568000, 469945, 556760, 861965, 800350, 812900, 298629, 328585, 321738, 482300, 318450, 582145, 578074, 526190, 501785, 513945, 370700, 987595, 270329, 917560, 504168, 503690, 560400, 347615, 540400, 859000, 333944, 508650, 633450, 1514450, 565425, 290075, 522805, 1254450, 612552, 653195, 602584, 351225, 494300, 301415, 506050, 898088, 1038450, 476185, 465109, 281080, 539858, 322395, 567740, 731485, 768000, 431300, 1342850, 313120, 397970, 389180, 519930, 524767, 288688, 475145, 433267, 419245, 470850, 800354, 411250, 411100, 390750, 371745, 447200, 534850, 650690, 304700, 838450, 292180, 605995, 391085, 202178, 364630, 644200, 472410, 390650, 1000100, 518450, 412650, 298614, 908650, 626468, 367295, 330435, 713695, 443150, 1151132, 339080, 346340, 611107, 553975, 590639, 1167688, 622308, 358724, 919496, 520304, 935108, 427578, 1087077, 548128, 500300, 638700, 602458, 711945, 478490, 435590, 725786, 939573, 338366, 412035, 845800, 714101, 521168, 664062, 766257, 314180, 1750195, 482940, 464500, 793948, 571250, 502650, 1466500, 319850, 421310, 489623, 869023, 325625, 387370, 996268, 762800, 604144, 533775, 345192, 1022028, 374126, 389445, 560610, 805895, 691675, 304790, 635008, 1296496, 802444, 432499, 531159, 448390, 2072350, 548559, 319105, 550490, 453194, 487595, 899995, 449790, 424800, 1142249, 857199, 416560, 495190, 575658, 470806, 460490, 500444, 758388, 430455, 356034, 422650, 568145, 310839, 570868, 525506, 398354, 456785, 1070099, 608795, 316805, 395145, 1300332, 691675, 445135, 629960, 896565, 501449, 358640, 743969, 677794, 770895, 834855, 715124, 312190, 426775, 371895, 426360, 521752, 502790, 289460, 329900, 363949, 565167, 439190, 592388, 402110, 620245, 550235, 547795, 1372200, 992580, 335080, 1188187, 410000, 317625, 490990]\n",
      "[479063, 415475, 520622, 424436, 363986, 877640, 311877, 489144, 447281, 303580, 493383, 470086, 359868, 436427, 1148777, 444627, 553950, 368736, 388392, 404404, 542040, 430440, 844636, 642063, 299509, 590318, 930118, 472250, 1025838, 519227, 1268029, 1415323, 528452, 353991, 375481, 442000, 355427, 983509, 394672, 313113, 866892, 526409, 302818, 376690, 395250, 515345, 436768, 598454, 366050, 631636, 364772, 296040, 345786, 691344, 516001, 457845, 569235, 316209, 542909, 738727, 295900, 528776, 971909, 463768, 605363, 314400, 279722, 261818, 536690, 480931, 904818, 252172, 725909, 453713, 232318, 296197, 525627, 411545, 748293, 470268, 382881, 699540, 483263, 318611, 368445, 318709, 543108, 686340, 308540, 507945, 557932, 827272, 319667, 245090, 491090, 399233, 301445, 393463, 338476, 489640, 257677, 357031, 666309, 526590, 528045, 478921, 300477, 386077, 512268, 767227, 841409, 364381, 473000, 710363, 433768, 346840, 749090, 518090, 1696950, 471734, 1682336, 563477, 534780, 743727, 378368, 581535, 410045, 425018, 242040, 427613, 347204, 298249, 679499, 400086, 248313, 525231, 316436, 632530, 674636, 461000, 1007636, 299308, 450100, 569009, 584052, 451804, 701727, 427983, 738545, 355763, 451704, 273809, 425562, 577000, 568000, 294336, 263750, 682588, 376677, 703887, 1198187, 466783, 383309, 279736, 316027, 683386, 454372, 511227, 407022, 390754, 422222, 859171, 314000, 329090, 486990, 517704, 503172, 606338, 374969, 403954, 441872, 359078, 440590, 690890, 423418, 851954, 552409, 634526, 582081, 445309, 378536, 840527, 515540, 431521, 342204, 679318, 372990, 569735, 284427, 395281, 504722, 846545, 841636, 413418, 296272, 1445005, 653800, 389336, 405654, 558553, 320541, 697031, 377177, 346995, 391728, 530780, 620309, 312478, 484586, 323772, 475736, 320727, 314262, 334520, 866681, 300636, 563129, 917772, 263400, 556218, 474414, 410000, 379304, 720717, 526363, 427280, 627590, 580727, 1276318, 473138, 482000, 609420, 559458, 531947, 254772, 264902, 414940, 478736, 1396771, 398636, 393195, 1296863, 445413, 401991, 453222, 649227, 418959, 378697, 428454, 336036, 331513, 543108, 285935, 1595090, 777863, 540462, 340409, 526672, 620763, 552659, 359684, 379513, 286077, 457870, 379263, 318695, 410659, 405531, 709894, 430415, 388333, 663045, 818768, 679586, 311259, 1166954, 245181, 383840, 322408, 522859, 1530632, 427768, 654004, 275434, 371545, 366590, 1603336, 565190, 407900, 402545, 1083818, 503418, 451940, 544627, 390690, 602400, 680477, 704627, 363538, 330481, 1922409, 393154, 273454, 405754, 227404, 372790, 289677, 449045, 468409, 594827, 287486, 570231, 559990, 365515, 941191, 762000, 261272, 1368181, 513300, 694613, 447368, 443022, 601490, 420181, 445840, 545053, 322027, 286918, 334668, 558313, 767386, 258090, 556418, 803045, 409950, 570390, 826681, 412978, 748790, 428363, 384734, 455118, 555359, 453540, 325995, 956454, 323471, 445809, 344476, 456163, 307263, 336950, 346122, 608709, 333836, 377963, 537477, 439950, 265122, 284068, 296121, 304424, 408736, 560586, 1197036, 320604, 215527, 382972, 514963, 1120658, 384931, 567045, 473772, 298454, 708304, 427631, 660818, 753763, 552409, 1649727, 1378863, 273084, 601429, 377381, 470977, 314631, 781959, 351381, 521372, 320363, 1925622, 265727, 2315209, 274040, 457318, 635590, 446459, 782372, 732577, 628586, 331322, 353888, 454590, 398855, 616396, 281679, 853363, 337197, 820636, 738904, 418468, 278136, 453409, 573359, 355950, 331204, 434668, 565381, 546329, 445818, 438863, 301827, 636106, 397384, 1219400, 914516, 357027, 611877, 786693, 1350302, 280068, 490690, 255995, 334265, 460525, 386218, 711886, 428790, 489077, 579722, 597836, 466091, 448090, 662568, 302390, 384586, 327234, 506181, 408641, 425663, 392681, 332654, 684588, 428535, 527600, 547086, 637954, 655721, 530420, 650005, 398026, 429944, 433495, 293763, 406549, 533277, 574168, 387387, 807931, 417165, 451940, 608965, 590098, 377631, 435450, 433077, 917045, 454136, 701084, 369900, 442727, 861772, 677363, 908235, 805409, 553590, 299068, 346981, 453772, 267213, 517011, 726417, 738813, 325924, 544590, 887180, 520185, 491354, 561213, 912772, 457586, 570404, 278327, 363580, 617586, 662909, 310127, 270786, 282785, 608627, 332657, 440071, 1077959, 272200, 423881, 613813, 342938, 369091, 792636, 1922409, 556086, 251076, 553318, 851772, 530363, 716636, 1540409, 560160, 282813, 314345, 529909, 311568, 495046, 457509, 479400, 370127, 496853, 481382, 443385, 601759, 466668, 554618, 449900, 353863, 671304, 195030, 548735, 395400, 378141, 245963, 444963, 425516, 905024, 308054, 484181, 462690, 397700, 668500, 446272, 556618, 408618, 469586, 358940, 477136, 364481, 622995, 862363, 303670, 522945, 491750, 322854, 579136, 400600, 425363, 360654, 655197, 532272, 776309, 865845, 359368, 758318, 776563, 354615, 597409, 384590, 339631, 303381, 417590, 332354, 854318, 648319, 296983, 574636, 341954, 342522, 453681, 1466450, 299950, 493540, 293304, 410009, 781439, 271986, 622940, 369217, 352272, 410809, 502950, 302897, 326900, 812586, 736050, 688367, 504409, 347145, 456454, 443779, 453157, 551581, 777718, 387244, 494273, 290513, 282090, 1117009, 319631, 472471, 368268, 435995, 452068, 642090, 547636, 424677, 335236, 641884, 589545, 867725, 399836, 458527, 288259, 878309, 287309, 482643, 917227, 448431, 422090, 533627, 347454, 371570, 1035910, 339931, 415809, 316209, 468454, 580818, 337097, 467940, 522027, 341046, 488781, 542286, 288881, 853153, 298827, 500859, 464918, 378545, 243697, 476945, 718620, 538412, 295136, 621486, 497236, 367227, 419927, 376796, 195530, 345718, 377597, 617708, 318909, 441648, 372959, 649818, 1003509, 421180, 1217954, 539509, 547722, 231934, 572304, 384772, 396231, 389977, 1249457, 815086, 534008, 445731, 402040, 531225, 382222, 380206, 457463, 419681, 480277, 1423359, 522859, 575995, 433751, 681590, 363509, 844481, 351177, 302111, 385618, 381395, 556888, 616681, 917320, 523772, 532325, 347077, 336954, 647209, 344818, 506950, 430656, 414272, 1157136, 356590, 478363, 336545, 480677, 534772, 494318, 270904, 571586, 303081, 505863, 533455, 414713, 320852, 429409, 340068, 273813, 457463, 587768, 435454, 511967, 305118, 371431, 278336, 371396, 507440, 523768, 748454, 887535, 348440, 372191, 362248, 917772, 713740, 984222, 403763, 701363, 364809, 337636, 499827, 237668, 650960, 376309, 536975, 538904, 245554, 480850, 348859, 409318, 329612, 349795, 215409, 449818, 234172, 587508, 414877, 471506, 392165, 358581, 704077, 788013, 400313, 573545, 615450, 262531, 860834, 418517, 313799, 446272, 594131, 402772, 193315, 492495, 341637, 635490, 319209, 407964, 552954, 454201, 720481, 953016, 511540, 422418, 313262, 307308, 576599, 306422, 512300, 246699, 630738, 494000, 370772, 530154, 1733863, 486359, 375404, 361372, 381954, 289586, 261256, 382948, 553867, 386454, 460090, 436722, 935054, 637627, 423285, 919559, 525627, 335268, 1243845, 433136, 220911, 1833000, 493318, 394054, 357190, 252809, 535500, 336877, 424854, 609202, 375595, 908090, 367477, 465863, 665275, 348490, 742386, 534636, 710909, 294445, 425131, 650459, 1073054, 361636, 269672, 497586, 534871, 468454, 278840, 921545, 830459, 463818, 337878, 363859, 461127, 385418, 634072, 748727, 697540, 656648, 249400, 623090, 617363, 487495, 435381, 477795, 289445, 545909, 237275, 414966, 320069, 400131, 743636, 318121, 415227, 513945, 399649, 496471, 594669, 437545, 405636, 321861, 521962, 327027, 478527, 496754, 488077, 843113, 441454, 460190, 429154, 1404187, 312195, 388909, 2315209, 548272, 307157, 661045, 471734, 608727, 324495, 488531, 754358, 574495, 482077, 360994, 573483, 476631, 516350, 478681, 418422, 581941, 476550, 525502, 463781, 441177, 804363, 591313, 372590, 1380586, 326818, 387100, 466986, 246268, 334854, 425131, 380086, 416222, 401182, 368413, 779818, 488313, 327217, 380534, 403359, 916560, 445681, 507954, 654740, 458740, 880777, 481454, 500672, 350864, 239736, 651750, 272631, 344065, 444081, 335240, 346604, 423540, 299222, 592881, 399546, 228779, 351645, 673545, 221389, 570954, 380418, 476263, 423540, 326531, 424836, 285540, 315754, 384222, 350068, 1303271, 406631, 534495, 737681, 534768, 512318, 481872, 402445, 298536, 549595, 533722, 626929, 550500, 791145, 2211090, 356809, 451940, 465000, 628181, 378768, 652156, 358681, 281545, 500768, 307168, 270018, 235875, 480123, 361031, 359454, 484404, 351409, 446988, 318403, 325086, 453609, 295181, 575808, 535495, 488581, 637508, 508326, 404040, 290318, 414792, 733329, 408768, 459231, 464900, 330227, 202291, 448545, 1096727, 485086, 408859, 796717, 302221, 704363, 1014931, 653760, 662241, 1209635, 552546, 485859, 309622, 395742, 356189, 364200, 480772, 732359, 484486, 273136, 293853, 780136, 331267, 711931, 748217, 531836, 629941, 519409, 299877, 482000, 963854, 571735, 333518, 1013463, 673904, 475636, 1041272, 762118, 418781, 564818, 866162, 312803, 362975, 215793, 491631, 366490, 484968, 432739, 364768, 503863, 465722, 636997, 366354, 440363, 994727, 538213, 404727, 296300, 463086, 444954, 491495, 466647, 468181, 379309, 1441859, 479000, 657627, 475495, 526904, 559545, 955819, 499531, 702953, 430163, 609495, 386419, 317277, 458113, 356063, 459868, 453327, 548404, 261626, 452636, 335663, 484672, 271563, 701854, 643150, 271963, 408222, 578965, 602818, 543359, 310072, 284536, 367381, 1285863, 675535, 588313, 450500, 586709, 683072, 595859, 825399, 348103, 332699, 258406, 956422, 251540, 295527, 267452, 607976, 836136, 621513, 369900, 711222, 264236, 384800, 681444, 441850, 392568, 267554, 723818, 319427, 379136, 224700, 612338, 544540, 394165, 425272, 489023, 524611, 692940, 412808, 441268, 563042, 330130, 479772, 795954, 415727, 727727, 255262, 394367, 296468, 748718, 960945, 542108, 452809, 416908, 504895, 306409, 320150, 337613, 512954, 1644401, 365586, 940772, 241363, 530459, 266263, 463119, 393740, 601818, 468586, 533963, 840695, 793500, 802545, 311936, 315987, 327944, 486181, 345409, 571950, 580522, 513036, 538895, 525859, 384727, 965995, 283481, 922418, 493971, 489536, 563090, 341695, 514636, 830909, 330767, 513136, 626115, 1540409, 557977, 286427, 511368, 1285863, 589588, 653359, 611440, 341568, 526090, 300286, 494272, 895626, 1057681, 471077, 476372, 296936, 521416, 320268, 567036, 732713, 767272, 453000, 1310636, 316013, 402318, 382890, 528118, 507515, 273535, 460222, 427288, 408404, 477590, 800321, 443863, 413272, 385727, 367695, 447454, 502954, 651990, 315181, 846318, 316072, 608177, 405986, 198343, 354572, 640000, 462009, 383772, 997363, 538590, 390772, 294194, 907590, 647051, 373904, 331304, 749268, 451945, 1120120, 342345, 345990, 620870, 544904, 606263, 1234717, 628917, 355199, 991815, 533095, 912644, 441435, 1092706, 550752, 524818, 628627, 588594, 679040, 500172, 466172, 705118, 885244, 336242, 402304, 864363, 685456, 513170, 665056, 767961, 312436, 1700177, 501309, 472477, 840953, 588863, 488318, 1400454, 327295, 421645, 469202, 841158, 330113, 378700, 993517, 742386, 610585, 555431, 354993, 985844, 381023, 404950, 540554, 803540, 672212, 302718, 622280, 1405906, 794494, 431358, 533076, 440354, 2021863, 547327, 328481, 545900, 442449, 472790, 903177, 449809, 417909, 1128908, 858362, 430509, 495627, 591598, 476641, 474081, 490858, 754443, 440323, 349122, 440772, 596490, 309490, 585471, 526369, 377031, 447986, 1030545, 609813, 317550, 385581, 1271393, 672212, 433577, 615872, 872786, 504949, 363718, 730154, 664358, 780813, 803459, 717376, 311077, 436613, 374995, 421690, 502764, 489581, 294327, 323136, 381317, 587879, 444718, 613534, 410554, 609177, 539759, 539287, 1321863, 1025527, 327345, 1205170, 422545, 322750, 480536]\n",
      "[475558, 407185, 512487, 431150, 379487, 875754, 303554, 484424, 450641, 303865, 506434, 477579, 359487, 442141, 1132212, 433408, 580287, 384258, 412068, 430454, 519995, 437070, 819104, 645116, 307466, 570541, 900342, 476479, 1102434, 539291, 1242610, 1352796, 530164, 342742, 375024, 425495, 360725, 970091, 389283, 315104, 866318, 540458, 311166, 363633, 400729, 518316, 446391, 587333, 356295, 630000, 352708, 292620, 332470, 684149, 507667, 459776, 569715, 321025, 553079, 713000, 296241, 543045, 958416, 450037, 598908, 317783, 274904, 254991, 552216, 479104, 897541, 261158, 719166, 441212, 225458, 299681, 522241, 426416, 737602, 453162, 377475, 670829, 490908, 313310, 359463, 312358, 529932, 698441, 307787, 490616, 558937, 807916, 316361, 258833, 490583, 411380, 304075, 394425, 344103, 504587, 256620, 375612, 668283, 511041, 532291, 502095, 300854, 391654, 532079, 769208, 822283, 393849, 506083, 737416, 424454, 347933, 762083, 541499, 1643037, 480756, 1642142, 551687, 531752, 750083, 383504, 587104, 418791, 430183, 243454, 421562, 343187, 319228, 668916, 412579, 260493, 522712, 327483, 611903, 719750, 457166, 979916, 300611, 443591, 565758, 600797, 464987, 662000, 440651, 726375, 355112, 439062, 268820, 426099, 564250, 581500, 312166, 281891, 663206, 379579, 755646, 1319171, 445801, 383283, 271758, 320941, 681854, 441508, 517208, 400187, 389025, 407037, 850073, 307166, 331250, 482249, 510812, 498325, 614143, 395138, 421541, 441800, 376813, 449708, 674982, 419383, 864125, 535541, 650399, 582325, 445533, 391658, 799650, 530995, 438686, 350604, 678958, 376908, 562549, 308641, 396091, 482662, 857250, 806500, 417050, 318208, 1429588, 633900, 396308, 411850, 554924, 330913, 755612, 384920, 342245, 384250, 518632, 629033, 325355, 477954, 312708, 484675, 335666, 314949, 340143, 865291, 291416, 585577, 948708, 257700, 534029, 469046, 405041, 374854, 727324, 510416, 415002, 609608, 570125, 1294125, 481876, 474916, 582256, 542170, 505535, 249708, 265743, 416191, 471925, 1367874, 431500, 389179, 1234625, 437462, 394325, 477954, 660041, 407379, 378722, 433583, 356366, 333054, 529932, 291607, 1523416, 762208, 552507, 336208, 540283, 600033, 567021, 357210, 381220, 295570, 440547, 407658, 326794, 406437, 419904, 713236, 449131, 381280, 670291, 807204, 690454, 313070, 1131375, 244500, 382687, 326374, 526246, 1504412, 432287, 645670, 275147, 372600, 368750, 1569725, 565175, 415575, 392750, 1103500, 492712, 453845, 548408, 405216, 598033, 649187, 707158, 379535, 331266, 1803875, 405391, 261916, 390270, 219704, 386725, 285954, 459541, 475625, 600050, 299362, 564775, 577741, 378181, 924009, 761000, 261166, 1307083, 514692, 709645, 445087, 461854, 591783, 408333, 452104, 556715, 313020, 285925, 323170, 571370, 820104, 263666, 560800, 800958, 404954, 642765, 844875, 400063, 725550, 415833, 391631, 453290, 537454, 451570, 324662, 952166, 331682, 434991, 324103, 445150, 302908, 336745, 348112, 600483, 333266, 384383, 530187, 449454, 270529, 277187, 287611, 308638, 420508, 564287, 1150200, 318470, 222150, 373975, 496466, 1123936, 370770, 568833, 482375, 303166, 693542, 439495, 644750, 764279, 551291, 1656416, 1363958, 268243, 616727, 381350, 465479, 314658, 790545, 353350, 532008, 309708, 1952654, 275666, 2188108, 271620, 441542, 601787, 473004, 746550, 715214, 612870, 345129, 363981, 446291, 389534, 623280, 286039, 836833, 332847, 830583, 738162, 403179, 278708, 478541, 579912, 343870, 319437, 424279, 565766, 545802, 434083, 450625, 299591, 658097, 385102, 1175116, 877973, 368100, 597970, 781635, 1351443, 293391, 496675, 251829, 329243, 459898, 377366, 709895, 428578, 489570, 560162, 600100, 445583, 447416, 651520, 318858, 385454, 327881, 504833, 393754, 439858, 395583, 327433, 677118, 431494, 528633, 549412, 648375, 640661, 540844, 670000, 388107, 415198, 446954, 296783, 390253, 526504, 589445, 390105, 834854, 429151, 474195, 611968, 593424, 380995, 426204, 423320, 909437, 444208, 698077, 356991, 433000, 853708, 694500, 899211, 787458, 531416, 292479, 349150, 430068, 265354, 509702, 698216, 740995, 317597, 543791, 880332, 511502, 489575, 545695, 944949, 451954, 572454, 274295, 375782, 589870, 665208, 314658, 270300, 309215, 579991, 332102, 434232, 1068546, 267333, 427475, 654329, 349355, 357500, 784500, 2188108, 564829, 245569, 542208, 856208, 539083, 692916, 1578708, 566813, 289703, 312316, 516062, 298520, 504458, 451050, 464029, 361991, 487107, 459592, 437686, 634945, 458195, 531080, 433241, 354624, 711195, 207778, 553871, 391784, 370796, 241633, 467883, 452556, 906689, 316966, 473441, 465383, 390808, 660125, 438250, 545066, 394566, 457120, 350279, 459125, 381608, 626079, 855916, 310281, 516033, 485763, 318533, 587958, 407383, 411583, 354762, 642135, 560625, 778033, 867608, 362421, 778375, 811016, 362814, 577333, 383208, 352995, 295183, 410208, 340908, 856041, 651376, 295568, 574333, 338041, 333562, 440458, 1456329, 292620, 513662, 286779, 411258, 767731, 267654, 634570, 365949, 345249, 400325, 533954, 295239, 358825, 804037, 768671, 701836, 501750, 335716, 454250, 428464, 436227, 587700, 780825, 380807, 483084, 287137, 274833, 1124675, 323745, 463090, 360745, 423691, 451479, 646500, 549916, 439370, 345633, 623340, 602916, 856248, 383183, 446650, 281737, 866366, 296950, 484298, 908958, 432729, 520250, 512491, 338083, 369106, 978750, 365770, 418241, 315900, 454833, 576583, 331422, 477529, 505191, 343750, 529716, 510308, 301470, 859140, 296675, 484537, 463258, 379908, 234139, 461200, 708735, 541877, 289375, 614362, 509550, 368708, 439100, 387063, 217153, 341908, 375297, 611632, 355667, 431260, 364795, 635000, 1000633, 460915, 1168541, 543300, 539579, 228648, 561487, 378458, 398629, 406645, 1278665, 805079, 542007, 444004, 395204, 541123, 380162, 394355, 447257, 425708, 461421, 1377995, 616788, 592245, 429939, 688375, 356133, 874108, 342491, 306685, 388900, 367779, 554148, 678208, 907460, 508500, 565048, 350987, 363041, 657858, 334416, 493862, 435184, 404916, 1113125, 351041, 494541, 334583, 532287, 519208, 481458, 275495, 556454, 297820, 508375, 543583, 428320, 334281, 439458, 336725, 281829, 447257, 559079, 426666, 491969, 297691, 361308, 277370, 363779, 510987, 530984, 757458, 861069, 345650, 363175, 348310, 948708, 674679, 996370, 390533, 716250, 361075, 329833, 516424, 234945, 673796, 381200, 559727, 530070, 246758, 485820, 342287, 397875, 329228, 346187, 217666, 443583, 233825, 581747, 424679, 469297, 394735, 359533, 700362, 754429, 387704, 568166, 591579, 257154, 840765, 419474, 314524, 481995, 580370, 431708, 197414, 491037, 337084, 655033, 329458, 419800, 543458, 469767, 719774, 1032348, 501329, 408883, 309574, 315449, 560632, 298054, 512775, 246974, 615093, 511167, 386166, 540137, 1803875, 509162, 381787, 356258, 372416, 279620, 266564, 375619, 538545, 388000, 450958, 443662, 904466, 666158, 435078, 884595, 511820, 333162, 1214691, 430166, 229585, 1721916, 506292, 401216, 347425, 244333, 535041, 341304, 412779, 584527, 373087, 882333, 376854, 450375, 677094, 356950, 797187, 521875, 692666, 289074, 434287, 642420, 1031966, 355625, 265533, 502454, 518382, 487750, 283437, 919333, 832920, 446833, 328888, 358704, 447783, 396716, 601650, 735083, 701579, 673510, 262200, 623910, 589329, 482287, 437016, 481729, 290154, 536166, 235002, 401635, 336313, 402204, 738333, 307778, 413125, 501825, 403720, 511057, 589280, 422333, 408916, 321289, 501798, 328525, 473525, 487441, 503904, 836187, 448000, 453341, 434391, 1388005, 311595, 424083, 2497275, 549250, 316144, 661625, 480756, 588000, 321204, 477487, 719170, 609787, 481470, 353286, 611967, 492745, 539695, 461708, 409645, 577196, 485379, 515040, 472549, 435412, 779083, 591954, 365291, 1398870, 312083, 396508, 460404, 235912, 339575, 452204, 390079, 420454, 404167, 369795, 774833, 520537, 321615, 364657, 415745, 914117, 431458, 510125, 636665, 460512, 916295, 495666, 485283, 371209, 246841, 664270, 285933, 350643, 447491, 335345, 349804, 431579, 311370, 589720, 389579, 234630, 344008, 665000, 221687, 585416, 383300, 466158, 444079, 322487, 417183, 307579, 320275, 377195, 350929, 1246749, 418495, 517454, 729120, 544370, 505458, 493800, 393074, 316783, 554212, 515287, 615685, 547541, 792300, 2276833, 350825, 474195, 458334, 630000, 416579, 646931, 367625, 271195, 507370, 321154, 267933, 236219, 477821, 350529, 350250, 500287, 340458, 441406, 334370, 342343, 451850, 301412, 550324, 529412, 474741, 643715, 520965, 387870, 307791, 412309, 721339, 413129, 465879, 455491, 335833, 212850, 434416, 1099083, 464662, 398954, 785319, 315786, 711375, 1047020, 673655, 638304, 1160915, 559417, 489537, 302987, 405222, 356257, 358433, 475083, 716895, 478695, 281541, 291449, 788458, 327161, 720104, 752115, 542933, 673280, 525708, 301054, 483084, 1009950, 595340, 354308, 971508, 686495, 458833, 1064916, 749025, 412841, 549416, 875649, 314486, 350852, 232893, 483079, 377616, 475304, 420006, 364870, 505625, 472245, 626872, 382575, 430750, 981833, 533779, 403500, 289608, 475745, 455791, 492620, 474610, 451416, 391450, 1398370, 460750, 664908, 483787, 513079, 542875, 935542, 521029, 687572, 421566, 621204, 389634, 308337, 457854, 355391, 466129, 491383, 582245, 261903, 437833, 340191, 497200, 289054, 707116, 622883, 284716, 410870, 571135, 608833, 525562, 316150, 279983, 357241, 1244541, 656740, 594704, 447541, 593650, 683650, 581120, 833278, 345344, 339974, 268122, 968804, 256825, 317566, 272247, 597728, 823958, 630970, 386991, 691537, 258883, 388254, 692574, 432945, 385354, 279008, 687916, 314475, 367083, 220141, 638393, 543329, 390484, 429416, 496354, 545893, 696654, 398407, 434495, 564038, 328870, 481125, 794625, 408166, 762500, 253990, 395837, 308345, 743825, 957533, 544849, 443575, 432582, 512987, 298041, 314637, 324895, 496875, 1719534, 354704, 935291, 239583, 505420, 269491, 449109, 394345, 602250, 483870, 512383, 820637, 787791, 811083, 324366, 316738, 335782, 493166, 338291, 557616, 593395, 553450, 550654, 529870, 390166, 950495, 278432, 930133, 482140, 478325, 562833, 336137, 523833, 811083, 331995, 517875, 611106, 1578708, 569395, 281641, 492712, 1244541, 580873, 710370, 615820, 333437, 517833, 296095, 495791, 924324, 1089958, 477862, 482091, 291941, 530048, 327329, 536866, 752070, 790416, 432041, 1253500, 312754, 389625, 399316, 500775, 489389, 273824, 441870, 427456, 409620, 457791, 801545, 438541, 407333, 373833, 381720, 430166, 527708, 643487, 313500, 840958, 321650, 605412, 392904, 198898, 352108, 648333, 450758, 386375, 969666, 546416, 417958, 302928, 880708, 638955, 376579, 338695, 780995, 466116, 1111777, 337150, 349658, 618881, 555829, 597324, 1189157, 614003, 349880, 983101, 542003, 889507, 447148, 1068310, 569273, 533583, 608075, 598294, 669954, 498491, 456487, 690942, 841432, 346647, 395862, 852375, 699167, 498906, 654218, 761881, 313275, 1733079, 497029, 482979, 881211, 563958, 508038, 1361666, 324937, 419425, 489894, 842728, 327937, 386058, 987390, 797187, 625120, 545395, 338910, 961607, 382855, 398120, 524841, 793662, 670861, 326241, 614590, 1349580, 794870, 425828, 539070, 439991, 1953375, 532341, 322775, 536658, 430995, 490058, 900145, 438991, 417625, 1086832, 874332, 415466, 495575, 603548, 503463, 479991, 518703, 758156, 424462, 350861, 458208, 612200, 301699, 590015, 532505, 373353, 460650, 1016749, 629995, 308170, 395945, 1280277, 670861, 426112, 627675, 857970, 500366, 359533, 770141, 635662, 765741, 788170, 701345, 318570, 444395, 379162, 417883, 521284, 477200, 294383, 319370, 374540, 588639, 432700, 609365, 403591, 586908, 554362, 580620, 1285625, 1001733, 332312, 1193073, 413833, 326687, 481320]\n",
      "[477853, 400632, 519026, 434138, 376834, 831388, 312357, 489853, 455592, 317029, 495747, 490842, 360796, 458900, 1229734, 426223, 579188, 369700, 417678, 417342, 527303, 443757, 803019, 640030, 307661, 567423, 859931, 465979, 1076478, 540115, 1249332, 1298735, 520151, 333454, 363865, 417380, 358361, 940084, 381642, 325865, 824293, 536576, 312538, 362200, 394865, 519215, 438207, 590615, 357734, 655384, 349807, 284803, 341742, 650368, 503424, 460178, 570122, 320369, 544303, 708846, 305453, 549349, 938000, 438496, 582684, 316415, 278757, 259607, 536276, 552933, 945807, 256069, 748461, 449964, 225807, 305282, 506530, 443615, 740478, 468688, 377476, 644034, 497992, 324055, 362577, 324023, 527245, 686253, 301876, 493261, 546708, 898076, 311714, 257496, 521692, 415889, 295300, 394853, 335710, 496465, 267225, 369026, 688030, 516884, 519692, 495549, 296726, 375834, 534919, 750807, 811953, 393784, 530615, 730692, 416873, 355553, 776538, 538306, 1676265, 459929, 1601592, 546557, 531617, 800846, 376311, 603480, 436192, 413669, 252842, 405519, 341788, 329056, 682846, 438303, 267225, 510042, 322791, 597141, 722076, 450846, 967423, 299610, 457546, 565700, 606505, 455757, 629153, 444062, 714730, 363584, 430288, 275603, 419283, 558038, 604846, 321615, 302515, 648728, 373188, 730596, 1244620, 434586, 381492, 283930, 317792, 711327, 437930, 512538, 401326, 372946, 416688, 844298, 311230, 328461, 470537, 521903, 484676, 596901, 393966, 408338, 428200, 363596, 434346, 680830, 414815, 868038, 530500, 662522, 580300, 450853, 386953, 790446, 536380, 425864, 354250, 667500, 367973, 564660, 326438, 404084, 488611, 855538, 788692, 442430, 323923, 1415389, 638984, 399400, 402476, 538249, 330842, 750411, 378773, 339457, 386231, 506422, 637184, 348405, 479265, 310650, 478161, 327500, 323030, 335825, 836423, 284383, 554829, 950346, 257107, 520061, 475965, 411653, 372173, 822546, 510384, 416317, 634253, 568961, 1253423, 473270, 494538, 565736, 545464, 497570, 258192, 265301, 416100, 459815, 1335730, 439461, 405392, 1181961, 428965, 386531, 491188, 639576, 401811, 372282, 442846, 347800, 332242, 527245, 311483, 1478153, 750115, 561468, 327730, 542184, 576184, 554558, 373733, 371188, 292450, 446851, 416800, 324348, 404134, 429526, 712218, 435736, 368874, 659500, 820496, 702726, 315911, 1086653, 239538, 382096, 329268, 524996, 1449458, 439419, 645496, 283682, 366061, 367461, 1586284, 571315, 426059, 378038, 1089769, 482076, 486165, 531223, 462507, 572492, 666480, 708607, 373032, 346553, 1713500, 405207, 262692, 390634, 211650, 381746, 282796, 450692, 461500, 584657, 298411, 578830, 585223, 369475, 914469, 763307, 258461, 1294153, 531523, 739288, 445273, 454019, 608569, 405383, 440246, 564967, 330480, 276238, 330234, 585111, 787346, 260461, 572815, 800884, 389198, 631783, 826423, 410059, 737426, 422192, 397275, 439345, 541273, 448856, 313534, 943846, 328976, 428069, 308557, 433984, 311146, 341996, 344631, 608907, 336476, 389430, 518250, 455650, 267796, 282788, 281333, 328743, 424700, 540880, 1208261, 312819, 223138, 375400, 499853, 1117326, 366480, 585076, 470646, 305915, 694423, 424919, 635000, 764334, 548115, 1639461, 1382884, 261071, 615440, 382015, 455442, 314300, 784734, 351900, 522200, 301726, 1885911, 273476, 2265946, 266726, 433731, 622419, 469888, 725661, 722505, 591880, 352426, 362905, 448500, 377646, 636873, 304805, 847538, 338243, 810615, 747919, 392165, 276115, 503961, 564534, 344530, 319865, 421873, 542630, 533817, 425692, 445961, 293084, 636321, 383786, 1148184, 881591, 366323, 593203, 758816, 1321563, 304669, 488315, 247150, 316378, 446825, 383800, 692211, 418611, 474911, 553380, 609323, 432008, 468769, 657557, 314292, 378234, 323736, 506192, 394231, 439345, 394384, 323707, 686186, 425995, 519892, 549073, 622265, 620225, 524625, 680000, 391791, 411529, 432919, 300069, 391926, 515619, 619642, 394327, 881596, 417293, 474242, 615278, 584968, 368611, 420642, 417065, 885428, 456961, 684032, 361453, 416615, 862653, 710000, 890426, 828807, 520461, 307134, 335753, 427524, 260942, 494725, 709891, 736919, 332266, 521576, 859537, 497541, 476984, 534988, 969183, 458342, 580342, 267273, 369937, 593342, 641192, 304292, 268353, 316122, 597530, 332171, 429906, 1047885, 257153, 428715, 645919, 368713, 370385, 790307, 2265946, 551534, 242064, 545115, 844115, 541461, 689538, 1495730, 576289, 287341, 308292, 537019, 291711, 499115, 451200, 466719, 350761, 482960, 452084, 432864, 616026, 457565, 515997, 415684, 348384, 718796, 213102, 573350, 387839, 364120, 236892, 460354, 453667, 899251, 309503, 457792, 472661, 381361, 659269, 426269, 555369, 407369, 449180, 352296, 477653, 403600, 620607, 856576, 308721, 502876, 492627, 326261, 565423, 411815, 410692, 357088, 650163, 548269, 784723, 849715, 352388, 776153, 838168, 354136, 572769, 375911, 357376, 290261, 409423, 340069, 858653, 637039, 294678, 574384, 332088, 343250, 455438, 1481992, 286419, 534919, 292042, 418080, 772194, 281680, 627296, 389722, 339269, 400684, 533265, 297528, 375215, 795765, 764927, 714768, 496476, 323946, 451230, 432044, 438440, 584761, 747531, 380976, 475539, 286203, 290538, 1101623, 327111, 478930, 349915, 423676, 480788, 654846, 559153, 430380, 352888, 630775, 588076, 843844, 366923, 475753, 295065, 856646, 302569, 469352, 892807, 484057, 526384, 506069, 327153, 381675, 945770, 361326, 410492, 320369, 473692, 573769, 322851, 463411, 499600, 350196, 528815, 494900, 297126, 893591, 302115, 473034, 458392, 378453, 232128, 457400, 800447, 532502, 285230, 594950, 518276, 378803, 428861, 390611, 216214, 351223, 365236, 622853, 362539, 419621, 367580, 618076, 1011276, 487768, 1181730, 527623, 542303, 228367, 580604, 367807, 406042, 393019, 1253383, 807226, 544545, 434619, 409419, 556614, 384784, 401713, 440776, 448115, 450542, 1371996, 603381, 578365, 426866, 686192, 348969, 878023, 350761, 300786, 387369, 358719, 534598, 661423, 938501, 489615, 577352, 358526, 356076, 634023, 328692, 488180, 423247, 416846, 1265961, 389423, 481115, 338461, 549034, 535038, 480269, 270150, 542034, 309911, 491569, 539077, 426138, 330105, 456807, 336969, 285842, 462084, 562303, 434230, 477118, 299407, 346976, 277569, 352642, 499373, 530523, 723807, 928295, 347676, 355623, 339902, 979961, 652011, 952795, 405338, 706538, 367530, 317307, 515930, 239950, 669658, 382253, 556286, 530526, 256623, 491796, 338650, 396500, 322441, 342557, 225923, 449769, 239300, 575894, 432203, 466275, 415370, 351876, 711103, 763511, 374803, 565615, 583380, 262526, 841860, 406437, 317637, 488765, 573419, 419150, 198767, 476334, 342308, 632338, 321038, 406354, 543038, 452862, 722176, 1019475, 513534, 407430, 304683, 306645, 561353, 292811, 499484, 248360, 587778, 491000, 376000, 540896, 1713500, 492996, 372180, 355776, 374346, 283188, 261290, 372726, 527880, 380461, 441269, 461073, 868123, 646453, 438149, 891550, 518219, 320996, 1195869, 418115, 228078, 1713500, 501385, 397084, 347238, 241692, 522730, 342203, 397565, 573244, 382748, 884846, 365173, 467653, 673260, 357761, 780480, 531726, 669996, 297992, 425419, 636850, 1012584, 353653, 258569, 490111, 506968, 473692, 277788, 916230, 831542, 439538, 323935, 353803, 452476, 408119, 580746, 717000, 680688, 648240, 258954, 616686, 591073, 491957, 435323, 480826, 296296, 516192, 232055, 401894, 332674, 411496, 785107, 311026, 435192, 484354, 395657, 500206, 587296, 422538, 426769, 319651, 495506, 332476, 466561, 473484, 540911, 802192, 462846, 448699, 441746, 1378158, 314473, 409354, 2365946, 527000, 309287, 749403, 486541, 614307, 311919, 467719, 721541, 630957, 474242, 341912, 616816, 498803, 547411, 454769, 407096, 587450, 475350, 513806, 472738, 449611, 740765, 573342, 371807, 1376650, 322738, 385238, 457680, 245580, 332223, 453342, 390842, 430803, 413462, 367119, 747692, 510111, 319568, 381068, 399380, 915555, 462115, 516846, 657076, 458173, 889042, 495461, 475876, 373808, 249315, 661250, 290084, 348632, 448069, 332550, 343473, 449919, 303111, 588742, 397304, 238605, 336007, 656923, 216942, 578461, 384430, 480300, 449919, 328065, 410092, 311150, 308330, 372796, 366242, 1230691, 434188, 533419, 761111, 545261, 519576, 489584, 383223, 318184, 576965, 514112, 632363, 524538, 767276, 2177730, 343065, 474242, 450770, 620000, 409150, 631013, 374461, 264180, 508380, 319369, 274400, 234817, 471827, 343411, 340538, 489957, 370653, 441682, 331641, 346970, 460938, 294957, 551452, 538688, 453530, 628199, 525122, 394711, 306807, 412439, 727851, 422196, 450580, 435838, 338076, 218400, 439461, 1145230, 459842, 402111, 749756, 305549, 699730, 1077442, 673989, 616280, 1131614, 560616, 505342, 310257, 420205, 354237, 352015, 452307, 726365, 487257, 281038, 292022, 783076, 336380, 725865, 756414, 529630, 648412, 537192, 299069, 475539, 1008030, 586468, 360900, 968234, 671534, 459461, 1057076, 837561, 407892, 551384, 876310, 315679, 342710, 231748, 501380, 361492, 471357, 412890, 364496, 488534, 460765, 631728, 376507, 437807, 967615, 519023, 422769, 294253, 483111, 456653, 494726, 479563, 448153, 384877, 1338880, 444846, 649527, 471188, 516303, 524961, 905885, 515565, 673067, 420292, 639880, 396201, 320773, 459326, 347738, 453349, 496776, 580534, 261526, 422046, 329792, 503338, 289896, 675800, 628430, 278969, 425650, 601201, 592923, 545056, 310523, 290330, 354953, 1275730, 633529, 581957, 443961, 585669, 664292, 574761, 817180, 354249, 336630, 261651, 979665, 256684, 312676, 267921, 608595, 823500, 632434, 385838, 697188, 261276, 397619, 704683, 444103, 373557, 265238, 708076, 324900, 361153, 222053, 645286, 532300, 379139, 421384, 478558, 546411, 668450, 408145, 423534, 586804, 327033, 472576, 789269, 403573, 755000, 247914, 414542, 326934, 732373, 964646, 529091, 443376, 435845, 502603, 308192, 312665, 332788, 498653, 1716493, 353564, 931423, 228576, 507234, 266453, 436101, 379011, 598616, 479880, 506811, 831511, 776807, 828307, 316261, 317373, 335952, 510615, 331230, 571569, 605814, 572338, 530911, 529342, 390538, 950380, 271707, 958584, 484437, 471146, 542226, 331050, 507769, 797538, 352226, 497115, 604482, 1495730, 577903, 289207, 502119, 1275730, 588575, 688419, 611526, 331250, 521076, 295050, 501115, 899376, 1059576, 527642, 487698, 288330, 533891, 336765, 563261, 734603, 811538, 434961, 1205461, 305234, 381961, 393591, 477253, 478282, 273141, 462957, 448959, 413573, 461034, 806426, 427388, 404615, 366307, 380819, 425076, 511153, 654373, 306307, 845884, 327907, 609996, 385757, 210906, 353676, 632230, 441469, 378500, 949692, 551769, 419653, 302626, 843269, 674805, 381073, 344488, 768803, 469853, 1064332, 342177, 354646, 621475, 545073, 575991, 1185899, 607630, 347966, 999786, 548388, 883391, 456214, 1046893, 560098, 529730, 598607, 617502, 667265, 512838, 460834, 670023, 807164, 352674, 398103, 852115, 703077, 489752, 664278, 762890, 302638, 1710227, 502565, 471980, 900349, 542380, 499727, 1313461, 323403, 415623, 504902, 827133, 324942, 390207, 970052, 764096, 635880, 541130, 332455, 953214, 375635, 401111, 541006, 798764, 663872, 327300, 592698, 1372689, 792572, 445764, 543641, 439607, 2043115, 533699, 331638, 547030, 445957, 478514, 884365, 433300, 414723, 1073999, 865691, 417642, 482065, 598660, 505043, 471142, 530341, 740606, 421024, 348679, 450461, 633565, 303876, 597321, 542773, 369633, 457907, 995461, 621919, 311003, 393103, 1243717, 684795, 426873, 637661, 877357, 512641, 355953, 766630, 623303, 749223, 755234, 700087, 313750, 432365, 373457, 419584, 507489, 506261, 302584, 316265, 367653, 569513, 427107, 626456, 411738, 583669, 567642, 577496, 1310576, 956600, 350019, 1150144, 408461, 319234, 484603]\n",
      "[467757, 413444, 521953, 424914, 372060, 824225, 305046, 498742, 446328, 311098, 497337, 523960, 353453, 459692, 1245110, 411850, 591389, 369935, 415701, 423246, 527496, 448703, 813517, 653242, 304614, 570107, 842436, 479124, 1068944, 530964, 1274380, 1251182, 519212, 341422, 369803, 429353, 358300, 908721, 369739, 325946, 806772, 522535, 310897, 366650, 386303, 523021, 432978, 595035, 359682, 647500, 350107, 281239, 335189, 628913, 503179, 464272, 572256, 316557, 539710, 695714, 298028, 546681, 926857, 435889, 586671, 322457, 296132, 254207, 536400, 627724, 937535, 251778, 823214, 456038, 224317, 307405, 540707, 447642, 750962, 465139, 389300, 638853, 500278, 324801, 377529, 319950, 560327, 684374, 299957, 509814, 541228, 889285, 310874, 262889, 503603, 406540, 298135, 386114, 345302, 486146, 265205, 361239, 672457, 504250, 499357, 480295, 297571, 366846, 518496, 768535, 786810, 393157, 506928, 753500, 417453, 361228, 771000, 520785, 1722817, 466788, 1576478, 568232, 551502, 807571, 369646, 642517, 431821, 403192, 252782, 417267, 356300, 328588, 661357, 432139, 263280, 496967, 321163, 598917, 739071, 437214, 944678, 299560, 473364, 572792, 594612, 450346, 617446, 438772, 700821, 356542, 422696, 271767, 412549, 552392, 591071, 309357, 301621, 644494, 378460, 730554, 1188572, 433401, 371750, 278507, 321664, 699232, 453078, 509214, 409803, 388471, 404710, 822563, 316178, 327142, 464820, 543553, 479700, 597123, 410540, 398100, 436900, 377982, 440535, 688985, 409471, 832464, 528678, 649556, 566742, 465078, 373413, 912557, 569496, 418588, 354303, 673000, 379189, 558613, 334050, 411614, 484421, 853357, 786642, 465114, 331500, 1353575, 639842, 412235, 389264, 523013, 342204, 764667, 375467, 332996, 396100, 504535, 621814, 349261, 468960, 304171, 473110, 327607, 332027, 326980, 876321, 286927, 533055, 988892, 253457, 527342, 474075, 415035, 386303, 820222, 498214, 417291, 624235, 570464, 1253178, 490894, 491000, 577112, 543324, 483458, 255107, 275351, 417242, 454397, 1309320, 441428, 407578, 1194321, 443682, 386064, 481460, 636392, 389896, 366262, 447571, 350457, 341939, 560327, 303092, 1452928, 731535, 549863, 326178, 533814, 606457, 551518, 388109, 396103, 296346, 460305, 413028, 316181, 430553, 422060, 683131, 441398, 361955, 654496, 820460, 715385, 319771, 1103678, 245928, 370267, 327106, 512139, 1520925, 425175, 665175, 278991, 366339, 359071, 1506193, 558007, 411340, 393892, 1075857, 483357, 494292, 530778, 464471, 565528, 644232, 727971, 379533, 346300, 1762535, 415050, 256035, 381946, 214032, 379477, 278310, 441357, 450321, 580253, 306739, 569628, 569564, 362083, 917007, 763857, 253142, 1269570, 530878, 731839, 433825, 462303, 596171, 399463, 480942, 552470, 324410, 289721, 324496, 601175, 811892, 257214, 569757, 785035, 389184, 612367, 828107, 399054, 722693, 415071, 391262, 435099, 522967, 454224, 312553, 936071, 333477, 440421, 306803, 419897, 303921, 354139, 348800, 615414, 326727, 382685, 504446, 454317, 275092, 280446, 277309, 341333, 420221, 525746, 1195171, 311117, 223628, 366442, 501292, 1093231, 371732, 564678, 462707, 319671, 699464, 426710, 690357, 736882, 550035, 1642357, 1421607, 262066, 620480, 372585, 453982, 313278, 822039, 344835, 525614, 296244, 1807060, 271792, 2425521, 276246, 432750, 596889, 483110, 699753, 733751, 594407, 342441, 361268, 452178, 369314, 640589, 301962, 855571, 340369, 794857, 756996, 393082, 275321, 485750, 571889, 347064, 312017, 412108, 564228, 529973, 449357, 450535, 285007, 625155, 378158, 1131885, 862906, 360157, 591903, 749258, 1341451, 315978, 482932, 243996, 311994, 466409, 374957, 697767, 437210, 490132, 606710, 595442, 436150, 488142, 638750, 316842, 404789, 333112, 488714, 398214, 429313, 381857, 339871, 703244, 423638, 505257, 555210, 626746, 649873, 555366, 682143, 389949, 419634, 434996, 301671, 384642, 503432, 614296, 390411, 847910, 412843, 466796, 623116, 563899, 408353, 437382, 412632, 894183, 453964, 684458, 368221, 416642, 844742, 715357, 921399, 851392, 524714, 303050, 326414, 448236, 272089, 493673, 710971, 715139, 337247, 501821, 853856, 503359, 492842, 531775, 988527, 445103, 578175, 263539, 361584, 580603, 633250, 298985, 264721, 311756, 602707, 331302, 440627, 1030107, 258428, 427827, 656210, 366662, 373211, 787771, 2139807, 539996, 247917, 534746, 835607, 545285, 668642, 1415314, 571244, 290031, 302300, 538660, 299875, 497393, 441471, 465882, 348203, 482213, 454578, 426941, 639882, 490667, 510061, 409671, 339214, 731382, 221095, 569423, 378707, 375254, 232284, 469610, 456798, 897519, 319896, 455450, 481042, 374835, 655032, 432428, 545342, 406842, 465518, 354275, 490578, 410485, 623242, 844321, 318598, 489321, 498868, 331028, 553821, 413828, 405428, 351510, 661580, 575178, 788671, 855092, 341932, 760178, 860371, 354551, 557571, 365453, 349992, 298457, 405178, 333350, 830535, 636893, 290022, 575500, 342296, 358017, 442335, 1420778, 280817, 518496, 285896, 422432, 756323, 275489, 616417, 393028, 351464, 395278, 515210, 291419, 366628, 781710, 792432, 689963, 488149, 334021, 458571, 424041, 422837, 568703, 759850, 375185, 484425, 295403, 285857, 1104850, 335441, 496077, 357064, 428057, 499125, 639214, 558142, 424996, 347325, 632859, 586357, 848712, 356428, 463342, 295060, 821707, 300957, 465827, 877964, 467196, 543071, 496707, 336285, 388769, 978215, 353375, 424742, 316557, 478642, 562428, 333362, 473525, 522842, 348397, 528042, 477400, 298332, 881084, 302464, 510532, 471007, 380064, 229691, 446514, 773415, 524109, 285571, 578882, 551257, 382960, 426085, 383603, 206663, 347492, 389148, 601221, 354357, 417862, 366467, 606785, 1004399, 474713, 1142678, 522075, 545353, 229877, 605203, 383321, 395253, 391875, 1229927, 792425, 550858, 426432, 403389, 561141, 374585, 404090, 455006, 439464, 462789, 1381139, 584925, 587410, 443090, 670392, 349757, 854950, 342850, 307802, 378592, 390239, 526305, 649892, 915751, 478214, 573970, 351489, 362428, 634693, 329821, 476346, 412944, 411285, 1398392, 378964, 492357, 335714, 581246, 527035, 481178, 268100, 547317, 303132, 487878, 540214, 420692, 322169, 441964, 331178, 279710, 468720, 562960, 427535, 470481, 298164, 355764, 304957, 339954, 499417, 540057, 726571, 887667, 343914, 364507, 329945, 1016392, 628153, 995453, 393171, 710357, 378778, 314535, 525149, 242811, 646822, 375285, 572266, 516203, 260078, 478025, 336957, 390321, 336695, 338732, 233357, 447285, 231350, 582973, 439133, 454398, 425701, 348375, 714953, 755046, 364246, 555928, 592960, 260917, 817442, 411692, 324949, 470496, 577460, 413710, 191641, 505882, 348397, 653242, 312392, 424971, 618535, 470515, 734878, 1013441, 509639, 401185, 300470, 302956, 555542, 289753, 482728, 262549, 574723, 490000, 377785, 535475, 1762535, 477817, 364167, 367507, 367142, 279739, 265983, 370317, 535888, 381857, 452603, 443853, 934685, 637735, 433156, 887867, 503917, 324853, 1172092, 406821, 250358, 1733964, 583429, 387507, 338150, 244357, 526107, 335610, 388810, 558584, 372322, 885785, 361160, 465392, 652313, 354671, 754017, 525889, 654103, 310921, 433246, 618210, 1068110, 351178, 260100, 510175, 517898, 454742, 287589, 897214, 819285, 434928, 320797, 371746, 443335, 404896, 569121, 699714, 666710, 635152, 260100, 617637, 582567, 471853, 434942, 489553, 289417, 507892, 238694, 402652, 328554, 397746, 757885, 318202, 432678, 472257, 406324, 491477, 581060, 421821, 420357, 336819, 489756, 337657, 467878, 470021, 525846, 774178, 464785, 451792, 431620, 1371790, 313082, 403685, 2339807, 529785, 313623, 813732, 466788, 602392, 312135, 470025, 713361, 627532, 467510, 347418, 609543, 522103, 557953, 455000, 400160, 587275, 463896, 531748, 470756, 468853, 717496, 585957, 368821, 1426532, 317971, 388935, 454485, 240539, 328850, 440532, 381175, 430746, 416072, 359825, 743928, 498175, 322099, 393134, 386210, 907297, 450535, 500642, 656213, 445803, 877760, 485071, 465457, 366393, 246221, 658660, 289364, 356944, 449992, 329439, 334650, 465996, 304103, 596332, 397139, 251919, 330828, 642107, 215732, 565000, 384471, 493135, 465996, 324560, 408157, 306139, 304878, 376525, 355975, 1198499, 459246, 518239, 732103, 529164, 520321, 506757, 380278, 321528, 671539, 510818, 613266, 533142, 774614, 2066821, 340703, 466796, 445357, 618928, 416353, 652798, 371607, 262095, 519746, 325128, 271314, 228545, 474911, 346460, 335428, 499246, 379892, 465848, 331095, 341115, 465157, 291135, 549520, 538817, 461492, 631899, 528684, 389375, 307392, 406194, 724076, 427750, 449110, 436135, 358607, 228157, 433071, 1156428, 489496, 389103, 722845, 295295, 669035, 1081267, 686561, 602896, 1138285, 554786, 518567, 310096, 410190, 350737, 348228, 450500, 720910, 478167, 274407, 290592, 768928, 337031, 723303, 751670, 525371, 662811, 536321, 300278, 484425, 1068171, 589577, 368407, 950503, 655532, 456428, 1037639, 878092, 423396, 558071, 879431, 319202, 335159, 237337, 512353, 357814, 465296, 411612, 368103, 492067, 481425, 610890, 393328, 446178, 983142, 529089, 439000, 295021, 506817, 454392, 473317, 466022, 448857, 380243, 1295532, 433250, 627339, 471746, 509067, 528892, 941179, 508693, 673562, 415842, 661960, 397722, 327646, 445339, 360757, 470967, 504860, 564282, 263345, 431185, 342664, 517770, 280617, 756296, 601757, 275471, 437746, 593401, 619142, 531823, 304414, 286371, 369600, 1406035, 650420, 572817, 434782, 570264, 657021, 562274, 875167, 363409, 323656, 258819, 1016832, 263135, 329342, 265851, 619041, 814607, 634225, 387921, 704175, 264400, 395789, 753992, 432525, 364017, 257150, 687007, 323585, 378428, 218335, 699908, 540350, 382415, 414000, 487589, 565239, 698417, 436920, 425207, 574604, 326170, 462746, 790928, 393317, 748571, 247274, 417931, 355010, 730060, 958242, 519799, 451707, 432785, 493132, 326142, 309617, 343946, 486960, 1761883, 341881, 901678, 225392, 511825, 275278, 442752, 378010, 612929, 476496, 505253, 815689, 783035, 833071, 316528, 329704, 338027, 494971, 339714, 571957, 613398, 574385, 529417, 537960, 385162, 912853, 284228, 931542, 498406, 458028, 547067, 356689, 484785, 783928, 366710, 484821, 579162, 1611750, 578767, 295335, 491142, 1211028, 565819, 693710, 602131, 328303, 519571, 293617, 487464, 886920, 1051178, 520453, 474434, 283271, 523613, 341814, 600707, 733917, 807142, 444964, 1139714, 301146, 372464, 408513, 473521, 476405, 268774, 477746, 450462, 416592, 471496, 807395, 438646, 404285, 368535, 372189, 426071, 500785, 650060, 302642, 835392, 323057, 626710, 398525, 209698, 345550, 607428, 459932, 373983, 942571, 539178, 404178, 312938, 828392, 651029, 379282, 346310, 751210, 463078, 1054380, 337307, 351707, 623508, 558638, 585921, 1155620, 627081, 352683, 1109658, 545788, 886005, 456984, 1021758, 539020, 528321, 585850, 636249, 667817, 514421, 469346, 648414, 818295, 365340, 393953, 865178, 714997, 474198, 674687, 757684, 296450, 1711639, 498453, 473267, 905324, 542291, 495639, 1279928, 328871, 422364, 507409, 857695, 318146, 394021, 959692, 743803, 654028, 553550, 328280, 934270, 373732, 395675, 543077, 801709, 659810, 322492, 580291, 1413569, 787031, 437138, 553738, 444635, 2218607, 532364, 334735, 546885, 429018, 480763, 857946, 434585, 428671, 1056213, 852999, 420310, 485489, 593756, 498611, 476417, 531028, 743420, 428201, 373023, 438285, 626167, 312170, 590513, 551968, 366802, 454342, 992213, 620853, 311289, 400739, 1267737, 677310, 433025, 643900, 874332, 503167, 360689, 755085, 635853, 714635, 760271, 701867, 307767, 433317, 391246, 419349, 508740, 497226, 300614, 333746, 362749, 554901, 416600, 647419, 418042, 567335, 552810, 586246, 1395535, 935414, 351089, 1122419, 411121, 317146, 487810]\n"
     ]
    }
   ],
   "source": [
    "for k in xrange(1,15):\n",
    "    print predict_output(k,features_train, output_train, features_valid)"
   ]
  },
  {
   "cell_type": "markdown",
   "metadata": {
    "collapsed": false
   },
   "source": [
    "To visualize the performance as a function of `k`, plot the RSS on the VALIDATION set for each considered `k` value:"
   ]
  },
  {
   "cell_type": "code",
   "execution_count": 52,
   "metadata": {
    "collapsed": false
   },
   "outputs": [
    {
     "ename": "NameError",
     "evalue": "name 'rss_all' is not defined",
     "output_type": "error",
     "traceback": [
      "\u001b[1;31m---------------------------------------------------------------------------\u001b[0m",
      "\u001b[1;31mNameError\u001b[0m                                 Traceback (most recent call last)",
      "\u001b[1;32m<ipython-input-52-45ecfdaf395b>\u001b[0m in \u001b[0;36m<module>\u001b[1;34m()\u001b[0m\n\u001b[0;32m      3\u001b[0m \u001b[1;33m\u001b[0m\u001b[0m\n\u001b[0;32m      4\u001b[0m \u001b[0mkvals\u001b[0m \u001b[1;33m=\u001b[0m \u001b[0mrange\u001b[0m\u001b[1;33m(\u001b[0m\u001b[1;36m1\u001b[0m\u001b[1;33m,\u001b[0m \u001b[1;36m16\u001b[0m\u001b[1;33m)\u001b[0m\u001b[1;33m\u001b[0m\u001b[0m\n\u001b[1;32m----> 5\u001b[1;33m \u001b[0mplt\u001b[0m\u001b[1;33m.\u001b[0m\u001b[0mplot\u001b[0m\u001b[1;33m(\u001b[0m\u001b[0mkvals\u001b[0m\u001b[1;33m,\u001b[0m \u001b[0mrss_all\u001b[0m\u001b[1;33m,\u001b[0m\u001b[1;34m'bo-'\u001b[0m\u001b[1;33m)\u001b[0m\u001b[1;33m\u001b[0m\u001b[0m\n\u001b[0m",
      "\u001b[1;31mNameError\u001b[0m: name 'rss_all' is not defined"
     ]
    }
   ],
   "source": [
    "import matplotlib.pyplot as plt\n",
    "%matplotlib inline\n",
    "\n",
    "kvals = range(1, 16)\n",
    "plt.plot(kvals, rss_all,'bo-')"
   ]
  },
  {
   "cell_type": "markdown",
   "metadata": {},
   "source": [
    "***QUIZ QUESTION ***\n",
    "\n",
    "What is the RSS on the TEST data using the value of k found above?  To be clear, sum over all houses in the TEST set."
   ]
  },
  {
   "cell_type": "code",
   "execution_count": null,
   "metadata": {
    "collapsed": false
   },
   "outputs": [],
   "source": []
  }
 ],
 "metadata": {
  "kernelspec": {
   "display_name": "Python 2",
   "language": "python",
   "name": "python2"
  },
  "language_info": {
   "codemirror_mode": {
    "name": "ipython",
    "version": 2
   },
   "file_extension": ".py",
   "mimetype": "text/x-python",
   "name": "python",
   "nbconvert_exporter": "python",
   "pygments_lexer": "ipython2",
   "version": "2.7.11"
  }
 },
 "nbformat": 4,
 "nbformat_minor": 0
}
