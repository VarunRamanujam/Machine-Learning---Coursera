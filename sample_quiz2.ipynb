{
 "cells": [
  {
   "cell_type": "code",
   "execution_count": 55,
   "metadata": {
    "collapsed": false
   },
   "outputs": [],
   "source": [
    "import graphlab"
   ]
  },
  {
   "cell_type": "code",
   "execution_count": 56,
   "metadata": {
    "collapsed": false
   },
   "outputs": [],
   "source": [
    "sales = graphlab.SFrame('kc_house_data.gl/')"
   ]
  },
  {
   "cell_type": "code",
   "execution_count": 57,
   "metadata": {
    "collapsed": true
   },
   "outputs": [],
   "source": [
    "train_data, test_data = sales.random_split(0.8, seed=0)"
   ]
  },
  {
   "cell_type": "code",
   "execution_count": 58,
   "metadata": {
    "collapsed": false
   },
   "outputs": [
    {
     "name": "stdout",
     "output_type": "stream",
     "text": [
      "average:539366.628221\n"
     ]
    }
   ],
   "source": [
    "prices = train_data['price']\n",
    "output = train_data['price']\n",
    "sum_prices = prices.sum()\n",
    "num_prices = prices.size()\n",
    "avg_price =  sum_prices/num_prices\n",
    "\n",
    "\n",
    "print \"average:\" + str(avg_price)"
   ]
  },
  {
   "cell_type": "code",
   "execution_count": 59,
   "metadata": {
    "collapsed": false
   },
   "outputs": [
    {
     "name": "stdout",
     "output_type": "stream",
     "text": [
      "average sqft:2080.02950989\n"
     ]
    }
   ],
   "source": [
    "sqft = train_data['sqft_living']\n",
    "input_feature = train_data['sqft_living']\n",
    "sum_sqft = sqft.sum()\n",
    "num_sqft = sqft.size()\n",
    "avg_sqft = sum_sqft/num_sqft\n",
    "print \"average sqft:\" + str(avg_sqft)\n",
    "\n"
   ]
  },
  {
   "cell_type": "code",
   "execution_count": 60,
   "metadata": {
    "collapsed": false
   },
   "outputs": [],
   "source": [
    "def simple_linear_regression(input_feature, output):\n",
    "    #mean of x*y\n",
    "    sump1 = input_feature*output\n",
    "    m1 = sump1.mean()\n",
    "    print m1\n",
    "\n",
    "    #mean of x and mean of y\n",
    "    x1 = input_feature.mean()\n",
    "    y1 = output.mean()\n",
    "    m2 = x1*y1\n",
    "    print m2\n",
    "\n",
    "    #mean of x square\n",
    "    x2 = input_feature*input_feature\n",
    "    m3 = x2.mean()\n",
    "    print m3\n",
    "    #mean of x * mean of x\n",
    "    m4 = x1*x1\n",
    "    print m4\n",
    "\n",
    "    \n",
    "    slope= (m1-m2)/(m3-m4)\n",
    "    print \"slope:\" +str(slope)\n",
    "\n",
    "    intercept = y1 - (slope*x1)\n",
    "    print \"Intercept:\" + str(intercept)\n",
    "                               \n",
    "    return(intercept, slope)\n"
   ]
  },
  {
   "cell_type": "code",
   "execution_count": 61,
   "metadata": {
    "collapsed": false
   },
   "outputs": [
    {
     "name": "stdout",
     "output_type": "stream",
     "text": [
      "1361381549.01\n",
      "1121898503.35\n",
      "5175877.39433\n",
      "4326522.76203\n",
      "slope:281.958838568\n",
      "Intercept:-47116.0765749\n"
     ]
    },
    {
     "data": {
      "text/plain": [
       "(-47116.07657493383, 281.9588385676942)"
      ]
     },
     "execution_count": 61,
     "metadata": {},
     "output_type": "execute_result"
    }
   ],
   "source": [
    "simple_linear_regression(input_feature, output)"
   ]
  },
  {
   "cell_type": "code",
   "execution_count": 62,
   "metadata": {
    "collapsed": false
   },
   "outputs": [
    {
     "name": "stdout",
     "output_type": "stream",
     "text": [
      "8.0\n",
      "6.0\n",
      "6.0\n",
      "4.0\n",
      "slope:1.0\n",
      "Intercept:1.0\n",
      "Intercept: 1.0\n",
      "Slope: 1.0\n"
     ]
    }
   ],
   "source": [
    "test_feature = graphlab.SArray(range(5))\n",
    "test_output = graphlab.SArray(1 + 1*test_feature)\n",
    "(test_intercept, test_slope) =  simple_linear_regression(test_feature, test_output)\n",
    "print \"Intercept: \" + str(test_intercept)\n",
    "print \"Slope: \" + str(test_slope)"
   ]
  },
  {
   "cell_type": "code",
   "execution_count": 63,
   "metadata": {
    "collapsed": false
   },
   "outputs": [
    {
     "name": "stdout",
     "output_type": "stream",
     "text": [
      "1361381549.01\n",
      "1121898503.35\n",
      "5175877.39433\n",
      "4326522.76203\n",
      "slope:281.958838568\n",
      "Intercept:-47116.0765749\n",
      "Intercept: -47116.0765749\n",
      "Slope: 281.958838568\n"
     ]
    }
   ],
   "source": [
    "sqft_intercept, sqft_slope = simple_linear_regression(train_data['sqft_living'],train_data['price'])\n",
    "\n",
    "print \"Intercept: \" + str(sqft_intercept)\n",
    "print \"Slope: \" + str(sqft_slope)"
   ]
  },
  {
   "cell_type": "code",
   "execution_count": 64,
   "metadata": {
    "collapsed": false
   },
   "outputs": [],
   "source": [
    "def get_regression_predictions(input_feature, sqft_intercept, sqft_slope):\n",
    "\n",
    "    predicted_values = sqft_intercept + (input_feature*sqft_slope)\n",
    "\n",
    "\n",
    "    return(predicted_values)"
   ]
  },
  {
   "cell_type": "code",
   "execution_count": 65,
   "metadata": {
    "collapsed": false
   },
   "outputs": [
    {
     "data": {
      "text/plain": [
       "700074.8456294559"
      ]
     },
     "execution_count": 65,
     "metadata": {},
     "output_type": "execute_result"
    }
   ],
   "source": [
    "get_regression_predictions(2650, sqft_intercept, sqft_slope)"
   ]
  },
  {
   "cell_type": "code",
   "execution_count": 66,
   "metadata": {
    "collapsed": true
   },
   "outputs": [],
   "source": [
    "def get_residual_sum_of_squares(input_feature, output, sqft_intercept, sqft_slope):\n",
    "    \n",
    "    # first get the predictions\n",
    "    p1 = get_regression_predictions(input_feature, sqft_intercept, sqft_slope)\n",
    "    \n",
    "    R1 = ((p1 - prices) * (p1 - prices)).sum()\n",
    "    RSS = R1.sqrt()\n",
    "    print RSS\n",
    "    return (RSS)"
   ]
  },
  {
   "cell_type": "code",
   "execution_count": 67,
   "metadata": {
    "collapsed": false
   },
   "outputs": [],
   "source": [
    "p1 = get_regression_predictions(input_feature, sqft_intercept, sqft_slope)"
   ]
  },
  {
   "cell_type": "code",
   "execution_count": 68,
   "metadata": {
    "collapsed": false
   },
   "outputs": [
    {
     "data": {
      "text/plain": [
       "dtype: float\n",
       "Rows: 17384\n",
       "[221900.0, 538000.0, 180000.0, 604000.0, 510000.0, 1225000.0, 257500.0, 291850.0, 229500.0, 323000.0, 662500.0, 468000.0, 400000.0, 530000.0, 395000.0, 485000.0, 189000.0, 230000.0, 385000.0, 2000000.0, 285000.0, 252700.0, 329000.0, 937000.0, 667000.0, 438000.0, 719000.0, 280000.0, 687500.0, 322500.0, 696000.0, 550000.0, 640000.0, 240000.0, 625000.0, 861990.0, 685000.0, 309000.0, 488000.0, 210490.0, 785000.0, 450000.0, 1350000.0, 228000.0, 345000.0, 600000.0, 585000.0, 920000.0, 885000.0, 301000.0, 951000.0, 430000.0, 650000.0, 505000.0, 549000.0, 425000.0, 317625.0, 975000.0, 287000.0, 204000.0, 1325000.0, 1040000.0, 325000.0, 360000.0, 832500.0, 380000.0, 480000.0, 410000.0, 720000.0, 390000.0, 355000.0, 356000.0, 315000.0, 940000.0, 305000.0, 461000.0, 215000.0, 335000.0, 1099880.0, 153000.0, 430000.0, 700000.0, 905000.0, 199000.0, 314000.0, 437500.0, 850830.0, 555000.0, 699950.0, 1088000.0, 290000.0, 375000.0, 460000.0, 188500.0, 680000.0, 597750.0, 570000.0, 272500.0, 329950.0, 740500.0, ... ]"
      ]
     },
     "execution_count": 68,
     "metadata": {},
     "output_type": "execute_result"
    }
   ],
   "source": [
    "prices\n"
   ]
  },
  {
   "cell_type": "code",
   "execution_count": 69,
   "metadata": {
    "collapsed": false
   },
   "outputs": [
    {
     "data": {
      "text/plain": [
       "dtype: float\n",
       "Rows: 17384\n",
       "[63695.35293494532, 139518.13854404027, -10007.770877809293, -98476.75298225321, -83425.22778120753, 256100.8284619688, 178943.33156866173, -40089.707693177974, 225270.65607556188, 162786.12831800827, 294157.3887260576, -188043.82383640856, -60832.467737192754, -66770.57876740728, 90786.12831800827, -80981.93486662308, 102234.52970629925, 75332.47163468396, 24657.241904730792, -1187141.6189434663, 307930.486973732, 1879.8806924989913, 314683.07791591703, -293316.92208408297, -319373.7025801619, -56538.641952038626, -41481.86145595973, 8414.941320622282, -77651.98271220631, 211219.1308745162, -94610.7478692371, -129064.4045525614, -21693.217555175535, 56873.70647765312, 52518.13854404027, 104535.94807592686, -289440.7000236539, 4791.236791714793, 355873.8532989799, 21533.173607083445, -186430.33625491406, -144667.52836531604, -620883.3939980717, 60414.94132062228, 496054.26491330296, -249554.114194485, -73837.57621089928, -197368.44728512864, -134172.56342835922, 334224.31275888614, -81749.85122992762, 44507.774775300466, -90904.57365439122, 158138.23777708795, -161899.46518068475, -4064.4045525614056, 416284.9062575791, -255188.0356708056, 297471.72181670123, 30842.76199276041, -469847.7931583123, 257827.58339296747, -16847.939979639137, 263945.9592161784, 87502.73971225729, 69131.47930420801, -233878.88446453185, -59554.11419448501, 205641.91648361122, 225487.19405914762, 167440.77733180847, 70574.77221879247, -91435.59154994739, -383724.1620400682, 397894.43401513284, 272909.9062575791, 191837.65351905383, -91698.47285020881, -154500.96481665014, 138234.52970629925, -31621.111637976952, -301621.11163797695, -21651.90930154291, 80956.17616359144, 149229.42123259272, 169528.42890211672, -314291.2807398068, -43837.57621089928, -129576.22011168348, -311796.26795726677, 4054.1180919761537, 237667.60567347065, -36244.8161668845, 114012.88324900699, 158234.676527626, 6458.840516439755, -261847.93997963914, 114600.53481931525, 209408.30764587014, 447363.63635156676, ... ]"
      ]
     },
     "execution_count": 69,
     "metadata": {},
     "output_type": "execute_result"
    }
   ],
   "source": [
    "p1 - prices"
   ]
  },
  {
   "cell_type": "code",
   "execution_count": 70,
   "metadata": {
    "collapsed": false
   },
   "outputs": [
    {
     "data": {
      "text/plain": [
       "1201918356321968.0"
      ]
     },
     "execution_count": 70,
     "metadata": {},
     "output_type": "execute_result"
    }
   ],
   "source": [
    "((p1 - prices) * (p1 - prices)).sum()"
   ]
  },
  {
   "cell_type": "code",
   "execution_count": 71,
   "metadata": {
    "collapsed": false
   },
   "outputs": [
    {
     "ename": "AttributeError",
     "evalue": "'float' object has no attribute 'sqrt'",
     "output_type": "error",
     "traceback": [
      "\u001b[1;31m---------------------------------------------------------------------------\u001b[0m",
      "\u001b[1;31mAttributeError\u001b[0m                            Traceback (most recent call last)",
      "\u001b[1;32m<ipython-input-71-7cce75e9f820>\u001b[0m in \u001b[0;36m<module>\u001b[1;34m()\u001b[0m\n\u001b[1;32m----> 1\u001b[1;33m \u001b[0mget_residual_sum_of_squares\u001b[0m\u001b[1;33m(\u001b[0m\u001b[0minput_feature\u001b[0m\u001b[1;33m,\u001b[0m \u001b[0moutput\u001b[0m\u001b[1;33m,\u001b[0m \u001b[0msqft_intercept\u001b[0m\u001b[1;33m,\u001b[0m \u001b[0msqft_slope\u001b[0m\u001b[1;33m)\u001b[0m\u001b[1;33m\u001b[0m\u001b[0m\n\u001b[0m",
      "\u001b[1;32m<ipython-input-66-15cb34ca8f7b>\u001b[0m in \u001b[0;36mget_residual_sum_of_squares\u001b[1;34m(input_feature, output, sqft_intercept, sqft_slope)\u001b[0m\n\u001b[0;32m      5\u001b[0m \u001b[1;33m\u001b[0m\u001b[0m\n\u001b[0;32m      6\u001b[0m     \u001b[0mR1\u001b[0m \u001b[1;33m=\u001b[0m \u001b[1;33m(\u001b[0m\u001b[1;33m(\u001b[0m\u001b[0mp1\u001b[0m \u001b[1;33m-\u001b[0m \u001b[0mprices\u001b[0m\u001b[1;33m)\u001b[0m \u001b[1;33m*\u001b[0m \u001b[1;33m(\u001b[0m\u001b[0mp1\u001b[0m \u001b[1;33m-\u001b[0m \u001b[0mprices\u001b[0m\u001b[1;33m)\u001b[0m\u001b[1;33m)\u001b[0m\u001b[1;33m.\u001b[0m\u001b[0msum\u001b[0m\u001b[1;33m(\u001b[0m\u001b[1;33m)\u001b[0m\u001b[1;33m\u001b[0m\u001b[0m\n\u001b[1;32m----> 7\u001b[1;33m     \u001b[0mRSS\u001b[0m \u001b[1;33m=\u001b[0m \u001b[0mR1\u001b[0m\u001b[1;33m.\u001b[0m\u001b[0msqrt\u001b[0m\u001b[1;33m(\u001b[0m\u001b[1;33m)\u001b[0m\u001b[1;33m\u001b[0m\u001b[0m\n\u001b[0m\u001b[0;32m      8\u001b[0m     \u001b[1;32mprint\u001b[0m \u001b[0mRSS\u001b[0m\u001b[1;33m\u001b[0m\u001b[0m\n\u001b[0;32m      9\u001b[0m     \u001b[1;32mreturn\u001b[0m \u001b[1;33m(\u001b[0m\u001b[0mRSS\u001b[0m\u001b[1;33m)\u001b[0m\u001b[1;33m\u001b[0m\u001b[0m\n",
      "\u001b[1;31mAttributeError\u001b[0m: 'float' object has no attribute 'sqrt'"
     ]
    }
   ],
   "source": [
    "get_residual_sum_of_squares(input_feature, output, sqft_intercept, sqft_slope)"
   ]
  },
  {
   "cell_type": "code",
   "execution_count": null,
   "metadata": {
    "collapsed": false
   },
   "outputs": [],
   "source": [
    "def inverse_regression_predictions(output, sqft_intercept, sqft_slope):\n",
    "    estimated_input = (800000 - sqft_intercept)/sqft_slope\n",
    "    return(estimated_input)"
   ]
  },
  {
   "cell_type": "code",
   "execution_count": 74,
   "metadata": {
    "collapsed": false
   },
   "outputs": [
    {
     "data": {
      "text/plain": [
       "3004.396247615957"
      ]
     },
     "execution_count": 74,
     "metadata": {},
     "output_type": "execute_result"
    }
   ],
   "source": [
    "inverse_regression_predictions(output, sqft_intercept, sqft_slope)\n"
   ]
  },
  {
   "cell_type": "code",
   "execution_count": null,
   "metadata": {
    "collapsed": true
   },
   "outputs": [],
   "source": [
    "pricess = test_data['price']\n",
    "sqft = test_data['sqft_living']\n",
    "brooms = test_data['bedrooms']"
   ]
  },
  {
   "cell_type": "code",
   "execution_count": null,
   "metadata": {
    "collapsed": false
   },
   "outputs": [],
   "source": [
    "def sll1(pricess, sqft):\n",
    "    #mean of x*y\n",
    "    u1 = pricess*sqft\n",
    "    m1 = u1.mean()\n",
    "    print m1\n",
    "    \n",
    "    #mean of x * mean of y\n",
    "    u2 = pricess.mean()\n",
    "    u3 = sqft.mean()\n",
    "    m2 = u2*u3\n",
    "    print m2\n",
    "    \n",
    "    \n",
    "    #mean of x2\n",
    "    u4 = pricess*pricess\n",
    "    m3 = u4.mean()\n",
    "    print m3\n",
    "    \n",
    "    \n",
    "    #mean of x * mean of x\n",
    "    m4 = u2*u2.mean()\n",
    "    print m4\n",
    "    \n",
    "    #slope\n",
    "    slope1 = (m1-m2)/(m3-m4)\n",
    "    \n",
    "    #intercept\n",
    "    intercept1 = pricess - (slope *(sqft))\n",
    "                        \n",
    "    return(slope1, intercept1)    \n",
    "    "
   ]
  },
  {
   "cell_type": "code",
   "execution_count": 72,
   "metadata": {
    "collapsed": false
   },
   "outputs": [
    {
     "name": "stdout",
     "output_type": "stream",
     "text": [
      "1354492949.23\n",
      "1129208264.57\n",
      "5143170.01561\n",
      "4323764.12825\n",
      "slope:274.936619499\n",
      "Intercept:-28639.8932833\n"
     ]
    },
    {
     "data": {
      "text/plain": [
       "(-28639.893283265992, 274.93661949942594)"
      ]
     },
     "execution_count": 72,
     "metadata": {},
     "output_type": "execute_result"
    }
   ],
   "source": [
    "simple_linear_regression(test_data['sqft_living'],test_data['price'])"
   ]
  },
  {
   "cell_type": "code",
   "execution_count": 73,
   "metadata": {
    "collapsed": false
   },
   "outputs": [
    {
     "name": "stdout",
     "output_type": "stream",
     "text": [
      "1361381549.01\n",
      "1121898503.35\n",
      "5175877.39433\n",
      "4326522.76203\n",
      "slope:281.958838568\n",
      "Intercept:-47116.0765749\n"
     ]
    },
    {
     "data": {
      "text/plain": [
       "(-47116.07657493383, 281.9588385676942)"
      ]
     },
     "execution_count": 73,
     "metadata": {},
     "output_type": "execute_result"
    }
   ],
   "source": [
    "simple_linear_regression(train_data['sqft_living'],train_data['price'])"
   ]
  },
  {
   "cell_type": "code",
   "execution_count": null,
   "metadata": {
    "collapsed": true
   },
   "outputs": [],
   "source": []
  }
 ],
 "metadata": {
  "kernelspec": {
   "display_name": "Python 2",
   "language": "python",
   "name": "python2"
  },
  "language_info": {
   "codemirror_mode": {
    "name": "ipython",
    "version": 2
   },
   "file_extension": ".py",
   "mimetype": "text/x-python",
   "name": "python",
   "nbconvert_exporter": "python",
   "pygments_lexer": "ipython2",
   "version": "2.7.11"
  }
 },
 "nbformat": 4,
 "nbformat_minor": 0
}
